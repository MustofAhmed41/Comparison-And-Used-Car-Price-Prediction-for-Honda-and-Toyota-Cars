{
 "cells": [
  {
   "cell_type": "markdown",
   "id": "UCQjMxnkD39T",
   "metadata": {
    "id": "UCQjMxnkD39T"
   },
   "source": [
    "## **Importing Library**"
   ]
  },
  {
   "cell_type": "code",
   "execution_count": 1,
   "id": "657c872f",
   "metadata": {
    "id": "657c872f"
   },
   "outputs": [],
   "source": [
    "import pandas as pd\n",
    "import numpy as np\n",
    "import matplotlib.pyplot as plt\n",
    "import seaborn as sns\n",
    "from sklearn.model_selection import train_test_split\n",
    "from sklearn.linear_model import LinearRegression\n",
    "from sklearn.preprocessing import StandardScaler\n",
    "from sklearn.preprocessing import MinMaxScaler\n",
    "from sklearn.ensemble import RandomForestRegressor\n",
    "from sklearn.model_selection import cross_val_score\n",
    "from sklearn.linear_model import BayesianRidge\n",
    "from sklearn.model_selection import cross_val_score\n",
    "from sklearn.model_selection import train_test_split\n",
    "from sklearn.ensemble import VotingRegressor\n",
    "from sklearn.tree import DecisionTreeRegressor\n",
    "from sklearn.neighbors import KNeighborsRegressor\n",
    "from sklearn.metrics import mean_absolute_percentage_error\n",
    "from sklearn import metrics\n",
    "pd.set_option('display.max_columns', None)\n",
    "pd.set_option('display.max_rows', None)\n",
    "%matplotlib inline"
   ]
  },
  {
   "cell_type": "markdown",
   "id": "c1108db4",
   "metadata": {},
   "source": [
    "## **When running in Google Colab**"
   ]
  },
  {
   "cell_type": "code",
   "execution_count": 2,
   "id": "mmnp6jbf4Sxz",
   "metadata": {
    "colab": {
     "base_uri": "https://localhost:8080/"
    },
    "id": "mmnp6jbf4Sxz",
    "outputId": "7dec84e7-cb2c-470a-8ef0-f5a920112cc2"
   },
   "outputs": [],
   "source": [
    "#from google.colab import drive\n",
    "#drive.mount('/content/drive')"
   ]
  },
  {
   "cell_type": "code",
   "execution_count": 3,
   "id": "h5dCtsOX4f4j",
   "metadata": {
    "colab": {
     "base_uri": "https://localhost:8080/"
    },
    "id": "h5dCtsOX4f4j",
    "outputId": "a150544d-ab6d-411f-f1b2-29f7998fb87e"
   },
   "outputs": [],
   "source": [
    "#cd'/content/drive/MyDrive/Colab Notebooks'"
   ]
  },
  {
   "cell_type": "markdown",
   "id": "toy6kuH_dtxi",
   "metadata": {
    "id": "toy6kuH_dtxi"
   },
   "source": [
    "## **Importing Dataset**"
   ]
  },
  {
   "cell_type": "code",
   "execution_count": 4,
   "id": "b9bd8ead",
   "metadata": {},
   "outputs": [],
   "source": [
    "#jupyter notebook\n",
    "data = pd.read_excel(\"CSE 4108 Data for Used Car Price Predction.xlsx\")"
   ]
  },
  {
   "cell_type": "code",
   "execution_count": 5,
   "id": "f2c92446",
   "metadata": {
    "id": "f2c92446"
   },
   "outputs": [],
   "source": [
    "#for colab\n",
    "#data = pd.read_excel(\"used_car_data.xlsx\")"
   ]
  },
  {
   "cell_type": "code",
   "execution_count": 6,
   "id": "ad664a93",
   "metadata": {
    "colab": {
     "base_uri": "https://localhost:8080/",
     "height": 205
    },
    "id": "ad664a93",
    "outputId": "b26858fb-292e-4679-9b99-8fbfaea73394"
   },
   "outputs": [
    {
     "data": {
      "text/html": [
       "<div>\n",
       "<style scoped>\n",
       "    .dataframe tbody tr th:only-of-type {\n",
       "        vertical-align: middle;\n",
       "    }\n",
       "\n",
       "    .dataframe tbody tr th {\n",
       "        vertical-align: top;\n",
       "    }\n",
       "\n",
       "    .dataframe thead th {\n",
       "        text-align: right;\n",
       "    }\n",
       "</style>\n",
       "<table border=\"1\" class=\"dataframe\">\n",
       "  <thead>\n",
       "    <tr style=\"text-align: right;\">\n",
       "      <th></th>\n",
       "      <th>Brand</th>\n",
       "      <th>Model</th>\n",
       "      <th>MPG</th>\n",
       "      <th>Engine Type</th>\n",
       "      <th>Drive Type</th>\n",
       "      <th>Milleage</th>\n",
       "      <th>horsepower</th>\n",
       "      <th>year</th>\n",
       "      <th>Exterior Color</th>\n",
       "      <th>Passenger Capacity</th>\n",
       "      <th>Price</th>\n",
       "    </tr>\n",
       "  </thead>\n",
       "  <tbody>\n",
       "    <tr>\n",
       "      <th>0</th>\n",
       "      <td>Honda</td>\n",
       "      <td>Accord Hybrid Touring</td>\n",
       "      <td>48 city / 48 hwy</td>\n",
       "      <td>4-cyl, Hybrid, 2.0L</td>\n",
       "      <td>2WD, Front Wheel Drive</td>\n",
       "      <td>8</td>\n",
       "      <td>212</td>\n",
       "      <td>2019</td>\n",
       "      <td>White</td>\n",
       "      <td>5</td>\n",
       "      <td>37998</td>\n",
       "    </tr>\n",
       "    <tr>\n",
       "      <th>1</th>\n",
       "      <td>Honda</td>\n",
       "      <td>Accord Hybrid EX-L</td>\n",
       "      <td>50 city / 45 hwy</td>\n",
       "      <td>4-cyl, Hybrid, 2.0L</td>\n",
       "      <td>2WD, Front Wheel Drive</td>\n",
       "      <td>93</td>\n",
       "      <td>195</td>\n",
       "      <td>2015</td>\n",
       "      <td>Gray</td>\n",
       "      <td>5</td>\n",
       "      <td>21998</td>\n",
       "    </tr>\n",
       "    <tr>\n",
       "      <th>2</th>\n",
       "      <td>Honda</td>\n",
       "      <td>Accord Hybrid EX-L</td>\n",
       "      <td>49 city / 47 hwy</td>\n",
       "      <td>4-cyl, Hybrid, 2.0L</td>\n",
       "      <td>2WD, Front Wheel Drive</td>\n",
       "      <td>36</td>\n",
       "      <td>212</td>\n",
       "      <td>2017</td>\n",
       "      <td>silver</td>\n",
       "      <td>5</td>\n",
       "      <td>28998</td>\n",
       "    </tr>\n",
       "    <tr>\n",
       "      <th>3</th>\n",
       "      <td>Honda</td>\n",
       "      <td>Accord Hybrid</td>\n",
       "      <td>48 city / 47 hwy</td>\n",
       "      <td>4-cyl, Hybrid, 2.0L</td>\n",
       "      <td>2WD, Front Wheel Drive</td>\n",
       "      <td>29</td>\n",
       "      <td>212</td>\n",
       "      <td>2020</td>\n",
       "      <td>Gray</td>\n",
       "      <td>5</td>\n",
       "      <td>29998</td>\n",
       "    </tr>\n",
       "    <tr>\n",
       "      <th>4</th>\n",
       "      <td>Honda</td>\n",
       "      <td>Accord Hybrid Touring</td>\n",
       "      <td>48 city / 47 hwy</td>\n",
       "      <td>4-cyl, Hybrid, 2.0L</td>\n",
       "      <td>2WD, Front Wheel Drive</td>\n",
       "      <td>16</td>\n",
       "      <td>212</td>\n",
       "      <td>2020</td>\n",
       "      <td>White</td>\n",
       "      <td>5</td>\n",
       "      <td>36998</td>\n",
       "    </tr>\n",
       "  </tbody>\n",
       "</table>\n",
       "</div>"
      ],
      "text/plain": [
       "   Brand                  Model               MPG          Engine Type  \\\n",
       "0  Honda  Accord Hybrid Touring  48 city / 48 hwy  4-cyl, Hybrid, 2.0L   \n",
       "1  Honda     Accord Hybrid EX-L  50 city / 45 hwy  4-cyl, Hybrid, 2.0L   \n",
       "2  Honda     Accord Hybrid EX-L  49 city / 47 hwy  4-cyl, Hybrid, 2.0L   \n",
       "3  Honda          Accord Hybrid  48 city / 47 hwy  4-cyl, Hybrid, 2.0L   \n",
       "4  Honda  Accord Hybrid Touring  48 city / 47 hwy  4-cyl, Hybrid, 2.0L   \n",
       "\n",
       "               Drive Type  Milleage  horsepower  year Exterior Color  \\\n",
       "0  2WD, Front Wheel Drive         8         212  2019          White   \n",
       "1  2WD, Front Wheel Drive        93         195  2015           Gray   \n",
       "2  2WD, Front Wheel Drive        36         212  2017         silver   \n",
       "3  2WD, Front Wheel Drive        29         212  2020           Gray   \n",
       "4  2WD, Front Wheel Drive        16         212  2020          White   \n",
       "\n",
       "   Passenger Capacity  Price  \n",
       "0                   5  37998  \n",
       "1                   5  21998  \n",
       "2                   5  28998  \n",
       "3                   5  29998  \n",
       "4                   5  36998  "
      ]
     },
     "execution_count": 6,
     "metadata": {},
     "output_type": "execute_result"
    }
   ],
   "source": [
    "data.head()"
   ]
  },
  {
   "cell_type": "code",
   "execution_count": 7,
   "id": "59b1597c",
   "metadata": {
    "colab": {
     "base_uri": "https://localhost:8080/"
    },
    "id": "59b1597c",
    "outputId": "03c6b651-f873-4776-ab15-9ec9f8e18fad"
   },
   "outputs": [
    {
     "data": {
      "text/plain": [
       "Index(['Brand', 'Model', 'MPG', 'Engine Type', 'Drive Type', 'Milleage',\n",
       "       'horsepower', 'year', 'Exterior Color', 'Passenger Capacity', 'Price'],\n",
       "      dtype='object')"
      ]
     },
     "execution_count": 7,
     "metadata": {},
     "output_type": "execute_result"
    }
   ],
   "source": [
    "data.columns"
   ]
  },
  {
   "cell_type": "code",
   "execution_count": 8,
   "id": "068681e8",
   "metadata": {
    "colab": {
     "base_uri": "https://localhost:8080/",
     "height": 300
    },
    "id": "068681e8",
    "outputId": "ebbc2aaa-6df8-4223-d4d6-832e03e520a9"
   },
   "outputs": [
    {
     "data": {
      "text/html": [
       "<div>\n",
       "<style scoped>\n",
       "    .dataframe tbody tr th:only-of-type {\n",
       "        vertical-align: middle;\n",
       "    }\n",
       "\n",
       "    .dataframe tbody tr th {\n",
       "        vertical-align: top;\n",
       "    }\n",
       "\n",
       "    .dataframe thead th {\n",
       "        text-align: right;\n",
       "    }\n",
       "</style>\n",
       "<table border=\"1\" class=\"dataframe\">\n",
       "  <thead>\n",
       "    <tr style=\"text-align: right;\">\n",
       "      <th></th>\n",
       "      <th>Milleage</th>\n",
       "      <th>horsepower</th>\n",
       "      <th>year</th>\n",
       "      <th>Passenger Capacity</th>\n",
       "      <th>Price</th>\n",
       "    </tr>\n",
       "  </thead>\n",
       "  <tbody>\n",
       "    <tr>\n",
       "      <th>count</th>\n",
       "      <td>434.000000</td>\n",
       "      <td>434.000000</td>\n",
       "      <td>434.000000</td>\n",
       "      <td>434.000000</td>\n",
       "      <td>434.000000</td>\n",
       "    </tr>\n",
       "    <tr>\n",
       "      <th>mean</th>\n",
       "      <td>41.299539</td>\n",
       "      <td>222.490783</td>\n",
       "      <td>2017.698157</td>\n",
       "      <td>5.391705</td>\n",
       "      <td>31646.850230</td>\n",
       "    </tr>\n",
       "    <tr>\n",
       "      <th>std</th>\n",
       "      <td>29.843126</td>\n",
       "      <td>66.340859</td>\n",
       "      <td>2.696957</td>\n",
       "      <td>0.900872</td>\n",
       "      <td>9439.757983</td>\n",
       "    </tr>\n",
       "    <tr>\n",
       "      <th>min</th>\n",
       "      <td>1.000000</td>\n",
       "      <td>95.000000</td>\n",
       "      <td>2010.000000</td>\n",
       "      <td>5.000000</td>\n",
       "      <td>13998.000000</td>\n",
       "    </tr>\n",
       "    <tr>\n",
       "      <th>25%</th>\n",
       "      <td>19.000000</td>\n",
       "      <td>176.000000</td>\n",
       "      <td>2016.000000</td>\n",
       "      <td>5.000000</td>\n",
       "      <td>23998.000000</td>\n",
       "    </tr>\n",
       "    <tr>\n",
       "      <th>50%</th>\n",
       "      <td>35.000000</td>\n",
       "      <td>212.000000</td>\n",
       "      <td>2018.000000</td>\n",
       "      <td>5.000000</td>\n",
       "      <td>29998.000000</td>\n",
       "    </tr>\n",
       "    <tr>\n",
       "      <th>75%</th>\n",
       "      <td>56.750000</td>\n",
       "      <td>278.000000</td>\n",
       "      <td>2020.000000</td>\n",
       "      <td>5.000000</td>\n",
       "      <td>38998.000000</td>\n",
       "    </tr>\n",
       "    <tr>\n",
       "      <th>max</th>\n",
       "      <td>128.000000</td>\n",
       "      <td>381.000000</td>\n",
       "      <td>2022.000000</td>\n",
       "      <td>8.000000</td>\n",
       "      <td>67998.000000</td>\n",
       "    </tr>\n",
       "  </tbody>\n",
       "</table>\n",
       "</div>"
      ],
      "text/plain": [
       "         Milleage  horsepower         year  Passenger Capacity         Price\n",
       "count  434.000000  434.000000   434.000000          434.000000    434.000000\n",
       "mean    41.299539  222.490783  2017.698157            5.391705  31646.850230\n",
       "std     29.843126   66.340859     2.696957            0.900872   9439.757983\n",
       "min      1.000000   95.000000  2010.000000            5.000000  13998.000000\n",
       "25%     19.000000  176.000000  2016.000000            5.000000  23998.000000\n",
       "50%     35.000000  212.000000  2018.000000            5.000000  29998.000000\n",
       "75%     56.750000  278.000000  2020.000000            5.000000  38998.000000\n",
       "max    128.000000  381.000000  2022.000000            8.000000  67998.000000"
      ]
     },
     "execution_count": 8,
     "metadata": {},
     "output_type": "execute_result"
    }
   ],
   "source": [
    "data.describe()"
   ]
  },
  {
   "cell_type": "code",
   "execution_count": 9,
   "id": "b14de943",
   "metadata": {
    "colab": {
     "base_uri": "https://localhost:8080/"
    },
    "id": "b14de943",
    "outputId": "f93eec09-cecc-45e9-ae85-0d518d7158c0",
    "scrolled": true
   },
   "outputs": [
    {
     "name": "stdout",
     "output_type": "stream",
     "text": [
      "<class 'pandas.core.frame.DataFrame'>\n",
      "RangeIndex: 434 entries, 0 to 433\n",
      "Data columns (total 11 columns):\n",
      " #   Column              Non-Null Count  Dtype \n",
      "---  ------              --------------  ----- \n",
      " 0   Brand               434 non-null    object\n",
      " 1   Model               434 non-null    object\n",
      " 2   MPG                 434 non-null    object\n",
      " 3   Engine Type         434 non-null    object\n",
      " 4   Drive Type          434 non-null    object\n",
      " 5   Milleage            434 non-null    int64 \n",
      " 6   horsepower          434 non-null    int64 \n",
      " 7   year                434 non-null    int64 \n",
      " 8   Exterior Color      434 non-null    object\n",
      " 9   Passenger Capacity  434 non-null    int64 \n",
      " 10  Price               434 non-null    int64 \n",
      "dtypes: int64(5), object(6)\n",
      "memory usage: 37.4+ KB\n"
     ]
    }
   ],
   "source": [
    "data.info()"
   ]
  },
  {
   "cell_type": "markdown",
   "id": "8W7BGB-ad5df",
   "metadata": {
    "id": "8W7BGB-ad5df"
   },
   "source": [
    "# **Data Visualization**"
   ]
  },
  {
   "cell_type": "markdown",
   "id": "05AWmD9OFV2z",
   "metadata": {
    "id": "05AWmD9OFV2z"
   },
   "source": [
    "## Correlations with Price"
   ]
  },
  {
   "cell_type": "code",
   "execution_count": 10,
   "id": "fdd6f9ef",
   "metadata": {
    "colab": {
     "base_uri": "https://localhost:8080/",
     "height": 457
    },
    "id": "fdd6f9ef",
    "outputId": "5b2cc395-8e8e-49ef-b0d1-a77518b09cb5"
   },
   "outputs": [
    {
     "data": {
      "text/plain": [
       "<seaborn.axisgrid.JointGrid at 0x1fa12f85b20>"
      ]
     },
     "execution_count": 10,
     "metadata": {},
     "output_type": "execute_result"
    },
    {
     "data": {
      "image/png": "[encoded data removed]",
      "text/plain": [
       "<Figure size 432x432 with 3 Axes>"
      ]
     },
     "metadata": {
      "needs_background": "light"
     },
     "output_type": "display_data"
    }
   ],
   "source": [
    "sns.jointplot(x='Milleage',y='Price',data=data,kind='reg')"
   ]
  },
  {
   "cell_type": "code",
   "execution_count": 11,
   "id": "234093ab",
   "metadata": {
    "colab": {
     "base_uri": "https://localhost:8080/",
     "height": 457
    },
    "id": "234093ab",
    "outputId": "6af17738-e2b3-4549-e0f1-aefc56d2e5a0",
    "scrolled": true
   },
   "outputs": [
    {
     "data": {
      "text/plain": [
       "<seaborn.axisgrid.JointGrid at 0x1fa18090be0>"
      ]
     },
     "execution_count": 11,
     "metadata": {},
     "output_type": "execute_result"
    },
    {
     "data": {
      "image/png": "[encoded data removed]",
      "text/plain": [
       "<Figure size 432x432 with 3 Axes>"
      ]
     },
     "metadata": {
      "needs_background": "light"
     },
     "output_type": "display_data"
    }
   ],
   "source": [
    "sns.jointplot(x='Price',y='horsepower',data=data,kind='reg')"
   ]
  },
  {
   "cell_type": "code",
   "execution_count": 12,
   "id": "b4e33ecf",
   "metadata": {
    "colab": {
     "base_uri": "https://localhost:8080/",
     "height": 457
    },
    "id": "b4e33ecf",
    "outputId": "bcb26440-28c9-4033-cf49-f7cf254bd019",
    "scrolled": true
   },
   "outputs": [
    {
     "data": {
      "text/plain": [
       "<seaborn.axisgrid.JointGrid at 0x1fa192a3040>"
      ]
     },
     "execution_count": 12,
     "metadata": {},
     "output_type": "execute_result"
    },
    {
     "data": {
      "image/png": "[encoded data removed]",
      "text/plain": [
       "<Figure size 432x432 with 3 Axes>"
      ]
     },
     "metadata": {
      "needs_background": "light"
     },
     "output_type": "display_data"
    }
   ],
   "source": [
    "sns.jointplot(x='Price',y='year',data=data,kind='reg')"
   ]
  },
  {
   "cell_type": "code",
   "execution_count": 13,
   "id": "xvyaMFngEuyc",
   "metadata": {
    "colab": {
     "base_uri": "https://localhost:8080/",
     "height": 1000
    },
    "id": "xvyaMFngEuyc",
    "outputId": "c36ac8fc-4a37-4421-e1cd-efda003c5b47"
   },
   "outputs": [
    {
     "data": {
      "text/plain": [
       "<AxesSubplot:xlabel='Exterior Color', ylabel='Price'>"
      ]
     },
     "execution_count": 13,
     "metadata": {},
     "output_type": "execute_result"
    },
    {
     "data": {
      "image/png": "[encoded data removed]",
      "text/plain": [
       "<Figure size 1130.4x1315.44 with 1 Axes>"
      ]
     },
     "metadata": {},
     "output_type": "display_data"
    }
   ],
   "source": [
    "sns.set(rc={'figure.figsize':(15.7,18.27)})\n",
    "sns.barplot(x='Exterior Color', y = 'Price', data=data)"
   ]
  },
  {
   "cell_type": "code",
   "execution_count": 14,
   "id": "PRFwk5JKUaA2",
   "metadata": {
    "colab": {
     "base_uri": "https://localhost:8080/",
     "height": 584
    },
    "id": "PRFwk5JKUaA2",
    "outputId": "08e48b99-8afc-4b88-95a7-fcc36fc0df34"
   },
   "outputs": [
    {
     "name": "stderr",
     "output_type": "stream",
     "text": [
      "D:\\Anaconda3\\lib\\site-packages\\seaborn\\distributions.py:2619: FutureWarning: `distplot` is a deprecated function and will be removed in a future version. Please adapt your code to use either `displot` (a figure-level function with similar flexibility) or `histplot` (an axes-level function for histograms).\n",
      "  warnings.warn(msg, FutureWarning)\n"
     ]
    },
    {
     "data": {
      "text/plain": [
       "<AxesSubplot:xlabel='Price', ylabel='Density'>"
      ]
     },
     "execution_count": 14,
     "metadata": {},
     "output_type": "execute_result"
    },
    {
     "data": {
      "image/png": "[encoded data removed]",
      "text/plain": [
       "<Figure size 576x576 with 1 Axes>"
      ]
     },
     "metadata": {},
     "output_type": "display_data"
    }
   ],
   "source": [
    "sns.set(rc={'figure.figsize':(8,8)})\n",
    "sns.distplot(data['Price'])"
   ]
  },
  {
   "cell_type": "markdown",
   "id": "lmNXWXkvB0BD",
   "metadata": {
    "id": "lmNXWXkvB0BD"
   },
   "source": [
    "## Toyota Vs Honda"
   ]
  },
  {
   "cell_type": "code",
   "execution_count": 15,
   "id": "6d12de0c",
   "metadata": {
    "id": "6d12de0c"
   },
   "outputs": [],
   "source": [
    "df_toyota = data[data['Brand'] == 'Toyota']"
   ]
  },
  {
   "cell_type": "code",
   "execution_count": 16,
   "id": "RFA28i9IB8Sy",
   "metadata": {
    "id": "RFA28i9IB8Sy"
   },
   "outputs": [],
   "source": [
    "df_honda = data[data['Brand'] == 'Honda']"
   ]
  },
  {
   "cell_type": "code",
   "execution_count": 17,
   "id": "NBGWOYqVB8a4",
   "metadata": {
    "colab": {
     "base_uri": "https://localhost:8080/",
     "height": 751
    },
    "id": "NBGWOYqVB8a4",
    "outputId": "8d460927-8f19-4459-dd0a-7b4acbe12f51"
   },
   "outputs": [
    {
     "data": {
      "text/plain": [
       "<AxesSubplot:xlabel='year', ylabel='Price'>"
      ]
     },
     "execution_count": 17,
     "metadata": {},
     "output_type": "execute_result"
    },
    {
     "data": {
      "image/png": "[encoded data removed]",
      "text/plain": [
       "<Figure size 626.4x883.44 with 1 Axes>"
      ]
     },
     "metadata": {},
     "output_type": "display_data"
    }
   ],
   "source": [
    "sns.set(rc={'figure.figsize':(8.7,12.27)})\n",
    "sns.lineplot(data=data, x=\"year\", y=\"Price\", hue='Brand', style='Brand')"
   ]
  },
  {
   "cell_type": "code",
   "execution_count": 18,
   "id": "jB_zMRzkB9qj",
   "metadata": {
    "colab": {
     "base_uri": "https://localhost:8080/",
     "height": 751
    },
    "id": "jB_zMRzkB9qj",
    "outputId": "64ea6f5c-6b94-4cbd-c1ed-06422deeff6a"
   },
   "outputs": [
    {
     "data": {
      "text/plain": [
       "<AxesSubplot:xlabel='year', ylabel='Milleage'>"
      ]
     },
     "execution_count": 18,
     "metadata": {},
     "output_type": "execute_result"
    },
    {
     "data": {
      "image/png": "[encoded data removed]",
      "text/plain": [
       "<Figure size 626.4x883.44 with 1 Axes>"
      ]
     },
     "metadata": {},
     "output_type": "display_data"
    }
   ],
   "source": [
    "sns.set(rc={'figure.figsize':(8.7,12.27)})\n",
    "sns.lineplot(data=data, x=\"year\", y=\"Milleage\", style='Brand')"
   ]
  },
  {
   "cell_type": "code",
   "execution_count": 19,
   "id": "06ii1L5VB9tT",
   "metadata": {
    "colab": {
     "base_uri": "https://localhost:8080/",
     "height": 382
    },
    "id": "06ii1L5VB9tT",
    "outputId": "07d8740b-5839-4215-b4b7-9ed6b14cc5a6"
   },
   "outputs": [
    {
     "data": {
      "text/plain": [
       "<seaborn.axisgrid.FacetGrid at 0x1fa193e3190>"
      ]
     },
     "execution_count": 19,
     "metadata": {},
     "output_type": "execute_result"
    },
    {
     "data": {
      "image/png": "[encoded data removed]",
      "text/plain": [
       "<Figure size 432.1x360 with 1 Axes>"
      ]
     },
     "metadata": {},
     "output_type": "display_data"
    }
   ],
   "source": [
    "sns.lmplot(y='Price', x='Milleage', data=data, hue='Brand',markers=['o','v'])"
   ]
  },
  {
   "cell_type": "code",
   "execution_count": 20,
   "id": "ih210yXNB9wa",
   "metadata": {
    "colab": {
     "base_uri": "https://localhost:8080/",
     "height": 382
    },
    "id": "ih210yXNB9wa",
    "outputId": "4336d1b4-75d2-4543-d552-91288cabea81"
   },
   "outputs": [
    {
     "data": {
      "text/plain": [
       "<seaborn.axisgrid.FacetGrid at 0x1fa19a2df70>"
      ]
     },
     "execution_count": 20,
     "metadata": {},
     "output_type": "execute_result"
    },
    {
     "data": {
      "image/png": "[encoded data removed]",
      "text/plain": [
       "<Figure size 432.1x360 with 1 Axes>"
      ]
     },
     "metadata": {},
     "output_type": "display_data"
    }
   ],
   "source": [
    "sns.lmplot(y='Price', x='year', data=data, hue='Brand', palette='magma')"
   ]
  },
  {
   "cell_type": "code",
   "execution_count": 21,
   "id": "9NZzYUfdB9ze",
   "metadata": {
    "colab": {
     "base_uri": "https://localhost:8080/",
     "height": 751
    },
    "id": "9NZzYUfdB9ze",
    "outputId": "486035fa-2f28-4b7f-dc09-de828541095f"
   },
   "outputs": [
    {
     "data": {
      "text/plain": [
       "<AxesSubplot:xlabel='year', ylabel='Price'>"
      ]
     },
     "execution_count": 21,
     "metadata": {},
     "output_type": "execute_result"
    },
    {
     "data": {
      "image/png": "[encoded data removed]",
      "text/plain": [
       "<Figure size 626.4x883.44 with 1 Axes>"
      ]
     },
     "metadata": {},
     "output_type": "display_data"
    }
   ],
   "source": [
    "sns.boxplot(x='year', y='Price', data=data, hue='Brand')"
   ]
  },
  {
   "cell_type": "markdown",
   "id": "vWQ93klWeHhS",
   "metadata": {
    "id": "vWQ93klWeHhS"
   },
   "source": [
    "# Data Preprocesssing"
   ]
  },
  {
   "cell_type": "code",
   "execution_count": 22,
   "id": "de49a10e",
   "metadata": {
    "id": "de49a10e"
   },
   "outputs": [],
   "source": [
    "data1 = data.copy()"
   ]
  },
  {
   "cell_type": "code",
   "execution_count": 23,
   "id": "e30ca69b",
   "metadata": {
    "colab": {
     "base_uri": "https://localhost:8080/"
    },
    "id": "e30ca69b",
    "outputId": "e53a2cff-748c-4bdc-9e6c-2954c413a7b2"
   },
   "outputs": [
    {
     "data": {
      "text/plain": [
       "2WD, Front Wheel Drive       227\n",
       "4WD/AWD, All Wheel Drive      75\n",
       "4WD/AWD, Four Wheel Drive     55\n",
       "4WD/AWD, All Wheel            54\n",
       "2WD, Rear Wheel Drive         11\n",
       "4WD                            6\n",
       "2WD                            5\n",
       "4WD/AWD, 4-Wheel Drive         1\n",
       "Name: Drive Type, dtype: int64"
      ]
     },
     "execution_count": 23,
     "metadata": {},
     "output_type": "execute_result"
    }
   ],
   "source": [
    "data1['Drive Type'].value_counts()"
   ]
  },
  {
   "cell_type": "code",
   "execution_count": 24,
   "id": "f0f0b4da",
   "metadata": {
    "colab": {
     "base_uri": "https://localhost:8080/"
    },
    "id": "f0f0b4da",
    "outputId": "fe3c7b24-da70-47ac-deae-d525facf0e5e",
    "scrolled": true
   },
   "outputs": [
    {
     "data": {
      "text/plain": [
       "6-cyl, Gas, 3.5L          137\n",
       "4-cyl, Gas, 1.8L           43\n",
       "4-cyl, Hybrid, 2.0L        40\n",
       "4-cyl, Gas, 2.5L           37\n",
       "4-cyl, Turbo Gas, 1.5L     35\n",
       "4-cyl, Gas, 2.4L           26\n",
       "4-cyl, Gas, 1.5L           20\n",
       "6-cyl, Gas, 4.0L           20\n",
       "4-cyl, Hybrid, 1.8L        20\n",
       "8-cyl, Gas, 5.7L           18\n",
       "4-cyl, Hybrid, 2.5L        14\n",
       "4-cyl, Gas, 2.0L           13\n",
       "6-cyl, Hybrid, 3.5L         6\n",
       "4-cyl, Turbo Gas, 2.0L      3\n",
       "8-cyl, Gas, 4.6L            2\n",
       "Name: Engine Type, dtype: int64"
      ]
     },
     "execution_count": 24,
     "metadata": {},
     "output_type": "execute_result"
    }
   ],
   "source": [
    "data1['Engine Type'].value_counts()"
   ]
  },
  {
   "cell_type": "markdown",
   "id": "ShT09gadeSLG",
   "metadata": {
    "id": "ShT09gadeSLG"
   },
   "source": [
    "## Generating new features from existing ones"
   ]
  },
  {
   "cell_type": "code",
   "execution_count": 25,
   "id": "f0989f4d",
   "metadata": {
    "colab": {
     "base_uri": "https://localhost:8080/",
     "height": 423
    },
    "id": "f0989f4d",
    "outputId": "f001fe56-8999-4a22-b643-c7830a5c031e"
   },
   "outputs": [
    {
     "name": "stderr",
     "output_type": "stream",
     "text": [
      "C:\\Users\\USER\\AppData\\Local\\Temp/ipykernel_10500/1433163853.py:5: FutureWarning: The default value of regex will change from True to False in a future version.\n",
      "  data1['MPG1'] = data1['MPG1'].str.replace(\"\\scity\", \"\")\n",
      "C:\\Users\\USER\\AppData\\Local\\Temp/ipykernel_10500/1433163853.py:6: FutureWarning: The default value of regex will change from True to False in a future version.\n",
      "  data1['MPG2'] = data1['MPG2'].str.replace(\"\\shwy\", \"\")\n"
     ]
    },
    {
     "data": {
      "text/html": [
       "<div>\n",
       "<style scoped>\n",
       "    .dataframe tbody tr th:only-of-type {\n",
       "        vertical-align: middle;\n",
       "    }\n",
       "\n",
       "    .dataframe tbody tr th {\n",
       "        vertical-align: top;\n",
       "    }\n",
       "\n",
       "    .dataframe thead th {\n",
       "        text-align: right;\n",
       "    }\n",
       "</style>\n",
       "<table border=\"1\" class=\"dataframe\">\n",
       "  <thead>\n",
       "    <tr style=\"text-align: right;\">\n",
       "      <th></th>\n",
       "      <th>Brand</th>\n",
       "      <th>Model</th>\n",
       "      <th>MPG</th>\n",
       "      <th>Engine Type</th>\n",
       "      <th>Drive Type</th>\n",
       "      <th>Milleage</th>\n",
       "      <th>horsepower</th>\n",
       "      <th>year</th>\n",
       "      <th>Exterior Color</th>\n",
       "      <th>Passenger Capacity</th>\n",
       "      <th>Price</th>\n",
       "      <th>No. of Axle</th>\n",
       "      <th>Axle Type</th>\n",
       "      <th>Cylinder</th>\n",
       "      <th>Engine Type2</th>\n",
       "      <th>Gas Type</th>\n",
       "      <th>Litres</th>\n",
       "      <th>MPG1</th>\n",
       "      <th>MPG2</th>\n",
       "    </tr>\n",
       "  </thead>\n",
       "  <tbody>\n",
       "    <tr>\n",
       "      <th>0</th>\n",
       "      <td>Honda</td>\n",
       "      <td>Accord Hybrid Touring</td>\n",
       "      <td>48 city / 48 hwy</td>\n",
       "      <td>4-cyl, Hybrid, 2.0L</td>\n",
       "      <td>2WD, Front Wheel Drive</td>\n",
       "      <td>8</td>\n",
       "      <td>212</td>\n",
       "      <td>2019</td>\n",
       "      <td>White</td>\n",
       "      <td>5</td>\n",
       "      <td>37998</td>\n",
       "      <td>2WD</td>\n",
       "      <td>Front Wheel Drive</td>\n",
       "      <td>4-cyl</td>\n",
       "      <td>Hybrid, 2.0L</td>\n",
       "      <td>Hybrid</td>\n",
       "      <td>2.0L</td>\n",
       "      <td>48</td>\n",
       "      <td>48</td>\n",
       "    </tr>\n",
       "    <tr>\n",
       "      <th>1</th>\n",
       "      <td>Honda</td>\n",
       "      <td>Accord Hybrid EX-L</td>\n",
       "      <td>50 city / 45 hwy</td>\n",
       "      <td>4-cyl, Hybrid, 2.0L</td>\n",
       "      <td>2WD, Front Wheel Drive</td>\n",
       "      <td>93</td>\n",
       "      <td>195</td>\n",
       "      <td>2015</td>\n",
       "      <td>Gray</td>\n",
       "      <td>5</td>\n",
       "      <td>21998</td>\n",
       "      <td>2WD</td>\n",
       "      <td>Front Wheel Drive</td>\n",
       "      <td>4-cyl</td>\n",
       "      <td>Hybrid, 2.0L</td>\n",
       "      <td>Hybrid</td>\n",
       "      <td>2.0L</td>\n",
       "      <td>50</td>\n",
       "      <td>45</td>\n",
       "    </tr>\n",
       "    <tr>\n",
       "      <th>2</th>\n",
       "      <td>Honda</td>\n",
       "      <td>Accord Hybrid EX-L</td>\n",
       "      <td>49 city / 47 hwy</td>\n",
       "      <td>4-cyl, Hybrid, 2.0L</td>\n",
       "      <td>2WD, Front Wheel Drive</td>\n",
       "      <td>36</td>\n",
       "      <td>212</td>\n",
       "      <td>2017</td>\n",
       "      <td>silver</td>\n",
       "      <td>5</td>\n",
       "      <td>28998</td>\n",
       "      <td>2WD</td>\n",
       "      <td>Front Wheel Drive</td>\n",
       "      <td>4-cyl</td>\n",
       "      <td>Hybrid, 2.0L</td>\n",
       "      <td>Hybrid</td>\n",
       "      <td>2.0L</td>\n",
       "      <td>49</td>\n",
       "      <td>47</td>\n",
       "    </tr>\n",
       "    <tr>\n",
       "      <th>3</th>\n",
       "      <td>Honda</td>\n",
       "      <td>Accord Hybrid</td>\n",
       "      <td>48 city / 47 hwy</td>\n",
       "      <td>4-cyl, Hybrid, 2.0L</td>\n",
       "      <td>2WD, Front Wheel Drive</td>\n",
       "      <td>29</td>\n",
       "      <td>212</td>\n",
       "      <td>2020</td>\n",
       "      <td>Gray</td>\n",
       "      <td>5</td>\n",
       "      <td>29998</td>\n",
       "      <td>2WD</td>\n",
       "      <td>Front Wheel Drive</td>\n",
       "      <td>4-cyl</td>\n",
       "      <td>Hybrid, 2.0L</td>\n",
       "      <td>Hybrid</td>\n",
       "      <td>2.0L</td>\n",
       "      <td>48</td>\n",
       "      <td>47</td>\n",
       "    </tr>\n",
       "    <tr>\n",
       "      <th>4</th>\n",
       "      <td>Honda</td>\n",
       "      <td>Accord Hybrid Touring</td>\n",
       "      <td>48 city / 47 hwy</td>\n",
       "      <td>4-cyl, Hybrid, 2.0L</td>\n",
       "      <td>2WD, Front Wheel Drive</td>\n",
       "      <td>16</td>\n",
       "      <td>212</td>\n",
       "      <td>2020</td>\n",
       "      <td>White</td>\n",
       "      <td>5</td>\n",
       "      <td>36998</td>\n",
       "      <td>2WD</td>\n",
       "      <td>Front Wheel Drive</td>\n",
       "      <td>4-cyl</td>\n",
       "      <td>Hybrid, 2.0L</td>\n",
       "      <td>Hybrid</td>\n",
       "      <td>2.0L</td>\n",
       "      <td>48</td>\n",
       "      <td>47</td>\n",
       "    </tr>\n",
       "  </tbody>\n",
       "</table>\n",
       "</div>"
      ],
      "text/plain": [
       "   Brand                  Model               MPG          Engine Type  \\\n",
       "0  Honda  Accord Hybrid Touring  48 city / 48 hwy  4-cyl, Hybrid, 2.0L   \n",
       "1  Honda     Accord Hybrid EX-L  50 city / 45 hwy  4-cyl, Hybrid, 2.0L   \n",
       "2  Honda     Accord Hybrid EX-L  49 city / 47 hwy  4-cyl, Hybrid, 2.0L   \n",
       "3  Honda          Accord Hybrid  48 city / 47 hwy  4-cyl, Hybrid, 2.0L   \n",
       "4  Honda  Accord Hybrid Touring  48 city / 47 hwy  4-cyl, Hybrid, 2.0L   \n",
       "\n",
       "               Drive Type  Milleage  horsepower  year Exterior Color  \\\n",
       "0  2WD, Front Wheel Drive         8         212  2019          White   \n",
       "1  2WD, Front Wheel Drive        93         195  2015           Gray   \n",
       "2  2WD, Front Wheel Drive        36         212  2017         silver   \n",
       "3  2WD, Front Wheel Drive        29         212  2020           Gray   \n",
       "4  2WD, Front Wheel Drive        16         212  2020          White   \n",
       "\n",
       "   Passenger Capacity  Price No. of Axle           Axle Type Cylinder  \\\n",
       "0                   5  37998         2WD   Front Wheel Drive    4-cyl   \n",
       "1                   5  21998         2WD   Front Wheel Drive    4-cyl   \n",
       "2                   5  28998         2WD   Front Wheel Drive    4-cyl   \n",
       "3                   5  29998         2WD   Front Wheel Drive    4-cyl   \n",
       "4                   5  36998         2WD   Front Wheel Drive    4-cyl   \n",
       "\n",
       "    Engine Type2 Gas Type Litres MPG1 MPG2  \n",
       "0   Hybrid, 2.0L   Hybrid   2.0L  48    48  \n",
       "1   Hybrid, 2.0L   Hybrid   2.0L  50    45  \n",
       "2   Hybrid, 2.0L   Hybrid   2.0L  49    47  \n",
       "3   Hybrid, 2.0L   Hybrid   2.0L  48    47  \n",
       "4   Hybrid, 2.0L   Hybrid   2.0L  48    47  "
      ]
     },
     "execution_count": 25,
     "metadata": {},
     "output_type": "execute_result"
    }
   ],
   "source": [
    "data1[['No. of Axle','Axle Type']] = data1['Drive Type'].str.split(',', 1, expand=True)\n",
    "data1[['Cylinder','Engine Type2']] = data1['Engine Type'].str.split(',', 1, expand=True)\n",
    "data1[['Gas Type','Litres']] = data1['Engine Type2'].str.split(',', 1, expand=True)\n",
    "data1[['MPG1','MPG2']] = data1['MPG'].str.split('/', 1, expand=True)\n",
    "data1['MPG1'] = data1['MPG1'].str.replace(\"\\scity\", \"\")\n",
    "data1['MPG2'] = data1['MPG2'].str.replace(\"\\shwy\", \"\")\n",
    "data1.head()"
   ]
  },
  {
   "cell_type": "code",
   "execution_count": 26,
   "id": "e14ba608",
   "metadata": {
    "id": "e14ba608"
   },
   "outputs": [],
   "source": [
    "data2 = data1.copy()"
   ]
  },
  {
   "cell_type": "code",
   "execution_count": 27,
   "id": "a2651ecf",
   "metadata": {
    "colab": {
     "base_uri": "https://localhost:8080/"
    },
    "id": "a2651ecf",
    "outputId": "45d84caa-ffef-4b1a-e20f-cf34d8efef73"
   },
   "outputs": [
    {
     "data": {
      "text/plain": [
       "Index(['Brand', 'Model', 'MPG', 'Engine Type', 'Drive Type', 'Milleage',\n",
       "       'horsepower', 'year', 'Exterior Color', 'Passenger Capacity', 'Price',\n",
       "       'No. of Axle', 'Axle Type', 'Cylinder', 'Engine Type2', 'Gas Type',\n",
       "       'Litres', 'MPG1', 'MPG2'],\n",
       "      dtype='object')"
      ]
     },
     "execution_count": 27,
     "metadata": {},
     "output_type": "execute_result"
    }
   ],
   "source": [
    "data2.columns"
   ]
  },
  {
   "cell_type": "code",
   "execution_count": 28,
   "id": "52f70df5",
   "metadata": {
    "id": "52f70df5",
    "scrolled": true
   },
   "outputs": [],
   "source": [
    "data2.drop(['Engine Type','Engine Type2','Drive Type','MPG'],axis=1, inplace=True)"
   ]
  },
  {
   "cell_type": "markdown",
   "id": "_y9RFa4JelN6",
   "metadata": {
    "id": "_y9RFa4JelN6"
   },
   "source": [
    "## Mapping"
   ]
  },
  {
   "cell_type": "code",
   "execution_count": 29,
   "id": "21bea606",
   "metadata": {
    "colab": {
     "base_uri": "https://localhost:8080/"
    },
    "id": "21bea606",
    "outputId": "b49e54e2-8b1f-47d2-80c5-7d9ca0aa099b"
   },
   "outputs": [
    {
     "data": {
      "text/plain": [
       "Index(['Brand', 'Model', 'Milleage', 'horsepower', 'year', 'Exterior Color',\n",
       "       'Passenger Capacity', 'Price', 'No. of Axle', 'Axle Type', 'Cylinder',\n",
       "       'Gas Type', 'Litres', 'MPG1', 'MPG2'],\n",
       "      dtype='object')"
      ]
     },
     "execution_count": 29,
     "metadata": {},
     "output_type": "execute_result"
    }
   ],
   "source": [
    "data2.columns"
   ]
  },
  {
   "cell_type": "code",
   "execution_count": 30,
   "id": "8f69b34e",
   "metadata": {
    "colab": {
     "base_uri": "https://localhost:8080/"
    },
    "id": "8f69b34e",
    "outputId": "9645146c-f022-4229-d8b8-6c3bf88e0f22",
    "scrolled": true
   },
   "outputs": [
    {
     "data": {
      "text/plain": [
       "2019    91\n",
       "2020    67\n",
       "2017    51\n",
       "2018    46\n",
       "2021    44\n",
       "2016    40\n",
       "2015    28\n",
       "2014    17\n",
       "2013    13\n",
       "2012    13\n",
       "2022    10\n",
       "2011    10\n",
       "2010     4\n",
       "Name: year, dtype: int64"
      ]
     },
     "execution_count": 30,
     "metadata": {},
     "output_type": "execute_result"
    }
   ],
   "source": [
    "data2['year'].value_counts()"
   ]
  },
  {
   "cell_type": "code",
   "execution_count": 31,
   "id": "1c0ea9a2",
   "metadata": {
    "id": "1c0ea9a2"
   },
   "outputs": [],
   "source": [
    "data2['year'] = data2['year'] - 2000"
   ]
  },
  {
   "cell_type": "code",
   "execution_count": 32,
   "id": "73a81bb2",
   "metadata": {
    "colab": {
     "base_uri": "https://localhost:8080/"
    },
    "id": "73a81bb2",
    "outputId": "e914ea8b-0c29-4be6-cf7a-05702fb7a3e6"
   },
   "outputs": [
    {
     "data": {
      "text/plain": [
       "19    91\n",
       "20    67\n",
       "17    51\n",
       "18    46\n",
       "21    44\n",
       "16    40\n",
       "15    28\n",
       "14    17\n",
       "13    13\n",
       "12    13\n",
       "22    10\n",
       "11    10\n",
       "10     4\n",
       "Name: year, dtype: int64"
      ]
     },
     "execution_count": 32,
     "metadata": {},
     "output_type": "execute_result"
    }
   ],
   "source": [
    "data2['year'].value_counts()"
   ]
  },
  {
   "cell_type": "code",
   "execution_count": 33,
   "id": "13498024",
   "metadata": {
    "colab": {
     "base_uri": "https://localhost:8080/"
    },
    "id": "13498024",
    "outputId": "e55e65d1-65a1-450e-ee47-3fa0fe743c25",
    "scrolled": false
   },
   "outputs": [
    {
     "data": {
      "text/plain": [
       " 3.5L    143\n",
       " 1.8L     63\n",
       " 2.0L     56\n",
       " 1.5L     55\n",
       " 2.5L     51\n",
       " 2.4L     26\n",
       " 4.0L     20\n",
       " 5.7L     18\n",
       " 4.6L      2\n",
       "Name: Litres, dtype: int64"
      ]
     },
     "execution_count": 33,
     "metadata": {},
     "output_type": "execute_result"
    }
   ],
   "source": [
    "data2['Litres'].value_counts()"
   ]
  },
  {
   "cell_type": "code",
   "execution_count": 34,
   "id": "1467d8c2",
   "metadata": {
    "colab": {
     "base_uri": "https://localhost:8080/"
    },
    "id": "1467d8c2",
    "outputId": "6e553cda-5c25-4698-f7f2-b423f317b305"
   },
   "outputs": [
    {
     "data": {
      "text/plain": [
       " 3.5    143\n",
       " 1.8     63\n",
       " 2.0     56\n",
       " 1.5     55\n",
       " 2.5     51\n",
       " 2.4     26\n",
       " 4.0     20\n",
       " 5.7     18\n",
       " 4.6      2\n",
       "Name: Litres, dtype: int64"
      ]
     },
     "execution_count": 34,
     "metadata": {},
     "output_type": "execute_result"
    }
   ],
   "source": [
    "data2['Litres'] = data2['Litres'].map(lambda x: x.rstrip('L'))\n",
    "data2['Litres'].value_counts()"
   ]
  },
  {
   "cell_type": "code",
   "execution_count": 35,
   "id": "c702668e",
   "metadata": {
    "colab": {
     "base_uri": "https://localhost:8080/"
    },
    "id": "c702668e",
    "outputId": "35a956d5-e204-4b37-da7a-0f18542f80b8",
    "scrolled": false
   },
   "outputs": [
    {
     "data": {
      "text/plain": [
       " Gas          316\n",
       " Hybrid        80\n",
       " Turbo Gas     38\n",
       "Name: Gas Type, dtype: int64"
      ]
     },
     "execution_count": 35,
     "metadata": {},
     "output_type": "execute_result"
    }
   ],
   "source": [
    "data2['Gas Type'].value_counts()"
   ]
  },
  {
   "cell_type": "code",
   "execution_count": 36,
   "id": "caa9e207",
   "metadata": {
    "id": "caa9e207"
   },
   "outputs": [],
   "source": [
    "def impute_gas_type(cols):\n",
    "    if cols == ' Hybrid':\n",
    "        return 2\n",
    "    elif cols == ' Turbo Gas':\n",
    "        return 1\n",
    "    elif cols == ' Gas':\n",
    "        return 0"
   ]
  },
  {
   "cell_type": "code",
   "execution_count": 37,
   "id": "17dec1a5",
   "metadata": {
    "id": "17dec1a5"
   },
   "outputs": [],
   "source": [
    "data2['Gas Type'] = data2['Gas Type'].apply(impute_gas_type)"
   ]
  },
  {
   "cell_type": "code",
   "execution_count": 38,
   "id": "e98cbf99",
   "metadata": {
    "colab": {
     "base_uri": "https://localhost:8080/"
    },
    "id": "e98cbf99",
    "outputId": "d6fad284-68f8-41ee-aa6c-19ebeff887a6"
   },
   "outputs": [
    {
     "data": {
      "text/plain": [
       "0    316\n",
       "2     80\n",
       "1     38\n",
       "Name: Gas Type, dtype: int64"
      ]
     },
     "execution_count": 38,
     "metadata": {},
     "output_type": "execute_result"
    }
   ],
   "source": [
    "data2['Gas Type'].value_counts()"
   ]
  },
  {
   "cell_type": "code",
   "execution_count": 39,
   "id": "3752dbce",
   "metadata": {
    "colab": {
     "base_uri": "https://localhost:8080/"
    },
    "id": "3752dbce",
    "outputId": "33dc62da-7450-4cb8-aae8-a1ee3399cf91"
   },
   "outputs": [
    {
     "data": {
      "text/plain": [
       "4-cyl    251\n",
       "6-cyl    163\n",
       "8-cyl     20\n",
       "Name: Cylinder, dtype: int64"
      ]
     },
     "execution_count": 39,
     "metadata": {},
     "output_type": "execute_result"
    }
   ],
   "source": [
    "data2['Cylinder'].value_counts()"
   ]
  },
  {
   "cell_type": "code",
   "execution_count": 40,
   "id": "eda0c5ee",
   "metadata": {
    "colab": {
     "base_uri": "https://localhost:8080/"
    },
    "id": "eda0c5ee",
    "outputId": "6678fd7e-25d2-4e14-a1b3-6aff708e4848"
   },
   "outputs": [
    {
     "data": {
      "text/plain": [
       "4    251\n",
       "6    163\n",
       "8     20\n",
       "Name: Cylinder, dtype: int64"
      ]
     },
     "execution_count": 40,
     "metadata": {},
     "output_type": "execute_result"
    }
   ],
   "source": [
    "data2['Cylinder'] = data2['Cylinder'].map(lambda x: x.rstrip('-cyl'))\n",
    "data2['Cylinder'].value_counts()"
   ]
  },
  {
   "cell_type": "code",
   "execution_count": 41,
   "id": "8b937bcf",
   "metadata": {
    "colab": {
     "base_uri": "https://localhost:8080/"
    },
    "id": "8b937bcf",
    "outputId": "9796800d-3853-4272-9857-3c9dd6afb63a"
   },
   "outputs": [
    {
     "data": {
      "text/plain": [
       "2WD        243\n",
       "4WD/AWD    185\n",
       "4WD          6\n",
       "Name: No. of Axle, dtype: int64"
      ]
     },
     "execution_count": 41,
     "metadata": {},
     "output_type": "execute_result"
    }
   ],
   "source": [
    "data2['No. of Axle'].value_counts()"
   ]
  },
  {
   "cell_type": "code",
   "execution_count": 42,
   "id": "6fd62286",
   "metadata": {
    "colab": {
     "base_uri": "https://localhost:8080/"
    },
    "id": "6fd62286",
    "outputId": "f867ce6b-91cc-449a-8d50-78ca5384b6f3"
   },
   "outputs": [
    {
     "data": {
      "text/plain": [
       "2    243\n",
       "4    191\n",
       "Name: No. of Axle, dtype: int64"
      ]
     },
     "execution_count": 42,
     "metadata": {},
     "output_type": "execute_result"
    }
   ],
   "source": [
    "data2['No. of Axle'] = data2['No. of Axle'].map(lambda x: x.rstrip('/AWD'))\n",
    "data2['No. of Axle'].value_counts()"
   ]
  },
  {
   "cell_type": "code",
   "execution_count": 43,
   "id": "92cc0c2b",
   "metadata": {
    "colab": {
     "base_uri": "https://localhost:8080/"
    },
    "id": "92cc0c2b",
    "outputId": "8862e080-ccbd-4d74-8aee-d46821f550c4",
    "scrolled": true
   },
   "outputs": [
    {
     "data": {
      "text/plain": [
       " Front Wheel Drive    227\n",
       " All Wheel Drive       75\n",
       " Four Wheel Drive      55\n",
       " All Wheel             54\n",
       " Rear Wheel Drive      11\n",
       " 4-Wheel Drive          1\n",
       "Name: Axle Type, dtype: int64"
      ]
     },
     "execution_count": 43,
     "metadata": {},
     "output_type": "execute_result"
    }
   ],
   "source": [
    "data2['Axle Type'].value_counts()"
   ]
  },
  {
   "cell_type": "code",
   "execution_count": 44,
   "id": "d1348c9f",
   "metadata": {
    "id": "d1348c9f"
   },
   "outputs": [],
   "source": [
    "def impute_drive_type_2(cols):    #front wheel drive are least expensive, FWD is most expensive\n",
    "    if cols == ' Front Wheel Drive':\n",
    "        return 0\n",
    "    elif cols == ' Rear Wheel Drive':\n",
    "        return 1\n",
    "    elif cols == ' All Wheel':\n",
    "        return 2\n",
    "    elif cols == ' All Wheel Drive':\n",
    "        return 2\n",
    "    elif cols == ' Four Wheel Drive':\n",
    "        return 3\n",
    "    elif cols == ' 4-Wheel Drive':\n",
    "        return 3\n",
    "    else: \n",
    "        return 0"
   ]
  },
  {
   "cell_type": "code",
   "execution_count": 45,
   "id": "f572fdbb",
   "metadata": {
    "colab": {
     "base_uri": "https://localhost:8080/"
    },
    "id": "f572fdbb",
    "outputId": "33b7cf8c-5f27-451e-dff4-58c2733faa0a"
   },
   "outputs": [
    {
     "data": {
      "text/plain": [
       "0    238\n",
       "2    129\n",
       "3     56\n",
       "1     11\n",
       "Name: Axle Type, dtype: int64"
      ]
     },
     "execution_count": 45,
     "metadata": {},
     "output_type": "execute_result"
    }
   ],
   "source": [
    "data2['Axle Type'] = data2['Axle Type'].apply(impute_drive_type_2)\n",
    "data2['Axle Type'].value_counts()"
   ]
  },
  {
   "cell_type": "code",
   "execution_count": 46,
   "id": "2ffa2751",
   "metadata": {
    "colab": {
     "base_uri": "https://localhost:8080/"
    },
    "id": "2ffa2751",
    "outputId": "c876b9f3-8ef1-45b0-fa99-9df4a7d4c5e6"
   },
   "outputs": [
    {
     "data": {
      "text/plain": [
       "Honda     234\n",
       "Toyota    200\n",
       "Name: Brand, dtype: int64"
      ]
     },
     "execution_count": 46,
     "metadata": {},
     "output_type": "execute_result"
    }
   ],
   "source": [
    "data2['Brand'].value_counts()"
   ]
  },
  {
   "cell_type": "code",
   "execution_count": 47,
   "id": "xCH9McUuCT9X",
   "metadata": {
    "colab": {
     "base_uri": "https://localhost:8080/"
    },
    "id": "xCH9McUuCT9X",
    "outputId": "8d6d1802-7d09-4c8e-fa9c-e97daf229d4e"
   },
   "outputs": [
    {
     "data": {
      "text/plain": [
       "White       95\n",
       "Gray        87\n",
       "Black       81\n",
       "Silver      60\n",
       "Blue        42\n",
       "Red         38\n",
       "Burgundy     9\n",
       "Brown        7\n",
       "Tan          4\n",
       "Orange       3\n",
       "Gold         2\n",
       "Burgyndy     1\n",
       "silver       1\n",
       "Maroon       1\n",
       "Purple       1\n",
       "Green        1\n",
       "Pearl        1\n",
       "Name: Exterior Color, dtype: int64"
      ]
     },
     "execution_count": 47,
     "metadata": {},
     "output_type": "execute_result"
    }
   ],
   "source": [
    "data2['Exterior Color'].value_counts()"
   ]
  },
  {
   "cell_type": "code",
   "execution_count": 48,
   "id": "RXc6IjgZCVlY",
   "metadata": {
    "id": "RXc6IjgZCVlY"
   },
   "outputs": [],
   "source": [
    "def impute_color(cols):\n",
    "    if cols == 'White':\n",
    "        return 7\n",
    "    elif cols == 'Gray':\n",
    "        return 4\n",
    "    elif cols == 'Black':\n",
    "        return 5\n",
    "    elif cols == 'Silver' or cols == 'silver':\n",
    "        return 3\n",
    "    elif cols == 'Blue':\n",
    "        return 3\n",
    "    elif cols == 'Red':\n",
    "        return 4\n",
    "    elif cols == 'Burgundy' or cols =='Burgyndy':\n",
    "        return 5\n",
    "    elif cols == 'Brown':\n",
    "        return 5\n",
    "    elif cols == 'Tan':\n",
    "        return 6\n",
    "    elif cols == 'Orange':\n",
    "        return 7\n",
    "    elif cols == 'Gold':\n",
    "        return 2\n",
    "    elif cols == 'Maroon':\n",
    "        return 8\n",
    "    elif cols == 'Purple':\n",
    "        return 1\n",
    "    elif cols == 'Green':\n",
    "        return 2\n",
    "    elif cols == 'Pearl':\n",
    "        return 2\n",
    "    else: \n",
    "        return 1"
   ]
  },
  {
   "cell_type": "code",
   "execution_count": 49,
   "id": "20cVxaXNCXB-",
   "metadata": {
    "colab": {
     "base_uri": "https://localhost:8080/"
    },
    "id": "20cVxaXNCXB-",
    "outputId": "a89fc6a1-d796-4e7c-9559-2706080f786a"
   },
   "outputs": [
    {
     "data": {
      "text/plain": [
       "4    125\n",
       "3    103\n",
       "7     98\n",
       "5     98\n",
       "2      4\n",
       "6      4\n",
       "8      1\n",
       "1      1\n",
       "Name: Exterior Color, dtype: int64"
      ]
     },
     "execution_count": 49,
     "metadata": {},
     "output_type": "execute_result"
    }
   ],
   "source": [
    "data2['Exterior Color'] = data2['Exterior Color'].apply(impute_color)\n",
    "data2['Exterior Color'].value_counts()"
   ]
  },
  {
   "cell_type": "code",
   "execution_count": 50,
   "id": "8f7f3491",
   "metadata": {
    "id": "8f7f3491"
   },
   "outputs": [],
   "source": [
    "data3 = data2.copy()"
   ]
  },
  {
   "cell_type": "markdown",
   "id": "tm2eYs_tesDw",
   "metadata": {
    "id": "tm2eYs_tesDw"
   },
   "source": [
    "## Converting to numeric Dtype from object Dtype"
   ]
  },
  {
   "cell_type": "code",
   "execution_count": 51,
   "id": "0a17c54d",
   "metadata": {
    "colab": {
     "base_uri": "https://localhost:8080/"
    },
    "id": "0a17c54d",
    "outputId": "5b0c2b55-9424-45c8-9121-29f018e4dba1"
   },
   "outputs": [
    {
     "name": "stdout",
     "output_type": "stream",
     "text": [
      "<class 'pandas.core.frame.DataFrame'>\n",
      "RangeIndex: 434 entries, 0 to 433\n",
      "Data columns (total 15 columns):\n",
      " #   Column              Non-Null Count  Dtype \n",
      "---  ------              --------------  ----- \n",
      " 0   Brand               434 non-null    object\n",
      " 1   Model               434 non-null    object\n",
      " 2   Milleage            434 non-null    int64 \n",
      " 3   horsepower          434 non-null    int64 \n",
      " 4   year                434 non-null    int64 \n",
      " 5   Exterior Color      434 non-null    int64 \n",
      " 6   Passenger Capacity  434 non-null    int64 \n",
      " 7   Price               434 non-null    int64 \n",
      " 8   No. of Axle         434 non-null    object\n",
      " 9   Axle Type           434 non-null    int64 \n",
      " 10  Cylinder            434 non-null    object\n",
      " 11  Gas Type            434 non-null    int64 \n",
      " 12  Litres              434 non-null    object\n",
      " 13  MPG1                434 non-null    object\n",
      " 14  MPG2                434 non-null    object\n",
      "dtypes: int64(8), object(7)\n",
      "memory usage: 51.0+ KB\n"
     ]
    }
   ],
   "source": [
    "data3.info()"
   ]
  },
  {
   "cell_type": "code",
   "execution_count": 52,
   "id": "bb8562e1",
   "metadata": {
    "id": "bb8562e1"
   },
   "outputs": [],
   "source": [
    "data3['MPG1'] = pd.to_numeric(data3['MPG1'])\n",
    "data3['MPG2'] = pd.to_numeric(data3['MPG2'])\n",
    "data3['Litres'] = pd.to_numeric(data3['Litres'])\n",
    "data3['Cylinder'] = pd.to_numeric(data3['Cylinder'])\n",
    "data3['No. of Axle'] = pd.to_numeric(data3['No. of Axle'])\n",
    "data3['Gas Type'] = pd.to_numeric(data3['Gas Type'])\n",
    "data3['Exterior Color'] = pd.to_numeric(data3['Exterior Color'])"
   ]
  },
  {
   "cell_type": "code",
   "execution_count": 53,
   "id": "99140116",
   "metadata": {
    "colab": {
     "base_uri": "https://localhost:8080/"
    },
    "id": "99140116",
    "outputId": "cf3060b7-e9b5-4bc0-dd77-694a7a7c62b1"
   },
   "outputs": [
    {
     "name": "stdout",
     "output_type": "stream",
     "text": [
      "<class 'pandas.core.frame.DataFrame'>\n",
      "RangeIndex: 434 entries, 0 to 433\n",
      "Data columns (total 15 columns):\n",
      " #   Column              Non-Null Count  Dtype  \n",
      "---  ------              --------------  -----  \n",
      " 0   Brand               434 non-null    object \n",
      " 1   Model               434 non-null    object \n",
      " 2   Milleage            434 non-null    int64  \n",
      " 3   horsepower          434 non-null    int64  \n",
      " 4   year                434 non-null    int64  \n",
      " 5   Exterior Color      434 non-null    int64  \n",
      " 6   Passenger Capacity  434 non-null    int64  \n",
      " 7   Price               434 non-null    int64  \n",
      " 8   No. of Axle         434 non-null    int64  \n",
      " 9   Axle Type           434 non-null    int64  \n",
      " 10  Cylinder            434 non-null    int64  \n",
      " 11  Gas Type            434 non-null    int64  \n",
      " 12  Litres              434 non-null    float64\n",
      " 13  MPG1                434 non-null    int64  \n",
      " 14  MPG2                434 non-null    int64  \n",
      "dtypes: float64(1), int64(12), object(2)\n",
      "memory usage: 51.0+ KB\n"
     ]
    }
   ],
   "source": [
    "data3.info()"
   ]
  },
  {
   "cell_type": "markdown",
   "id": "y-4Kf9Byezp0",
   "metadata": {
    "id": "y-4Kf9Byezp0"
   },
   "source": [
    "## Get Dummies"
   ]
  },
  {
   "cell_type": "code",
   "execution_count": 54,
   "id": "c6139b84",
   "metadata": {
    "id": "c6139b84"
   },
   "outputs": [],
   "source": [
    "data4 = data3.copy()"
   ]
  },
  {
   "cell_type": "code",
   "execution_count": 55,
   "id": "f67179f7",
   "metadata": {
    "id": "f67179f7"
   },
   "outputs": [],
   "source": [
    "data4 = pd.get_dummies(data4, columns=['Brand'])"
   ]
  },
  {
   "cell_type": "code",
   "execution_count": 56,
   "id": "6b39dfcf",
   "metadata": {
    "colab": {
     "base_uri": "https://localhost:8080/",
     "height": 362
    },
    "id": "6b39dfcf",
    "outputId": "e6ed8e15-4ad4-4d49-f3ef-daf109cda0a6"
   },
   "outputs": [
    {
     "data": {
      "text/html": [
       "<div>\n",
       "<style scoped>\n",
       "    .dataframe tbody tr th:only-of-type {\n",
       "        vertical-align: middle;\n",
       "    }\n",
       "\n",
       "    .dataframe tbody tr th {\n",
       "        vertical-align: top;\n",
       "    }\n",
       "\n",
       "    .dataframe thead th {\n",
       "        text-align: right;\n",
       "    }\n",
       "</style>\n",
       "<table border=\"1\" class=\"dataframe\">\n",
       "  <thead>\n",
       "    <tr style=\"text-align: right;\">\n",
       "      <th></th>\n",
       "      <th>Model</th>\n",
       "      <th>Milleage</th>\n",
       "      <th>horsepower</th>\n",
       "      <th>year</th>\n",
       "      <th>Exterior Color</th>\n",
       "      <th>Passenger Capacity</th>\n",
       "      <th>Price</th>\n",
       "      <th>No. of Axle</th>\n",
       "      <th>Axle Type</th>\n",
       "      <th>Cylinder</th>\n",
       "      <th>Gas Type</th>\n",
       "      <th>Litres</th>\n",
       "      <th>MPG1</th>\n",
       "      <th>MPG2</th>\n",
       "      <th>Brand_Honda</th>\n",
       "      <th>Brand_Toyota</th>\n",
       "    </tr>\n",
       "  </thead>\n",
       "  <tbody>\n",
       "    <tr>\n",
       "      <th>0</th>\n",
       "      <td>Accord Hybrid Touring</td>\n",
       "      <td>8</td>\n",
       "      <td>212</td>\n",
       "      <td>19</td>\n",
       "      <td>7</td>\n",
       "      <td>5</td>\n",
       "      <td>37998</td>\n",
       "      <td>2</td>\n",
       "      <td>0</td>\n",
       "      <td>4</td>\n",
       "      <td>2</td>\n",
       "      <td>2.0</td>\n",
       "      <td>48</td>\n",
       "      <td>48</td>\n",
       "      <td>1</td>\n",
       "      <td>0</td>\n",
       "    </tr>\n",
       "    <tr>\n",
       "      <th>1</th>\n",
       "      <td>Accord Hybrid EX-L</td>\n",
       "      <td>93</td>\n",
       "      <td>195</td>\n",
       "      <td>15</td>\n",
       "      <td>4</td>\n",
       "      <td>5</td>\n",
       "      <td>21998</td>\n",
       "      <td>2</td>\n",
       "      <td>0</td>\n",
       "      <td>4</td>\n",
       "      <td>2</td>\n",
       "      <td>2.0</td>\n",
       "      <td>50</td>\n",
       "      <td>45</td>\n",
       "      <td>1</td>\n",
       "      <td>0</td>\n",
       "    </tr>\n",
       "    <tr>\n",
       "      <th>2</th>\n",
       "      <td>Accord Hybrid EX-L</td>\n",
       "      <td>36</td>\n",
       "      <td>212</td>\n",
       "      <td>17</td>\n",
       "      <td>3</td>\n",
       "      <td>5</td>\n",
       "      <td>28998</td>\n",
       "      <td>2</td>\n",
       "      <td>0</td>\n",
       "      <td>4</td>\n",
       "      <td>2</td>\n",
       "      <td>2.0</td>\n",
       "      <td>49</td>\n",
       "      <td>47</td>\n",
       "      <td>1</td>\n",
       "      <td>0</td>\n",
       "    </tr>\n",
       "    <tr>\n",
       "      <th>3</th>\n",
       "      <td>Accord Hybrid</td>\n",
       "      <td>29</td>\n",
       "      <td>212</td>\n",
       "      <td>20</td>\n",
       "      <td>4</td>\n",
       "      <td>5</td>\n",
       "      <td>29998</td>\n",
       "      <td>2</td>\n",
       "      <td>0</td>\n",
       "      <td>4</td>\n",
       "      <td>2</td>\n",
       "      <td>2.0</td>\n",
       "      <td>48</td>\n",
       "      <td>47</td>\n",
       "      <td>1</td>\n",
       "      <td>0</td>\n",
       "    </tr>\n",
       "    <tr>\n",
       "      <th>4</th>\n",
       "      <td>Accord Hybrid Touring</td>\n",
       "      <td>16</td>\n",
       "      <td>212</td>\n",
       "      <td>20</td>\n",
       "      <td>7</td>\n",
       "      <td>5</td>\n",
       "      <td>36998</td>\n",
       "      <td>2</td>\n",
       "      <td>0</td>\n",
       "      <td>4</td>\n",
       "      <td>2</td>\n",
       "      <td>2.0</td>\n",
       "      <td>48</td>\n",
       "      <td>47</td>\n",
       "      <td>1</td>\n",
       "      <td>0</td>\n",
       "    </tr>\n",
       "    <tr>\n",
       "      <th>5</th>\n",
       "      <td>Accord Hybrid EX-L</td>\n",
       "      <td>3</td>\n",
       "      <td>212</td>\n",
       "      <td>21</td>\n",
       "      <td>5</td>\n",
       "      <td>5</td>\n",
       "      <td>37998</td>\n",
       "      <td>2</td>\n",
       "      <td>0</td>\n",
       "      <td>4</td>\n",
       "      <td>2</td>\n",
       "      <td>2.0</td>\n",
       "      <td>48</td>\n",
       "      <td>48</td>\n",
       "      <td>1</td>\n",
       "      <td>0</td>\n",
       "    </tr>\n",
       "    <tr>\n",
       "      <th>6</th>\n",
       "      <td>Accord Hybrid</td>\n",
       "      <td>22</td>\n",
       "      <td>212</td>\n",
       "      <td>20</td>\n",
       "      <td>4</td>\n",
       "      <td>5</td>\n",
       "      <td>30998</td>\n",
       "      <td>2</td>\n",
       "      <td>0</td>\n",
       "      <td>4</td>\n",
       "      <td>2</td>\n",
       "      <td>2.0</td>\n",
       "      <td>48</td>\n",
       "      <td>47</td>\n",
       "      <td>1</td>\n",
       "      <td>0</td>\n",
       "    </tr>\n",
       "    <tr>\n",
       "      <th>7</th>\n",
       "      <td>Accord Hybrid Touring</td>\n",
       "      <td>25</td>\n",
       "      <td>212</td>\n",
       "      <td>17</td>\n",
       "      <td>5</td>\n",
       "      <td>5</td>\n",
       "      <td>29998</td>\n",
       "      <td>2</td>\n",
       "      <td>0</td>\n",
       "      <td>4</td>\n",
       "      <td>2</td>\n",
       "      <td>2.0</td>\n",
       "      <td>49</td>\n",
       "      <td>47</td>\n",
       "      <td>1</td>\n",
       "      <td>0</td>\n",
       "    </tr>\n",
       "    <tr>\n",
       "      <th>8</th>\n",
       "      <td>Accord Hybrid</td>\n",
       "      <td>10</td>\n",
       "      <td>212</td>\n",
       "      <td>19</td>\n",
       "      <td>5</td>\n",
       "      <td>5</td>\n",
       "      <td>36998</td>\n",
       "      <td>2</td>\n",
       "      <td>0</td>\n",
       "      <td>4</td>\n",
       "      <td>2</td>\n",
       "      <td>2.0</td>\n",
       "      <td>48</td>\n",
       "      <td>48</td>\n",
       "      <td>1</td>\n",
       "      <td>0</td>\n",
       "    </tr>\n",
       "    <tr>\n",
       "      <th>9</th>\n",
       "      <td>Accord Hybrid</td>\n",
       "      <td>23</td>\n",
       "      <td>212</td>\n",
       "      <td>17</td>\n",
       "      <td>7</td>\n",
       "      <td>5</td>\n",
       "      <td>28998</td>\n",
       "      <td>2</td>\n",
       "      <td>0</td>\n",
       "      <td>4</td>\n",
       "      <td>2</td>\n",
       "      <td>2.0</td>\n",
       "      <td>49</td>\n",
       "      <td>47</td>\n",
       "      <td>1</td>\n",
       "      <td>0</td>\n",
       "    </tr>\n",
       "  </tbody>\n",
       "</table>\n",
       "</div>"
      ],
      "text/plain": [
       "                   Model  Milleage  horsepower  year  Exterior Color  \\\n",
       "0  Accord Hybrid Touring         8         212    19               7   \n",
       "1     Accord Hybrid EX-L        93         195    15               4   \n",
       "2     Accord Hybrid EX-L        36         212    17               3   \n",
       "3          Accord Hybrid        29         212    20               4   \n",
       "4  Accord Hybrid Touring        16         212    20               7   \n",
       "5     Accord Hybrid EX-L         3         212    21               5   \n",
       "6          Accord Hybrid        22         212    20               4   \n",
       "7  Accord Hybrid Touring        25         212    17               5   \n",
       "8          Accord Hybrid        10         212    19               5   \n",
       "9          Accord Hybrid        23         212    17               7   \n",
       "\n",
       "   Passenger Capacity  Price  No. of Axle  Axle Type  Cylinder  Gas Type  \\\n",
       "0                   5  37998            2          0         4         2   \n",
       "1                   5  21998            2          0         4         2   \n",
       "2                   5  28998            2          0         4         2   \n",
       "3                   5  29998            2          0         4         2   \n",
       "4                   5  36998            2          0         4         2   \n",
       "5                   5  37998            2          0         4         2   \n",
       "6                   5  30998            2          0         4         2   \n",
       "7                   5  29998            2          0         4         2   \n",
       "8                   5  36998            2          0         4         2   \n",
       "9                   5  28998            2          0         4         2   \n",
       "\n",
       "   Litres  MPG1  MPG2  Brand_Honda  Brand_Toyota  \n",
       "0     2.0    48    48            1             0  \n",
       "1     2.0    50    45            1             0  \n",
       "2     2.0    49    47            1             0  \n",
       "3     2.0    48    47            1             0  \n",
       "4     2.0    48    47            1             0  \n",
       "5     2.0    48    48            1             0  \n",
       "6     2.0    48    47            1             0  \n",
       "7     2.0    49    47            1             0  \n",
       "8     2.0    48    48            1             0  \n",
       "9     2.0    49    47            1             0  "
      ]
     },
     "execution_count": 56,
     "metadata": {},
     "output_type": "execute_result"
    }
   ],
   "source": [
    "data4.head(10)"
   ]
  },
  {
   "cell_type": "code",
   "execution_count": 57,
   "id": "156589c9",
   "metadata": {
    "colab": {
     "base_uri": "https://localhost:8080/"
    },
    "id": "156589c9",
    "outputId": "9e588e69-1d61-48bd-a25c-8b12e76e6515"
   },
   "outputs": [
    {
     "name": "stdout",
     "output_type": "stream",
     "text": [
      "<class 'pandas.core.frame.DataFrame'>\n",
      "RangeIndex: 434 entries, 0 to 433\n",
      "Data columns (total 16 columns):\n",
      " #   Column              Non-Null Count  Dtype  \n",
      "---  ------              --------------  -----  \n",
      " 0   Model               434 non-null    object \n",
      " 1   Milleage            434 non-null    int64  \n",
      " 2   horsepower          434 non-null    int64  \n",
      " 3   year                434 non-null    int64  \n",
      " 4   Exterior Color      434 non-null    int64  \n",
      " 5   Passenger Capacity  434 non-null    int64  \n",
      " 6   Price               434 non-null    int64  \n",
      " 7   No. of Axle         434 non-null    int64  \n",
      " 8   Axle Type           434 non-null    int64  \n",
      " 9   Cylinder            434 non-null    int64  \n",
      " 10  Gas Type            434 non-null    int64  \n",
      " 11  Litres              434 non-null    float64\n",
      " 12  MPG1                434 non-null    int64  \n",
      " 13  MPG2                434 non-null    int64  \n",
      " 14  Brand_Honda         434 non-null    uint8  \n",
      " 15  Brand_Toyota        434 non-null    uint8  \n",
      "dtypes: float64(1), int64(12), object(1), uint8(2)\n",
      "memory usage: 48.4+ KB\n"
     ]
    }
   ],
   "source": [
    "data4.info()"
   ]
  },
  {
   "cell_type": "markdown",
   "id": "pKIR7vHUfAnU",
   "metadata": {
    "id": "pKIR7vHUfAnU"
   },
   "source": [
    "## Processing model features"
   ]
  },
  {
   "cell_type": "code",
   "execution_count": 58,
   "id": "6e631ffd",
   "metadata": {
    "id": "6e631ffd"
   },
   "outputs": [],
   "source": [
    "data5 = data4.copy()"
   ]
  },
  {
   "cell_type": "code",
   "execution_count": 59,
   "id": "997cc4ec",
   "metadata": {
    "colab": {
     "base_uri": "https://localhost:8080/"
    },
    "id": "997cc4ec",
    "outputId": "c27a8306-1976-42ae-f4a0-4633ce7f15f7"
   },
   "outputs": [
    {
     "data": {
      "text/plain": [
       "Accord CrossTour EX-L                 15\n",
       "RidgeLine RTL-E                       11\n",
       "Accord Hybrid                         10\n",
       "Civic LX                              10\n",
       "Accord LX                              9\n",
       "Civic EX                               9\n",
       "CR-V Hybrid Touring                    9\n",
       "Fit EX                                 8\n",
       "HR-V LX                                7\n",
       "Passport ELITE                         7\n",
       "Passport EX-L                          7\n",
       "Fit LX                                 7\n",
       "Civic SI                               7\n",
       "Odyssey EX-L                           6\n",
       "Accord Hybrid Touring                  6\n",
       "CR-V Hybrid EX-L                       6\n",
       "Accord Sport                           6\n",
       "CR-V LX                                6\n",
       "CR-V EX                                6\n",
       "CR-V EX-L                              6\n",
       "Sienna LIMITED                         5\n",
       "Sienna LE                              5\n",
       "RAV4 Adventure                         5\n",
       "Highlander LIMITED                     5\n",
       "RAV4 LIMITED                           5\n",
       "RAV4 LE                                5\n",
       "Tundra SR                              5\n",
       "Highlander Limited Platinum            5\n",
       "Highlander XLE                         5\n",
       "4Runner LIMITED                        5\n",
       "Corolla S Plus                         5\n",
       "Corolla LE                             5\n",
       "Corolla SE                             5\n",
       "Camry LE                               5\n",
       "Camry SE                               5\n",
       "Sienna XLE                             5\n",
       "Tacoma SR5                             5\n",
       "Tundra LIMITED                         5\n",
       "Tundra Platinum                        5\n",
       "Tacoma TRD Off Road                    5\n",
       "Tacoma TRD Sport                       5\n",
       "HR-V EX                                5\n",
       "Odyssey ELITE                          5\n",
       "4Runner SR5                            4\n",
       "Highlander Hybrid Limited Platinum     4\n",
       "Highlander Hybrid XLE                  4\n",
       "Accord Hybrid EX-L                     4\n",
       "RAV4 Hybrid LE                         4\n",
       "CR-V Hybrid EX                         4\n",
       "RAV4 Hybrid LIMITED                    4\n",
       "Hybrid XSE                             4\n",
       "Odyssey EX                             4\n",
       "Passport Sport                         4\n",
       "Prius Four                             4\n",
       "Prius Four Touring                     4\n",
       "Prius XLE                              4\n",
       "Prius Three                            4\n",
       "Prius Two                              4\n",
       "Highlander XSE                         3\n",
       "RAV4 XLE                               3\n",
       "Tacoma LIMITED                         3\n",
       "Camry XSE                              3\n",
       "Camry XLE                              3\n",
       "Accord CrossTour EX                    3\n",
       "4Runner TRD Off Road Premium           3\n",
       "HR-V Sport                             3\n",
       "HR-V Touring                           3\n",
       "RidgeLine RTL-T                        3\n",
       "Camry TRD                              2\n",
       "Sienna XLE Premium                     2\n",
       "Sienna L                               2\n",
       "RidgeLine Black Edition                2\n",
       "Tundra 1794                            2\n",
       "RidgeLine RTL                          2\n",
       "Fit Sport                              2\n",
       "Accord EX-L                            2\n",
       "Fit EX-L                               2\n",
       "Civic Sport                            2\n",
       "Accord Touring                         2\n",
       "Accord EX                              2\n",
       "Odyssey LX                             2\n",
       "Odyssey Touring                        2\n",
       "CR-V Touring                           2\n",
       "HR-V EX-L                              2\n",
       "Passport Touring                       2\n",
       "4Runner TRD Pro                        2\n",
       "RAV4 XLE Premium                       2\n",
       "Civic Type-R Touring                   2\n",
       "Civic EX-L                             2\n",
       "4Runner TRD Off Road                   2\n",
       "4Runner Night Shade                    1\n",
       "4Runner Limited Night Shade            1\n",
       "4Runner Venture                        1\n",
       "CR-V Hybrid LX                         1\n",
       "Tacoma SR                              1\n",
       "Corolla XSE                            1\n",
       "Odyssey Touringh ELITE                 1\n",
       "Corolla S                              1\n",
       "Corolla LE Eco                         1\n",
       "Corolla XLE                            1\n",
       "Tacoma Prerunner                       1\n",
       "Camry SE Night Shade                   1\n",
       "Corolla LE Plus                        1\n",
       "4Runner SR5 Premium                    1\n",
       "Fit                                    1\n",
       "Civic Touring                          1\n",
       "Tundra                                 1\n",
       "Highlander SE                          1\n",
       "Tundra TRD pro                         1\n",
       "Tundra SR5                             1\n",
       "Highlander LE                          1\n",
       "RidgeLine RTS                          1\n",
       "Civic SI                               1\n",
       "Civic EX-T                             1\n",
       "Camry SE SPORT                         1\n",
       "RidgeLine Sport                        1\n",
       "Sienna SE                              1\n",
       "Name: Model, dtype: int64"
      ]
     },
     "execution_count": 59,
     "metadata": {},
     "output_type": "execute_result"
    }
   ],
   "source": [
    "data5['Model'].value_counts()"
   ]
  },
  {
   "cell_type": "code",
   "execution_count": 60,
   "id": "ea9bfb0c",
   "metadata": {
    "id": "ea9bfb0c"
   },
   "outputs": [],
   "source": [
    "data5[['Model_Type1','Model_Type2']] = data5['Model'].str.split(' ', 1, expand=True)"
   ]
  },
  {
   "cell_type": "code",
   "execution_count": 61,
   "id": "d085ab80",
   "metadata": {
    "colab": {
     "base_uri": "https://localhost:8080/"
    },
    "id": "d085ab80",
    "outputId": "78214106-cfba-4d2d-dd5e-9c8ca86e309d",
    "scrolled": true
   },
   "outputs": [
    {
     "data": {
      "text/plain": [
       "Accord        59\n",
       "CR-V          40\n",
       "Civic         35\n",
       "RAV4          28\n",
       "Highlander    28\n",
       "Corolla       20\n",
       "Prius         20\n",
       "Tacoma        20\n",
       "Tundra        20\n",
       "Sienna        20\n",
       "Camry         20\n",
       "HR-V          20\n",
       "4Runner       20\n",
       "Passport      20\n",
       "RidgeLine     20\n",
       "Fit           20\n",
       "Odyssey       20\n",
       "Hybrid         4\n",
       "Name: Model_Type1, dtype: int64"
      ]
     },
     "execution_count": 61,
     "metadata": {},
     "output_type": "execute_result"
    }
   ],
   "source": [
    "data5['Model_Type1'].value_counts()"
   ]
  },
  {
   "cell_type": "code",
   "execution_count": 62,
   "id": "b5af58c5",
   "metadata": {
    "colab": {
     "base_uri": "https://localhost:8080/"
    },
    "id": "b5af58c5",
    "outputId": "ac5c143f-2fc3-4828-97a0-2c7be2ce88e9"
   },
   "outputs": [
    {
     "data": {
      "text/plain": [
       "LX                         41\n",
       "EX                         34\n",
       "EX-L                       27\n",
       "LIMITED                    23\n",
       "XLE                        21\n",
       "LE                         21\n",
       "Sport                      18\n",
       "Hybrid Touring             15\n",
       "CrossTour EX-L             15\n",
       "ELITE                      12\n",
       "SE                         12\n",
       "Touring                    12\n",
       "XSE                        11\n",
       "RTL-E                      11\n",
       "Hybrid                     10\n",
       "Hybrid EX-L                10\n",
       "SR5                        10\n",
       "SI                          7\n",
       "SR                          6\n",
       "S Plus                      5\n",
       "TRD Off Road                5\n",
       "LIMITED                     5\n",
       "Adventure                   5\n",
       "Platinum                    5\n",
       "Limited Platinum            5\n",
       "TRD Sport                   5\n",
       "Three                       4\n",
       "Four Touring                4\n",
       "XLE Premium                 4\n",
       "Four                        4\n",
       "Hybrid EX                   4\n",
       "Hybrid LIMITED              4\n",
       "Hybrid LE                   4\n",
       "Hybrid XLE                  4\n",
       "Hybrid Limited Platinum     4\n",
       "Two                         4\n",
       "CrossTour EX                3\n",
       "TRD Off Road Premium        3\n",
       "RTL-T                       3\n",
       "RTL                         2\n",
       "TRD                         2\n",
       "Black Edition               2\n",
       "TRD Pro                     2\n",
       "L                           2\n",
       "Type-R Touring              2\n",
       "1794                        2\n",
       "TRD Off Road                2\n",
       "SE Night Shade              1\n",
       "RTS                         1\n",
       "EX-T                        1\n",
       "SI                          1\n",
       "SR5 Premium                 1\n",
       "Hybrid LX                   1\n",
       "Prerunner                   1\n",
       "LE Plus                     1\n",
       "TRD pro                     1\n",
       "Venture                     1\n",
       "Limited Night Shade         1\n",
       "Night Shade                 1\n",
       "SE SPORT                    1\n",
       "LE Eco                      1\n",
       "S                           1\n",
       "Touringh ELITE              1\n",
       "Name: Model_Type2, dtype: int64"
      ]
     },
     "execution_count": 62,
     "metadata": {},
     "output_type": "execute_result"
    }
   ],
   "source": [
    "data5['Model_Type2'].value_counts()"
   ]
  },
  {
   "cell_type": "code",
   "execution_count": 63,
   "id": "18ab3850",
   "metadata": {
    "id": "18ab3850"
   },
   "outputs": [],
   "source": [
    "data5[['Model_Type3','Model_Type4']] = data5['Model_Type2'].str.split(' ', 1, expand=True)"
   ]
  },
  {
   "cell_type": "code",
   "execution_count": 64,
   "id": "fe09f391",
   "metadata": {
    "colab": {
     "base_uri": "https://localhost:8080/"
    },
    "id": "fe09f391",
    "outputId": "772c0d91-b3e5-4ccd-ede9-deb22d3a35d4"
   },
   "outputs": [
    {
     "data": {
      "text/plain": [
       "Hybrid       56\n",
       "LX           41\n",
       "EX           34\n",
       "LIMITED      28\n",
       "EX-L         27\n",
       "XLE          25\n",
       "LE           23\n",
       "TRD          20\n",
       "Sport        18\n",
       "CrossTour    18\n",
       "SE           14\n",
       "Touring      12\n",
       "ELITE        12\n",
       "SR5          11\n",
       "RTL-E        11\n",
       "XSE          11\n",
       "Four          8\n",
       "SI            8\n",
       "SR            6\n",
       "S             6\n",
       "Limited       6\n",
       "Adventure     5\n",
       "Platinum      5\n",
       "Two           4\n",
       "Three         4\n",
       "RTL-T         3\n",
       "RTL           2\n",
       "L             2\n",
       "Type-R        2\n",
       "1794          2\n",
       "Black         2\n",
       "Night         1\n",
       "Touringh      1\n",
       "RTS           1\n",
       "Venture       1\n",
       "EX-T          1\n",
       "Prerunner     1\n",
       "Name: Model_Type3, dtype: int64"
      ]
     },
     "execution_count": 64,
     "metadata": {},
     "output_type": "execute_result"
    }
   ],
   "source": [
    "data5['Model_Type3'].value_counts()"
   ]
  },
  {
   "cell_type": "code",
   "execution_count": 65,
   "id": "68d59d5a",
   "metadata": {
    "colab": {
     "base_uri": "https://localhost:8080/"
    },
    "id": "68d59d5a",
    "outputId": "d30b788d-d8b4-4b2d-9fe0-2a6a4beb1372"
   },
   "outputs": [
    {
     "data": {
      "text/plain": [
       "EX-L                25\n",
       "Touring             21\n",
       "EX                   7\n",
       "                     6\n",
       "Plus                 6\n",
       "Premium              5\n",
       "Sport                5\n",
       "Off Road             5\n",
       "Platinum             5\n",
       "XLE                  4\n",
       "LE                   4\n",
       "LIMITED              4\n",
       "Limited Platinum     4\n",
       "Off Road Premium     3\n",
       "Pro                  2\n",
       "Night Shade          2\n",
       "Off Road             2\n",
       "Edition              2\n",
       "SPORT                1\n",
       "Eco                  1\n",
       "pro                  1\n",
       "ELITE                1\n",
       "LX                   1\n",
       "Shade                1\n",
       "Name: Model_Type4, dtype: int64"
      ]
     },
     "execution_count": 65,
     "metadata": {},
     "output_type": "execute_result"
    }
   ],
   "source": [
    "data5['Model_Type4'].value_counts()"
   ]
  },
  {
   "cell_type": "code",
   "execution_count": 66,
   "id": "991fa5be",
   "metadata": {
    "id": "991fa5be"
   },
   "outputs": [],
   "source": [
    "data5.drop(['Model','Model_Type2'],axis=1, inplace=True)"
   ]
  },
  {
   "cell_type": "code",
   "execution_count": 67,
   "id": "8961f4cb",
   "metadata": {
    "colab": {
     "base_uri": "https://localhost:8080/",
     "height": 407
    },
    "id": "8961f4cb",
    "outputId": "6564dd9b-2398-4ebd-e5ac-e1a58c10c75a"
   },
   "outputs": [
    {
     "data": {
      "text/html": [
       "<div>\n",
       "<style scoped>\n",
       "    .dataframe tbody tr th:only-of-type {\n",
       "        vertical-align: middle;\n",
       "    }\n",
       "\n",
       "    .dataframe tbody tr th {\n",
       "        vertical-align: top;\n",
       "    }\n",
       "\n",
       "    .dataframe thead th {\n",
       "        text-align: right;\n",
       "    }\n",
       "</style>\n",
       "<table border=\"1\" class=\"dataframe\">\n",
       "  <thead>\n",
       "    <tr style=\"text-align: right;\">\n",
       "      <th></th>\n",
       "      <th>Milleage</th>\n",
       "      <th>horsepower</th>\n",
       "      <th>year</th>\n",
       "      <th>Exterior Color</th>\n",
       "      <th>Passenger Capacity</th>\n",
       "      <th>Price</th>\n",
       "      <th>No. of Axle</th>\n",
       "      <th>Axle Type</th>\n",
       "      <th>Cylinder</th>\n",
       "      <th>Gas Type</th>\n",
       "      <th>Litres</th>\n",
       "      <th>MPG1</th>\n",
       "      <th>MPG2</th>\n",
       "      <th>Brand_Honda</th>\n",
       "      <th>Brand_Toyota</th>\n",
       "      <th>Model_Type1</th>\n",
       "      <th>Model_Type3</th>\n",
       "      <th>Model_Type4</th>\n",
       "    </tr>\n",
       "  </thead>\n",
       "  <tbody>\n",
       "    <tr>\n",
       "      <th>0</th>\n",
       "      <td>8</td>\n",
       "      <td>212</td>\n",
       "      <td>19</td>\n",
       "      <td>7</td>\n",
       "      <td>5</td>\n",
       "      <td>37998</td>\n",
       "      <td>2</td>\n",
       "      <td>0</td>\n",
       "      <td>4</td>\n",
       "      <td>2</td>\n",
       "      <td>2.0</td>\n",
       "      <td>48</td>\n",
       "      <td>48</td>\n",
       "      <td>1</td>\n",
       "      <td>0</td>\n",
       "      <td>Accord</td>\n",
       "      <td>Hybrid</td>\n",
       "      <td>Touring</td>\n",
       "    </tr>\n",
       "    <tr>\n",
       "      <th>1</th>\n",
       "      <td>93</td>\n",
       "      <td>195</td>\n",
       "      <td>15</td>\n",
       "      <td>4</td>\n",
       "      <td>5</td>\n",
       "      <td>21998</td>\n",
       "      <td>2</td>\n",
       "      <td>0</td>\n",
       "      <td>4</td>\n",
       "      <td>2</td>\n",
       "      <td>2.0</td>\n",
       "      <td>50</td>\n",
       "      <td>45</td>\n",
       "      <td>1</td>\n",
       "      <td>0</td>\n",
       "      <td>Accord</td>\n",
       "      <td>Hybrid</td>\n",
       "      <td>EX-L</td>\n",
       "    </tr>\n",
       "    <tr>\n",
       "      <th>2</th>\n",
       "      <td>36</td>\n",
       "      <td>212</td>\n",
       "      <td>17</td>\n",
       "      <td>3</td>\n",
       "      <td>5</td>\n",
       "      <td>28998</td>\n",
       "      <td>2</td>\n",
       "      <td>0</td>\n",
       "      <td>4</td>\n",
       "      <td>2</td>\n",
       "      <td>2.0</td>\n",
       "      <td>49</td>\n",
       "      <td>47</td>\n",
       "      <td>1</td>\n",
       "      <td>0</td>\n",
       "      <td>Accord</td>\n",
       "      <td>Hybrid</td>\n",
       "      <td>EX-L</td>\n",
       "    </tr>\n",
       "    <tr>\n",
       "      <th>3</th>\n",
       "      <td>29</td>\n",
       "      <td>212</td>\n",
       "      <td>20</td>\n",
       "      <td>4</td>\n",
       "      <td>5</td>\n",
       "      <td>29998</td>\n",
       "      <td>2</td>\n",
       "      <td>0</td>\n",
       "      <td>4</td>\n",
       "      <td>2</td>\n",
       "      <td>2.0</td>\n",
       "      <td>48</td>\n",
       "      <td>47</td>\n",
       "      <td>1</td>\n",
       "      <td>0</td>\n",
       "      <td>Accord</td>\n",
       "      <td>Hybrid</td>\n",
       "      <td>None</td>\n",
       "    </tr>\n",
       "    <tr>\n",
       "      <th>4</th>\n",
       "      <td>16</td>\n",
       "      <td>212</td>\n",
       "      <td>20</td>\n",
       "      <td>7</td>\n",
       "      <td>5</td>\n",
       "      <td>36998</td>\n",
       "      <td>2</td>\n",
       "      <td>0</td>\n",
       "      <td>4</td>\n",
       "      <td>2</td>\n",
       "      <td>2.0</td>\n",
       "      <td>48</td>\n",
       "      <td>47</td>\n",
       "      <td>1</td>\n",
       "      <td>0</td>\n",
       "      <td>Accord</td>\n",
       "      <td>Hybrid</td>\n",
       "      <td>Touring</td>\n",
       "    </tr>\n",
       "    <tr>\n",
       "      <th>5</th>\n",
       "      <td>3</td>\n",
       "      <td>212</td>\n",
       "      <td>21</td>\n",
       "      <td>5</td>\n",
       "      <td>5</td>\n",
       "      <td>37998</td>\n",
       "      <td>2</td>\n",
       "      <td>0</td>\n",
       "      <td>4</td>\n",
       "      <td>2</td>\n",
       "      <td>2.0</td>\n",
       "      <td>48</td>\n",
       "      <td>48</td>\n",
       "      <td>1</td>\n",
       "      <td>0</td>\n",
       "      <td>Accord</td>\n",
       "      <td>Hybrid</td>\n",
       "      <td>EX-L</td>\n",
       "    </tr>\n",
       "    <tr>\n",
       "      <th>6</th>\n",
       "      <td>22</td>\n",
       "      <td>212</td>\n",
       "      <td>20</td>\n",
       "      <td>4</td>\n",
       "      <td>5</td>\n",
       "      <td>30998</td>\n",
       "      <td>2</td>\n",
       "      <td>0</td>\n",
       "      <td>4</td>\n",
       "      <td>2</td>\n",
       "      <td>2.0</td>\n",
       "      <td>48</td>\n",
       "      <td>47</td>\n",
       "      <td>1</td>\n",
       "      <td>0</td>\n",
       "      <td>Accord</td>\n",
       "      <td>Hybrid</td>\n",
       "      <td>None</td>\n",
       "    </tr>\n",
       "    <tr>\n",
       "      <th>7</th>\n",
       "      <td>25</td>\n",
       "      <td>212</td>\n",
       "      <td>17</td>\n",
       "      <td>5</td>\n",
       "      <td>5</td>\n",
       "      <td>29998</td>\n",
       "      <td>2</td>\n",
       "      <td>0</td>\n",
       "      <td>4</td>\n",
       "      <td>2</td>\n",
       "      <td>2.0</td>\n",
       "      <td>49</td>\n",
       "      <td>47</td>\n",
       "      <td>1</td>\n",
       "      <td>0</td>\n",
       "      <td>Accord</td>\n",
       "      <td>Hybrid</td>\n",
       "      <td>Touring</td>\n",
       "    </tr>\n",
       "    <tr>\n",
       "      <th>8</th>\n",
       "      <td>10</td>\n",
       "      <td>212</td>\n",
       "      <td>19</td>\n",
       "      <td>5</td>\n",
       "      <td>5</td>\n",
       "      <td>36998</td>\n",
       "      <td>2</td>\n",
       "      <td>0</td>\n",
       "      <td>4</td>\n",
       "      <td>2</td>\n",
       "      <td>2.0</td>\n",
       "      <td>48</td>\n",
       "      <td>48</td>\n",
       "      <td>1</td>\n",
       "      <td>0</td>\n",
       "      <td>Accord</td>\n",
       "      <td>Hybrid</td>\n",
       "      <td>None</td>\n",
       "    </tr>\n",
       "    <tr>\n",
       "      <th>9</th>\n",
       "      <td>23</td>\n",
       "      <td>212</td>\n",
       "      <td>17</td>\n",
       "      <td>7</td>\n",
       "      <td>5</td>\n",
       "      <td>28998</td>\n",
       "      <td>2</td>\n",
       "      <td>0</td>\n",
       "      <td>4</td>\n",
       "      <td>2</td>\n",
       "      <td>2.0</td>\n",
       "      <td>49</td>\n",
       "      <td>47</td>\n",
       "      <td>1</td>\n",
       "      <td>0</td>\n",
       "      <td>Accord</td>\n",
       "      <td>Hybrid</td>\n",
       "      <td>None</td>\n",
       "    </tr>\n",
       "  </tbody>\n",
       "</table>\n",
       "</div>"
      ],
      "text/plain": [
       "   Milleage  horsepower  year  Exterior Color  Passenger Capacity  Price  \\\n",
       "0         8         212    19               7                   5  37998   \n",
       "1        93         195    15               4                   5  21998   \n",
       "2        36         212    17               3                   5  28998   \n",
       "3        29         212    20               4                   5  29998   \n",
       "4        16         212    20               7                   5  36998   \n",
       "5         3         212    21               5                   5  37998   \n",
       "6        22         212    20               4                   5  30998   \n",
       "7        25         212    17               5                   5  29998   \n",
       "8        10         212    19               5                   5  36998   \n",
       "9        23         212    17               7                   5  28998   \n",
       "\n",
       "   No. of Axle  Axle Type  Cylinder  Gas Type  Litres  MPG1  MPG2  \\\n",
       "0            2          0         4         2     2.0    48    48   \n",
       "1            2          0         4         2     2.0    50    45   \n",
       "2            2          0         4         2     2.0    49    47   \n",
       "3            2          0         4         2     2.0    48    47   \n",
       "4            2          0         4         2     2.0    48    47   \n",
       "5            2          0         4         2     2.0    48    48   \n",
       "6            2          0         4         2     2.0    48    47   \n",
       "7            2          0         4         2     2.0    49    47   \n",
       "8            2          0         4         2     2.0    48    48   \n",
       "9            2          0         4         2     2.0    49    47   \n",
       "\n",
       "   Brand_Honda  Brand_Toyota Model_Type1 Model_Type3 Model_Type4  \n",
       "0            1             0      Accord      Hybrid     Touring  \n",
       "1            1             0      Accord      Hybrid        EX-L  \n",
       "2            1             0      Accord      Hybrid        EX-L  \n",
       "3            1             0      Accord      Hybrid        None  \n",
       "4            1             0      Accord      Hybrid     Touring  \n",
       "5            1             0      Accord      Hybrid        EX-L  \n",
       "6            1             0      Accord      Hybrid        None  \n",
       "7            1             0      Accord      Hybrid     Touring  \n",
       "8            1             0      Accord      Hybrid        None  \n",
       "9            1             0      Accord      Hybrid        None  "
      ]
     },
     "execution_count": 67,
     "metadata": {},
     "output_type": "execute_result"
    }
   ],
   "source": [
    "data5.head(10)"
   ]
  },
  {
   "cell_type": "code",
   "execution_count": 68,
   "id": "6122383b",
   "metadata": {
    "id": "6122383b"
   },
   "outputs": [],
   "source": [
    "data6 = data5.copy()"
   ]
  },
  {
   "cell_type": "code",
   "execution_count": 69,
   "id": "fefae095",
   "metadata": {
    "id": "fefae095"
   },
   "outputs": [],
   "source": [
    "data6 = pd.get_dummies(data6, columns=['Model_Type1'])"
   ]
  },
  {
   "cell_type": "code",
   "execution_count": 70,
   "id": "1517bddc",
   "metadata": {
    "id": "1517bddc"
   },
   "outputs": [],
   "source": [
    "data6 = pd.get_dummies(data6, columns=['Model_Type3'])"
   ]
  },
  {
   "cell_type": "code",
   "execution_count": 71,
   "id": "ff5e3530",
   "metadata": {
    "id": "ff5e3530"
   },
   "outputs": [],
   "source": [
    "data6 = pd.get_dummies(data6, columns=['Model_Type4'])"
   ]
  },
  {
   "cell_type": "code",
   "execution_count": 72,
   "id": "9189c58a",
   "metadata": {
    "colab": {
     "base_uri": "https://localhost:8080/"
    },
    "id": "9189c58a",
    "outputId": "def7ac34-7d87-46a8-8e43-44d059b5f18a"
   },
   "outputs": [
    {
     "data": {
      "text/plain": [
       "Index(['Model_Type3_1794', 'Model_Type3_Adventure', 'Model_Type3_Black',\n",
       "       'Model_Type3_CrossTour', 'Model_Type3_ELITE', 'Model_Type3_EX',\n",
       "       'Model_Type3_EX-L', 'Model_Type3_EX-T', 'Model_Type3_Four',\n",
       "       'Model_Type3_Hybrid', 'Model_Type3_L', 'Model_Type3_LE',\n",
       "       'Model_Type3_LIMITED', 'Model_Type3_LX', 'Model_Type3_Limited',\n",
       "       'Model_Type3_Night', 'Model_Type3_Platinum', 'Model_Type3_Prerunner',\n",
       "       'Model_Type3_RTL', 'Model_Type3_RTL-E', 'Model_Type3_RTL-T',\n",
       "       'Model_Type3_RTS', 'Model_Type3_S', 'Model_Type3_SE', 'Model_Type3_SI',\n",
       "       'Model_Type3_SR', 'Model_Type3_SR5', 'Model_Type3_Sport',\n",
       "       'Model_Type3_TRD', 'Model_Type3_Three', 'Model_Type3_Touring',\n",
       "       'Model_Type3_Touringh', 'Model_Type3_Two', 'Model_Type3_Type-R',\n",
       "       'Model_Type3_Venture', 'Model_Type3_XLE', 'Model_Type3_XSE',\n",
       "       'Model_Type4_', 'Model_Type4_ELITE', 'Model_Type4_EX',\n",
       "       'Model_Type4_EX-L', 'Model_Type4_Eco', 'Model_Type4_Edition',\n",
       "       'Model_Type4_LE', 'Model_Type4_LIMITED', 'Model_Type4_LX',\n",
       "       'Model_Type4_Limited Platinum', 'Model_Type4_Night Shade',\n",
       "       'Model_Type4_Off Road', 'Model_Type4_Off Road ',\n",
       "       'Model_Type4_Off Road Premium', 'Model_Type4_Platinum',\n",
       "       'Model_Type4_Plus', 'Model_Type4_Premium', 'Model_Type4_Pro',\n",
       "       'Model_Type4_SPORT', 'Model_Type4_Shade', 'Model_Type4_Sport',\n",
       "       'Model_Type4_Touring', 'Model_Type4_XLE', 'Model_Type4_pro'],\n",
       "      dtype='object')"
      ]
     },
     "execution_count": 72,
     "metadata": {},
     "output_type": "execute_result"
    }
   ],
   "source": [
    "data6.columns[33:111] # all models"
   ]
  },
  {
   "cell_type": "code",
   "execution_count": 73,
   "id": "1c0a1315",
   "metadata": {
    "colab": {
     "base_uri": "https://localhost:8080/",
     "height": 304
    },
    "id": "1c0a1315",
    "outputId": "98474189-9b94-43bd-bb21-94f342fe651f"
   },
   "outputs": [
    {
     "data": {
      "text/html": [
       "<div>\n",
       "<style scoped>\n",
       "    .dataframe tbody tr th:only-of-type {\n",
       "        vertical-align: middle;\n",
       "    }\n",
       "\n",
       "    .dataframe tbody tr th {\n",
       "        vertical-align: top;\n",
       "    }\n",
       "\n",
       "    .dataframe thead th {\n",
       "        text-align: right;\n",
       "    }\n",
       "</style>\n",
       "<table border=\"1\" class=\"dataframe\">\n",
       "  <thead>\n",
       "    <tr style=\"text-align: right;\">\n",
       "      <th></th>\n",
       "      <th>Milleage</th>\n",
       "      <th>horsepower</th>\n",
       "      <th>year</th>\n",
       "      <th>Exterior Color</th>\n",
       "      <th>Passenger Capacity</th>\n",
       "      <th>Price</th>\n",
       "      <th>No. of Axle</th>\n",
       "      <th>Axle Type</th>\n",
       "      <th>Cylinder</th>\n",
       "      <th>Gas Type</th>\n",
       "      <th>Litres</th>\n",
       "      <th>MPG1</th>\n",
       "      <th>MPG2</th>\n",
       "      <th>Brand_Honda</th>\n",
       "      <th>Brand_Toyota</th>\n",
       "      <th>Model_Type1_4Runner</th>\n",
       "      <th>Model_Type1_Accord</th>\n",
       "      <th>Model_Type1_CR-V</th>\n",
       "      <th>Model_Type1_Camry</th>\n",
       "      <th>Model_Type1_Civic</th>\n",
       "      <th>Model_Type1_Corolla</th>\n",
       "      <th>Model_Type1_Fit</th>\n",
       "      <th>Model_Type1_HR-V</th>\n",
       "      <th>Model_Type1_Highlander</th>\n",
       "      <th>Model_Type1_Hybrid</th>\n",
       "      <th>Model_Type1_Odyssey</th>\n",
       "      <th>Model_Type1_Passport</th>\n",
       "      <th>Model_Type1_Prius</th>\n",
       "      <th>Model_Type1_RAV4</th>\n",
       "      <th>Model_Type1_RidgeLine</th>\n",
       "      <th>Model_Type1_Sienna</th>\n",
       "      <th>Model_Type1_Tacoma</th>\n",
       "      <th>Model_Type1_Tundra</th>\n",
       "      <th>Model_Type3_1794</th>\n",
       "      <th>Model_Type3_Adventure</th>\n",
       "      <th>Model_Type3_Black</th>\n",
       "      <th>Model_Type3_CrossTour</th>\n",
       "      <th>Model_Type3_ELITE</th>\n",
       "      <th>Model_Type3_EX</th>\n",
       "      <th>Model_Type3_EX-L</th>\n",
       "      <th>Model_Type3_EX-T</th>\n",
       "      <th>Model_Type3_Four</th>\n",
       "      <th>Model_Type3_Hybrid</th>\n",
       "      <th>Model_Type3_L</th>\n",
       "      <th>Model_Type3_LE</th>\n",
       "      <th>Model_Type3_LIMITED</th>\n",
       "      <th>Model_Type3_LX</th>\n",
       "      <th>Model_Type3_Limited</th>\n",
       "      <th>Model_Type3_Night</th>\n",
       "      <th>Model_Type3_Platinum</th>\n",
       "      <th>Model_Type3_Prerunner</th>\n",
       "      <th>Model_Type3_RTL</th>\n",
       "      <th>Model_Type3_RTL-E</th>\n",
       "      <th>Model_Type3_RTL-T</th>\n",
       "      <th>Model_Type3_RTS</th>\n",
       "      <th>Model_Type3_S</th>\n",
       "      <th>Model_Type3_SE</th>\n",
       "      <th>Model_Type3_SI</th>\n",
       "      <th>Model_Type3_SR</th>\n",
       "      <th>Model_Type3_SR5</th>\n",
       "      <th>Model_Type3_Sport</th>\n",
       "      <th>Model_Type3_TRD</th>\n",
       "      <th>Model_Type3_Three</th>\n",
       "      <th>Model_Type3_Touring</th>\n",
       "      <th>Model_Type3_Touringh</th>\n",
       "      <th>Model_Type3_Two</th>\n",
       "      <th>Model_Type3_Type-R</th>\n",
       "      <th>Model_Type3_Venture</th>\n",
       "      <th>Model_Type3_XLE</th>\n",
       "      <th>Model_Type3_XSE</th>\n",
       "      <th>Model_Type4_</th>\n",
       "      <th>Model_Type4_ELITE</th>\n",
       "      <th>Model_Type4_EX</th>\n",
       "      <th>Model_Type4_EX-L</th>\n",
       "      <th>Model_Type4_Eco</th>\n",
       "      <th>Model_Type4_Edition</th>\n",
       "      <th>Model_Type4_LE</th>\n",
       "      <th>Model_Type4_LIMITED</th>\n",
       "      <th>Model_Type4_LX</th>\n",
       "      <th>Model_Type4_Limited Platinum</th>\n",
       "      <th>Model_Type4_Night Shade</th>\n",
       "      <th>Model_Type4_Off Road</th>\n",
       "      <th>Model_Type4_Off Road</th>\n",
       "      <th>Model_Type4_Off Road Premium</th>\n",
       "      <th>Model_Type4_Platinum</th>\n",
       "      <th>Model_Type4_Plus</th>\n",
       "      <th>Model_Type4_Premium</th>\n",
       "      <th>Model_Type4_Pro</th>\n",
       "      <th>Model_Type4_SPORT</th>\n",
       "      <th>Model_Type4_Shade</th>\n",
       "      <th>Model_Type4_Sport</th>\n",
       "      <th>Model_Type4_Touring</th>\n",
       "      <th>Model_Type4_XLE</th>\n",
       "      <th>Model_Type4_pro</th>\n",
       "    </tr>\n",
       "  </thead>\n",
       "  <tbody>\n",
       "    <tr>\n",
       "      <th>0</th>\n",
       "      <td>8</td>\n",
       "      <td>212</td>\n",
       "      <td>19</td>\n",
       "      <td>7</td>\n",
       "      <td>5</td>\n",
       "      <td>37998</td>\n",
       "      <td>2</td>\n",
       "      <td>0</td>\n",
       "      <td>4</td>\n",
       "      <td>2</td>\n",
       "      <td>2.0</td>\n",
       "      <td>48</td>\n",
       "      <td>48</td>\n",
       "      <td>1</td>\n",
       "      <td>0</td>\n",
       "      <td>0</td>\n",
       "      <td>1</td>\n",
       "      <td>0</td>\n",
       "      <td>0</td>\n",
       "      <td>0</td>\n",
       "      <td>0</td>\n",
       "      <td>0</td>\n",
       "      <td>0</td>\n",
       "      <td>0</td>\n",
       "      <td>0</td>\n",
       "      <td>0</td>\n",
       "      <td>0</td>\n",
       "      <td>0</td>\n",
       "      <td>0</td>\n",
       "      <td>0</td>\n",
       "      <td>0</td>\n",
       "      <td>0</td>\n",
       "      <td>0</td>\n",
       "      <td>0</td>\n",
       "      <td>0</td>\n",
       "      <td>0</td>\n",
       "      <td>0</td>\n",
       "      <td>0</td>\n",
       "      <td>0</td>\n",
       "      <td>0</td>\n",
       "      <td>0</td>\n",
       "      <td>0</td>\n",
       "      <td>1</td>\n",
       "      <td>0</td>\n",
       "      <td>0</td>\n",
       "      <td>0</td>\n",
       "      <td>0</td>\n",
       "      <td>0</td>\n",
       "      <td>0</td>\n",
       "      <td>0</td>\n",
       "      <td>0</td>\n",
       "      <td>0</td>\n",
       "      <td>0</td>\n",
       "      <td>0</td>\n",
       "      <td>0</td>\n",
       "      <td>0</td>\n",
       "      <td>0</td>\n",
       "      <td>0</td>\n",
       "      <td>0</td>\n",
       "      <td>0</td>\n",
       "      <td>0</td>\n",
       "      <td>0</td>\n",
       "      <td>0</td>\n",
       "      <td>0</td>\n",
       "      <td>0</td>\n",
       "      <td>0</td>\n",
       "      <td>0</td>\n",
       "      <td>0</td>\n",
       "      <td>0</td>\n",
       "      <td>0</td>\n",
       "      <td>0</td>\n",
       "      <td>0</td>\n",
       "      <td>0</td>\n",
       "      <td>0</td>\n",
       "      <td>0</td>\n",
       "      <td>0</td>\n",
       "      <td>0</td>\n",
       "      <td>0</td>\n",
       "      <td>0</td>\n",
       "      <td>0</td>\n",
       "      <td>0</td>\n",
       "      <td>0</td>\n",
       "      <td>0</td>\n",
       "      <td>0</td>\n",
       "      <td>0</td>\n",
       "      <td>0</td>\n",
       "      <td>0</td>\n",
       "      <td>0</td>\n",
       "      <td>0</td>\n",
       "      <td>0</td>\n",
       "      <td>0</td>\n",
       "      <td>1</td>\n",
       "      <td>0</td>\n",
       "      <td>0</td>\n",
       "    </tr>\n",
       "    <tr>\n",
       "      <th>1</th>\n",
       "      <td>93</td>\n",
       "      <td>195</td>\n",
       "      <td>15</td>\n",
       "      <td>4</td>\n",
       "      <td>5</td>\n",
       "      <td>21998</td>\n",
       "      <td>2</td>\n",
       "      <td>0</td>\n",
       "      <td>4</td>\n",
       "      <td>2</td>\n",
       "      <td>2.0</td>\n",
       "      <td>50</td>\n",
       "      <td>45</td>\n",
       "      <td>1</td>\n",
       "      <td>0</td>\n",
       "      <td>0</td>\n",
       "      <td>1</td>\n",
       "      <td>0</td>\n",
       "      <td>0</td>\n",
       "      <td>0</td>\n",
       "      <td>0</td>\n",
       "      <td>0</td>\n",
       "      <td>0</td>\n",
       "      <td>0</td>\n",
       "      <td>0</td>\n",
       "      <td>0</td>\n",
       "      <td>0</td>\n",
       "      <td>0</td>\n",
       "      <td>0</td>\n",
       "      <td>0</td>\n",
       "      <td>0</td>\n",
       "      <td>0</td>\n",
       "      <td>0</td>\n",
       "      <td>0</td>\n",
       "      <td>0</td>\n",
       "      <td>0</td>\n",
       "      <td>0</td>\n",
       "      <td>0</td>\n",
       "      <td>0</td>\n",
       "      <td>0</td>\n",
       "      <td>0</td>\n",
       "      <td>0</td>\n",
       "      <td>1</td>\n",
       "      <td>0</td>\n",
       "      <td>0</td>\n",
       "      <td>0</td>\n",
       "      <td>0</td>\n",
       "      <td>0</td>\n",
       "      <td>0</td>\n",
       "      <td>0</td>\n",
       "      <td>0</td>\n",
       "      <td>0</td>\n",
       "      <td>0</td>\n",
       "      <td>0</td>\n",
       "      <td>0</td>\n",
       "      <td>0</td>\n",
       "      <td>0</td>\n",
       "      <td>0</td>\n",
       "      <td>0</td>\n",
       "      <td>0</td>\n",
       "      <td>0</td>\n",
       "      <td>0</td>\n",
       "      <td>0</td>\n",
       "      <td>0</td>\n",
       "      <td>0</td>\n",
       "      <td>0</td>\n",
       "      <td>0</td>\n",
       "      <td>0</td>\n",
       "      <td>0</td>\n",
       "      <td>0</td>\n",
       "      <td>0</td>\n",
       "      <td>0</td>\n",
       "      <td>0</td>\n",
       "      <td>1</td>\n",
       "      <td>0</td>\n",
       "      <td>0</td>\n",
       "      <td>0</td>\n",
       "      <td>0</td>\n",
       "      <td>0</td>\n",
       "      <td>0</td>\n",
       "      <td>0</td>\n",
       "      <td>0</td>\n",
       "      <td>0</td>\n",
       "      <td>0</td>\n",
       "      <td>0</td>\n",
       "      <td>0</td>\n",
       "      <td>0</td>\n",
       "      <td>0</td>\n",
       "      <td>0</td>\n",
       "      <td>0</td>\n",
       "      <td>0</td>\n",
       "      <td>0</td>\n",
       "      <td>0</td>\n",
       "      <td>0</td>\n",
       "    </tr>\n",
       "    <tr>\n",
       "      <th>2</th>\n",
       "      <td>36</td>\n",
       "      <td>212</td>\n",
       "      <td>17</td>\n",
       "      <td>3</td>\n",
       "      <td>5</td>\n",
       "      <td>28998</td>\n",
       "      <td>2</td>\n",
       "      <td>0</td>\n",
       "      <td>4</td>\n",
       "      <td>2</td>\n",
       "      <td>2.0</td>\n",
       "      <td>49</td>\n",
       "      <td>47</td>\n",
       "      <td>1</td>\n",
       "      <td>0</td>\n",
       "      <td>0</td>\n",
       "      <td>1</td>\n",
       "      <td>0</td>\n",
       "      <td>0</td>\n",
       "      <td>0</td>\n",
       "      <td>0</td>\n",
       "      <td>0</td>\n",
       "      <td>0</td>\n",
       "      <td>0</td>\n",
       "      <td>0</td>\n",
       "      <td>0</td>\n",
       "      <td>0</td>\n",
       "      <td>0</td>\n",
       "      <td>0</td>\n",
       "      <td>0</td>\n",
       "      <td>0</td>\n",
       "      <td>0</td>\n",
       "      <td>0</td>\n",
       "      <td>0</td>\n",
       "      <td>0</td>\n",
       "      <td>0</td>\n",
       "      <td>0</td>\n",
       "      <td>0</td>\n",
       "      <td>0</td>\n",
       "      <td>0</td>\n",
       "      <td>0</td>\n",
       "      <td>0</td>\n",
       "      <td>1</td>\n",
       "      <td>0</td>\n",
       "      <td>0</td>\n",
       "      <td>0</td>\n",
       "      <td>0</td>\n",
       "      <td>0</td>\n",
       "      <td>0</td>\n",
       "      <td>0</td>\n",
       "      <td>0</td>\n",
       "      <td>0</td>\n",
       "      <td>0</td>\n",
       "      <td>0</td>\n",
       "      <td>0</td>\n",
       "      <td>0</td>\n",
       "      <td>0</td>\n",
       "      <td>0</td>\n",
       "      <td>0</td>\n",
       "      <td>0</td>\n",
       "      <td>0</td>\n",
       "      <td>0</td>\n",
       "      <td>0</td>\n",
       "      <td>0</td>\n",
       "      <td>0</td>\n",
       "      <td>0</td>\n",
       "      <td>0</td>\n",
       "      <td>0</td>\n",
       "      <td>0</td>\n",
       "      <td>0</td>\n",
       "      <td>0</td>\n",
       "      <td>0</td>\n",
       "      <td>0</td>\n",
       "      <td>1</td>\n",
       "      <td>0</td>\n",
       "      <td>0</td>\n",
       "      <td>0</td>\n",
       "      <td>0</td>\n",
       "      <td>0</td>\n",
       "      <td>0</td>\n",
       "      <td>0</td>\n",
       "      <td>0</td>\n",
       "      <td>0</td>\n",
       "      <td>0</td>\n",
       "      <td>0</td>\n",
       "      <td>0</td>\n",
       "      <td>0</td>\n",
       "      <td>0</td>\n",
       "      <td>0</td>\n",
       "      <td>0</td>\n",
       "      <td>0</td>\n",
       "      <td>0</td>\n",
       "      <td>0</td>\n",
       "      <td>0</td>\n",
       "    </tr>\n",
       "    <tr>\n",
       "      <th>3</th>\n",
       "      <td>29</td>\n",
       "      <td>212</td>\n",
       "      <td>20</td>\n",
       "      <td>4</td>\n",
       "      <td>5</td>\n",
       "      <td>29998</td>\n",
       "      <td>2</td>\n",
       "      <td>0</td>\n",
       "      <td>4</td>\n",
       "      <td>2</td>\n",
       "      <td>2.0</td>\n",
       "      <td>48</td>\n",
       "      <td>47</td>\n",
       "      <td>1</td>\n",
       "      <td>0</td>\n",
       "      <td>0</td>\n",
       "      <td>1</td>\n",
       "      <td>0</td>\n",
       "      <td>0</td>\n",
       "      <td>0</td>\n",
       "      <td>0</td>\n",
       "      <td>0</td>\n",
       "      <td>0</td>\n",
       "      <td>0</td>\n",
       "      <td>0</td>\n",
       "      <td>0</td>\n",
       "      <td>0</td>\n",
       "      <td>0</td>\n",
       "      <td>0</td>\n",
       "      <td>0</td>\n",
       "      <td>0</td>\n",
       "      <td>0</td>\n",
       "      <td>0</td>\n",
       "      <td>0</td>\n",
       "      <td>0</td>\n",
       "      <td>0</td>\n",
       "      <td>0</td>\n",
       "      <td>0</td>\n",
       "      <td>0</td>\n",
       "      <td>0</td>\n",
       "      <td>0</td>\n",
       "      <td>0</td>\n",
       "      <td>1</td>\n",
       "      <td>0</td>\n",
       "      <td>0</td>\n",
       "      <td>0</td>\n",
       "      <td>0</td>\n",
       "      <td>0</td>\n",
       "      <td>0</td>\n",
       "      <td>0</td>\n",
       "      <td>0</td>\n",
       "      <td>0</td>\n",
       "      <td>0</td>\n",
       "      <td>0</td>\n",
       "      <td>0</td>\n",
       "      <td>0</td>\n",
       "      <td>0</td>\n",
       "      <td>0</td>\n",
       "      <td>0</td>\n",
       "      <td>0</td>\n",
       "      <td>0</td>\n",
       "      <td>0</td>\n",
       "      <td>0</td>\n",
       "      <td>0</td>\n",
       "      <td>0</td>\n",
       "      <td>0</td>\n",
       "      <td>0</td>\n",
       "      <td>0</td>\n",
       "      <td>0</td>\n",
       "      <td>0</td>\n",
       "      <td>0</td>\n",
       "      <td>0</td>\n",
       "      <td>0</td>\n",
       "      <td>0</td>\n",
       "      <td>0</td>\n",
       "      <td>0</td>\n",
       "      <td>0</td>\n",
       "      <td>0</td>\n",
       "      <td>0</td>\n",
       "      <td>0</td>\n",
       "      <td>0</td>\n",
       "      <td>0</td>\n",
       "      <td>0</td>\n",
       "      <td>0</td>\n",
       "      <td>0</td>\n",
       "      <td>0</td>\n",
       "      <td>0</td>\n",
       "      <td>0</td>\n",
       "      <td>0</td>\n",
       "      <td>0</td>\n",
       "      <td>0</td>\n",
       "      <td>0</td>\n",
       "      <td>0</td>\n",
       "      <td>0</td>\n",
       "    </tr>\n",
       "    <tr>\n",
       "      <th>4</th>\n",
       "      <td>16</td>\n",
       "      <td>212</td>\n",
       "      <td>20</td>\n",
       "      <td>7</td>\n",
       "      <td>5</td>\n",
       "      <td>36998</td>\n",
       "      <td>2</td>\n",
       "      <td>0</td>\n",
       "      <td>4</td>\n",
       "      <td>2</td>\n",
       "      <td>2.0</td>\n",
       "      <td>48</td>\n",
       "      <td>47</td>\n",
       "      <td>1</td>\n",
       "      <td>0</td>\n",
       "      <td>0</td>\n",
       "      <td>1</td>\n",
       "      <td>0</td>\n",
       "      <td>0</td>\n",
       "      <td>0</td>\n",
       "      <td>0</td>\n",
       "      <td>0</td>\n",
       "      <td>0</td>\n",
       "      <td>0</td>\n",
       "      <td>0</td>\n",
       "      <td>0</td>\n",
       "      <td>0</td>\n",
       "      <td>0</td>\n",
       "      <td>0</td>\n",
       "      <td>0</td>\n",
       "      <td>0</td>\n",
       "      <td>0</td>\n",
       "      <td>0</td>\n",
       "      <td>0</td>\n",
       "      <td>0</td>\n",
       "      <td>0</td>\n",
       "      <td>0</td>\n",
       "      <td>0</td>\n",
       "      <td>0</td>\n",
       "      <td>0</td>\n",
       "      <td>0</td>\n",
       "      <td>0</td>\n",
       "      <td>1</td>\n",
       "      <td>0</td>\n",
       "      <td>0</td>\n",
       "      <td>0</td>\n",
       "      <td>0</td>\n",
       "      <td>0</td>\n",
       "      <td>0</td>\n",
       "      <td>0</td>\n",
       "      <td>0</td>\n",
       "      <td>0</td>\n",
       "      <td>0</td>\n",
       "      <td>0</td>\n",
       "      <td>0</td>\n",
       "      <td>0</td>\n",
       "      <td>0</td>\n",
       "      <td>0</td>\n",
       "      <td>0</td>\n",
       "      <td>0</td>\n",
       "      <td>0</td>\n",
       "      <td>0</td>\n",
       "      <td>0</td>\n",
       "      <td>0</td>\n",
       "      <td>0</td>\n",
       "      <td>0</td>\n",
       "      <td>0</td>\n",
       "      <td>0</td>\n",
       "      <td>0</td>\n",
       "      <td>0</td>\n",
       "      <td>0</td>\n",
       "      <td>0</td>\n",
       "      <td>0</td>\n",
       "      <td>0</td>\n",
       "      <td>0</td>\n",
       "      <td>0</td>\n",
       "      <td>0</td>\n",
       "      <td>0</td>\n",
       "      <td>0</td>\n",
       "      <td>0</td>\n",
       "      <td>0</td>\n",
       "      <td>0</td>\n",
       "      <td>0</td>\n",
       "      <td>0</td>\n",
       "      <td>0</td>\n",
       "      <td>0</td>\n",
       "      <td>0</td>\n",
       "      <td>0</td>\n",
       "      <td>0</td>\n",
       "      <td>0</td>\n",
       "      <td>0</td>\n",
       "      <td>1</td>\n",
       "      <td>0</td>\n",
       "      <td>0</td>\n",
       "    </tr>\n",
       "  </tbody>\n",
       "</table>\n",
       "</div>"
      ],
      "text/plain": [
       "   Milleage  horsepower  year  Exterior Color  Passenger Capacity  Price  \\\n",
       "0         8         212    19               7                   5  37998   \n",
       "1        93         195    15               4                   5  21998   \n",
       "2        36         212    17               3                   5  28998   \n",
       "3        29         212    20               4                   5  29998   \n",
       "4        16         212    20               7                   5  36998   \n",
       "\n",
       "   No. of Axle  Axle Type  Cylinder  Gas Type  Litres  MPG1  MPG2  \\\n",
       "0            2          0         4         2     2.0    48    48   \n",
       "1            2          0         4         2     2.0    50    45   \n",
       "2            2          0         4         2     2.0    49    47   \n",
       "3            2          0         4         2     2.0    48    47   \n",
       "4            2          0         4         2     2.0    48    47   \n",
       "\n",
       "   Brand_Honda  Brand_Toyota  Model_Type1_4Runner  Model_Type1_Accord  \\\n",
       "0            1             0                    0                   1   \n",
       "1            1             0                    0                   1   \n",
       "2            1             0                    0                   1   \n",
       "3            1             0                    0                   1   \n",
       "4            1             0                    0                   1   \n",
       "\n",
       "   Model_Type1_CR-V  Model_Type1_Camry  Model_Type1_Civic  \\\n",
       "0                 0                  0                  0   \n",
       "1                 0                  0                  0   \n",
       "2                 0                  0                  0   \n",
       "3                 0                  0                  0   \n",
       "4                 0                  0                  0   \n",
       "\n",
       "   Model_Type1_Corolla  Model_Type1_Fit  Model_Type1_HR-V  \\\n",
       "0                    0                0                 0   \n",
       "1                    0                0                 0   \n",
       "2                    0                0                 0   \n",
       "3                    0                0                 0   \n",
       "4                    0                0                 0   \n",
       "\n",
       "   Model_Type1_Highlander  Model_Type1_Hybrid  Model_Type1_Odyssey  \\\n",
       "0                       0                   0                    0   \n",
       "1                       0                   0                    0   \n",
       "2                       0                   0                    0   \n",
       "3                       0                   0                    0   \n",
       "4                       0                   0                    0   \n",
       "\n",
       "   Model_Type1_Passport  Model_Type1_Prius  Model_Type1_RAV4  \\\n",
       "0                     0                  0                 0   \n",
       "1                     0                  0                 0   \n",
       "2                     0                  0                 0   \n",
       "3                     0                  0                 0   \n",
       "4                     0                  0                 0   \n",
       "\n",
       "   Model_Type1_RidgeLine  Model_Type1_Sienna  Model_Type1_Tacoma  \\\n",
       "0                      0                   0                   0   \n",
       "1                      0                   0                   0   \n",
       "2                      0                   0                   0   \n",
       "3                      0                   0                   0   \n",
       "4                      0                   0                   0   \n",
       "\n",
       "   Model_Type1_Tundra  Model_Type3_1794  Model_Type3_Adventure  \\\n",
       "0                   0                 0                      0   \n",
       "1                   0                 0                      0   \n",
       "2                   0                 0                      0   \n",
       "3                   0                 0                      0   \n",
       "4                   0                 0                      0   \n",
       "\n",
       "   Model_Type3_Black  Model_Type3_CrossTour  Model_Type3_ELITE  \\\n",
       "0                  0                      0                  0   \n",
       "1                  0                      0                  0   \n",
       "2                  0                      0                  0   \n",
       "3                  0                      0                  0   \n",
       "4                  0                      0                  0   \n",
       "\n",
       "   Model_Type3_EX  Model_Type3_EX-L  Model_Type3_EX-T  Model_Type3_Four  \\\n",
       "0               0                 0                 0                 0   \n",
       "1               0                 0                 0                 0   \n",
       "2               0                 0                 0                 0   \n",
       "3               0                 0                 0                 0   \n",
       "4               0                 0                 0                 0   \n",
       "\n",
       "   Model_Type3_Hybrid  Model_Type3_L  Model_Type3_LE  Model_Type3_LIMITED  \\\n",
       "0                   1              0               0                    0   \n",
       "1                   1              0               0                    0   \n",
       "2                   1              0               0                    0   \n",
       "3                   1              0               0                    0   \n",
       "4                   1              0               0                    0   \n",
       "\n",
       "   Model_Type3_LX  Model_Type3_Limited  Model_Type3_Night  \\\n",
       "0               0                    0                  0   \n",
       "1               0                    0                  0   \n",
       "2               0                    0                  0   \n",
       "3               0                    0                  0   \n",
       "4               0                    0                  0   \n",
       "\n",
       "   Model_Type3_Platinum  Model_Type3_Prerunner  Model_Type3_RTL  \\\n",
       "0                     0                      0                0   \n",
       "1                     0                      0                0   \n",
       "2                     0                      0                0   \n",
       "3                     0                      0                0   \n",
       "4                     0                      0                0   \n",
       "\n",
       "   Model_Type3_RTL-E  Model_Type3_RTL-T  Model_Type3_RTS  Model_Type3_S  \\\n",
       "0                  0                  0                0              0   \n",
       "1                  0                  0                0              0   \n",
       "2                  0                  0                0              0   \n",
       "3                  0                  0                0              0   \n",
       "4                  0                  0                0              0   \n",
       "\n",
       "   Model_Type3_SE  Model_Type3_SI  Model_Type3_SR  Model_Type3_SR5  \\\n",
       "0               0               0               0                0   \n",
       "1               0               0               0                0   \n",
       "2               0               0               0                0   \n",
       "3               0               0               0                0   \n",
       "4               0               0               0                0   \n",
       "\n",
       "   Model_Type3_Sport  Model_Type3_TRD  Model_Type3_Three  Model_Type3_Touring  \\\n",
       "0                  0                0                  0                    0   \n",
       "1                  0                0                  0                    0   \n",
       "2                  0                0                  0                    0   \n",
       "3                  0                0                  0                    0   \n",
       "4                  0                0                  0                    0   \n",
       "\n",
       "   Model_Type3_Touringh  Model_Type3_Two  Model_Type3_Type-R  \\\n",
       "0                     0                0                   0   \n",
       "1                     0                0                   0   \n",
       "2                     0                0                   0   \n",
       "3                     0                0                   0   \n",
       "4                     0                0                   0   \n",
       "\n",
       "   Model_Type3_Venture  Model_Type3_XLE  Model_Type3_XSE  Model_Type4_  \\\n",
       "0                    0                0                0             0   \n",
       "1                    0                0                0             0   \n",
       "2                    0                0                0             0   \n",
       "3                    0                0                0             0   \n",
       "4                    0                0                0             0   \n",
       "\n",
       "   Model_Type4_ELITE  Model_Type4_EX  Model_Type4_EX-L  Model_Type4_Eco  \\\n",
       "0                  0               0                 0                0   \n",
       "1                  0               0                 1                0   \n",
       "2                  0               0                 1                0   \n",
       "3                  0               0                 0                0   \n",
       "4                  0               0                 0                0   \n",
       "\n",
       "   Model_Type4_Edition  Model_Type4_LE  Model_Type4_LIMITED  Model_Type4_LX  \\\n",
       "0                    0               0                    0               0   \n",
       "1                    0               0                    0               0   \n",
       "2                    0               0                    0               0   \n",
       "3                    0               0                    0               0   \n",
       "4                    0               0                    0               0   \n",
       "\n",
       "   Model_Type4_Limited Platinum  Model_Type4_Night Shade  \\\n",
       "0                             0                        0   \n",
       "1                             0                        0   \n",
       "2                             0                        0   \n",
       "3                             0                        0   \n",
       "4                             0                        0   \n",
       "\n",
       "   Model_Type4_Off Road  Model_Type4_Off Road   Model_Type4_Off Road Premium  \\\n",
       "0                     0                      0                             0   \n",
       "1                     0                      0                             0   \n",
       "2                     0                      0                             0   \n",
       "3                     0                      0                             0   \n",
       "4                     0                      0                             0   \n",
       "\n",
       "   Model_Type4_Platinum  Model_Type4_Plus  Model_Type4_Premium  \\\n",
       "0                     0                 0                    0   \n",
       "1                     0                 0                    0   \n",
       "2                     0                 0                    0   \n",
       "3                     0                 0                    0   \n",
       "4                     0                 0                    0   \n",
       "\n",
       "   Model_Type4_Pro  Model_Type4_SPORT  Model_Type4_Shade  Model_Type4_Sport  \\\n",
       "0                0                  0                  0                  0   \n",
       "1                0                  0                  0                  0   \n",
       "2                0                  0                  0                  0   \n",
       "3                0                  0                  0                  0   \n",
       "4                0                  0                  0                  0   \n",
       "\n",
       "   Model_Type4_Touring  Model_Type4_XLE  Model_Type4_pro  \n",
       "0                    1                0                0  \n",
       "1                    0                0                0  \n",
       "2                    0                0                0  \n",
       "3                    0                0                0  \n",
       "4                    1                0                0  "
      ]
     },
     "execution_count": 73,
     "metadata": {},
     "output_type": "execute_result"
    }
   ],
   "source": [
    "data6.head()"
   ]
  },
  {
   "cell_type": "code",
   "execution_count": 74,
   "id": "288431b5",
   "metadata": {
    "id": "288431b5"
   },
   "outputs": [],
   "source": [
    "data7 = data6.copy()"
   ]
  },
  {
   "cell_type": "code",
   "execution_count": 75,
   "id": "244f05e5",
   "metadata": {
    "colab": {
     "base_uri": "https://localhost:8080/"
    },
    "id": "244f05e5",
    "outputId": "635d9528-ddfb-45b1-c67f-293c4df49414"
   },
   "outputs": [
    {
     "name": "stdout",
     "output_type": "stream",
     "text": [
      "<class 'pandas.core.frame.DataFrame'>\n",
      "RangeIndex: 434 entries, 0 to 433\n",
      "Data columns (total 94 columns):\n",
      " #   Column                        Non-Null Count  Dtype  \n",
      "---  ------                        --------------  -----  \n",
      " 0   Milleage                      434 non-null    int64  \n",
      " 1   horsepower                    434 non-null    int64  \n",
      " 2   year                          434 non-null    int64  \n",
      " 3   Exterior Color                434 non-null    int64  \n",
      " 4   Passenger Capacity            434 non-null    int64  \n",
      " 5   Price                         434 non-null    int64  \n",
      " 6   No. of Axle                   434 non-null    int64  \n",
      " 7   Axle Type                     434 non-null    int64  \n",
      " 8   Cylinder                      434 non-null    int64  \n",
      " 9   Gas Type                      434 non-null    int64  \n",
      " 10  Litres                        434 non-null    float64\n",
      " 11  MPG1                          434 non-null    int64  \n",
      " 12  MPG2                          434 non-null    int64  \n",
      " 13  Brand_Honda                   434 non-null    uint8  \n",
      " 14  Brand_Toyota                  434 non-null    uint8  \n",
      " 15  Model_Type1_4Runner           434 non-null    uint8  \n",
      " 16  Model_Type1_Accord            434 non-null    uint8  \n",
      " 17  Model_Type1_CR-V              434 non-null    uint8  \n",
      " 18  Model_Type1_Camry             434 non-null    uint8  \n",
      " 19  Model_Type1_Civic             434 non-null    uint8  \n",
      " 20  Model_Type1_Corolla           434 non-null    uint8  \n",
      " 21  Model_Type1_Fit               434 non-null    uint8  \n",
      " 22  Model_Type1_HR-V              434 non-null    uint8  \n",
      " 23  Model_Type1_Highlander        434 non-null    uint8  \n",
      " 24  Model_Type1_Hybrid            434 non-null    uint8  \n",
      " 25  Model_Type1_Odyssey           434 non-null    uint8  \n",
      " 26  Model_Type1_Passport          434 non-null    uint8  \n",
      " 27  Model_Type1_Prius             434 non-null    uint8  \n",
      " 28  Model_Type1_RAV4              434 non-null    uint8  \n",
      " 29  Model_Type1_RidgeLine         434 non-null    uint8  \n",
      " 30  Model_Type1_Sienna            434 non-null    uint8  \n",
      " 31  Model_Type1_Tacoma            434 non-null    uint8  \n",
      " 32  Model_Type1_Tundra            434 non-null    uint8  \n",
      " 33  Model_Type3_1794              434 non-null    uint8  \n",
      " 34  Model_Type3_Adventure         434 non-null    uint8  \n",
      " 35  Model_Type3_Black             434 non-null    uint8  \n",
      " 36  Model_Type3_CrossTour         434 non-null    uint8  \n",
      " 37  Model_Type3_ELITE             434 non-null    uint8  \n",
      " 38  Model_Type3_EX                434 non-null    uint8  \n",
      " 39  Model_Type3_EX-L              434 non-null    uint8  \n",
      " 40  Model_Type3_EX-T              434 non-null    uint8  \n",
      " 41  Model_Type3_Four              434 non-null    uint8  \n",
      " 42  Model_Type3_Hybrid            434 non-null    uint8  \n",
      " 43  Model_Type3_L                 434 non-null    uint8  \n",
      " 44  Model_Type3_LE                434 non-null    uint8  \n",
      " 45  Model_Type3_LIMITED           434 non-null    uint8  \n",
      " 46  Model_Type3_LX                434 non-null    uint8  \n",
      " 47  Model_Type3_Limited           434 non-null    uint8  \n",
      " 48  Model_Type3_Night             434 non-null    uint8  \n",
      " 49  Model_Type3_Platinum          434 non-null    uint8  \n",
      " 50  Model_Type3_Prerunner         434 non-null    uint8  \n",
      " 51  Model_Type3_RTL               434 non-null    uint8  \n",
      " 52  Model_Type3_RTL-E             434 non-null    uint8  \n",
      " 53  Model_Type3_RTL-T             434 non-null    uint8  \n",
      " 54  Model_Type3_RTS               434 non-null    uint8  \n",
      " 55  Model_Type3_S                 434 non-null    uint8  \n",
      " 56  Model_Type3_SE                434 non-null    uint8  \n",
      " 57  Model_Type3_SI                434 non-null    uint8  \n",
      " 58  Model_Type3_SR                434 non-null    uint8  \n",
      " 59  Model_Type3_SR5               434 non-null    uint8  \n",
      " 60  Model_Type3_Sport             434 non-null    uint8  \n",
      " 61  Model_Type3_TRD               434 non-null    uint8  \n",
      " 62  Model_Type3_Three             434 non-null    uint8  \n",
      " 63  Model_Type3_Touring           434 non-null    uint8  \n",
      " 64  Model_Type3_Touringh          434 non-null    uint8  \n",
      " 65  Model_Type3_Two               434 non-null    uint8  \n",
      " 66  Model_Type3_Type-R            434 non-null    uint8  \n",
      " 67  Model_Type3_Venture           434 non-null    uint8  \n",
      " 68  Model_Type3_XLE               434 non-null    uint8  \n",
      " 69  Model_Type3_XSE               434 non-null    uint8  \n",
      " 70  Model_Type4_                  434 non-null    uint8  \n",
      " 71  Model_Type4_ELITE             434 non-null    uint8  \n",
      " 72  Model_Type4_EX                434 non-null    uint8  \n",
      " 73  Model_Type4_EX-L              434 non-null    uint8  \n",
      " 74  Model_Type4_Eco               434 non-null    uint8  \n",
      " 75  Model_Type4_Edition           434 non-null    uint8  \n",
      " 76  Model_Type4_LE                434 non-null    uint8  \n",
      " 77  Model_Type4_LIMITED           434 non-null    uint8  \n",
      " 78  Model_Type4_LX                434 non-null    uint8  \n",
      " 79  Model_Type4_Limited Platinum  434 non-null    uint8  \n",
      " 80  Model_Type4_Night Shade       434 non-null    uint8  \n",
      " 81  Model_Type4_Off Road          434 non-null    uint8  \n",
      " 82  Model_Type4_Off Road          434 non-null    uint8  \n",
      " 83  Model_Type4_Off Road Premium  434 non-null    uint8  \n",
      " 84  Model_Type4_Platinum          434 non-null    uint8  \n",
      " 85  Model_Type4_Plus              434 non-null    uint8  \n",
      " 86  Model_Type4_Premium           434 non-null    uint8  \n",
      " 87  Model_Type4_Pro               434 non-null    uint8  \n",
      " 88  Model_Type4_SPORT             434 non-null    uint8  \n",
      " 89  Model_Type4_Shade             434 non-null    uint8  \n",
      " 90  Model_Type4_Sport             434 non-null    uint8  \n",
      " 91  Model_Type4_Touring           434 non-null    uint8  \n",
      " 92  Model_Type4_XLE               434 non-null    uint8  \n",
      " 93  Model_Type4_pro               434 non-null    uint8  \n",
      "dtypes: float64(1), int64(12), uint8(81)\n",
      "memory usage: 78.5 KB\n"
     ]
    }
   ],
   "source": [
    "data7.info()"
   ]
  },
  {
   "cell_type": "code",
   "execution_count": 76,
   "id": "5e3b41f0",
   "metadata": {
    "id": "5e3b41f0"
   },
   "outputs": [],
   "source": [
    "#data7.to_excel('exported.xlsx')"
   ]
  },
  {
   "cell_type": "markdown",
   "id": "L07r5u9afqMd",
   "metadata": {
    "id": "L07r5u9afqMd"
   },
   "source": [
    "## Checking if any null values generated during preprocessing"
   ]
  },
  {
   "cell_type": "code",
   "execution_count": 77,
   "id": "ababa0ad",
   "metadata": {
    "colab": {
     "base_uri": "https://localhost:8080/"
    },
    "id": "ababa0ad",
    "outputId": "4b89c343-5b88-4f87-ee03-3e7cff8d76b9"
   },
   "outputs": [
    {
     "data": {
      "text/plain": [
       "False"
      ]
     },
     "execution_count": 77,
     "metadata": {},
     "output_type": "execute_result"
    }
   ],
   "source": [
    "np.any(np.isnan(data7))"
   ]
  },
  {
   "cell_type": "code",
   "execution_count": 78,
   "id": "6998093f",
   "metadata": {
    "id": "6998093f"
   },
   "outputs": [],
   "source": [
    "nan_rows = data7[data7.isnull().T.any()]"
   ]
  },
  {
   "cell_type": "code",
   "execution_count": 79,
   "id": "5c14a3bc",
   "metadata": {
    "colab": {
     "base_uri": "https://localhost:8080/",
     "height": 147
    },
    "id": "5c14a3bc",
    "outputId": "8a7f3af3-693c-43e9-a00f-cf8440edaa62"
   },
   "outputs": [
    {
     "data": {
      "text/html": [
       "<div>\n",
       "<style scoped>\n",
       "    .dataframe tbody tr th:only-of-type {\n",
       "        vertical-align: middle;\n",
       "    }\n",
       "\n",
       "    .dataframe tbody tr th {\n",
       "        vertical-align: top;\n",
       "    }\n",
       "\n",
       "    .dataframe thead th {\n",
       "        text-align: right;\n",
       "    }\n",
       "</style>\n",
       "<table border=\"1\" class=\"dataframe\">\n",
       "  <thead>\n",
       "    <tr style=\"text-align: right;\">\n",
       "      <th></th>\n",
       "      <th>Milleage</th>\n",
       "      <th>horsepower</th>\n",
       "      <th>year</th>\n",
       "      <th>Exterior Color</th>\n",
       "      <th>Passenger Capacity</th>\n",
       "      <th>Price</th>\n",
       "      <th>No. of Axle</th>\n",
       "      <th>Axle Type</th>\n",
       "      <th>Cylinder</th>\n",
       "      <th>Gas Type</th>\n",
       "      <th>Litres</th>\n",
       "      <th>MPG1</th>\n",
       "      <th>MPG2</th>\n",
       "      <th>Brand_Honda</th>\n",
       "      <th>Brand_Toyota</th>\n",
       "      <th>Model_Type1_4Runner</th>\n",
       "      <th>Model_Type1_Accord</th>\n",
       "      <th>Model_Type1_CR-V</th>\n",
       "      <th>Model_Type1_Camry</th>\n",
       "      <th>Model_Type1_Civic</th>\n",
       "      <th>Model_Type1_Corolla</th>\n",
       "      <th>Model_Type1_Fit</th>\n",
       "      <th>Model_Type1_HR-V</th>\n",
       "      <th>Model_Type1_Highlander</th>\n",
       "      <th>Model_Type1_Hybrid</th>\n",
       "      <th>Model_Type1_Odyssey</th>\n",
       "      <th>Model_Type1_Passport</th>\n",
       "      <th>Model_Type1_Prius</th>\n",
       "      <th>Model_Type1_RAV4</th>\n",
       "      <th>Model_Type1_RidgeLine</th>\n",
       "      <th>Model_Type1_Sienna</th>\n",
       "      <th>Model_Type1_Tacoma</th>\n",
       "      <th>Model_Type1_Tundra</th>\n",
       "      <th>Model_Type3_1794</th>\n",
       "      <th>Model_Type3_Adventure</th>\n",
       "      <th>Model_Type3_Black</th>\n",
       "      <th>Model_Type3_CrossTour</th>\n",
       "      <th>Model_Type3_ELITE</th>\n",
       "      <th>Model_Type3_EX</th>\n",
       "      <th>Model_Type3_EX-L</th>\n",
       "      <th>Model_Type3_EX-T</th>\n",
       "      <th>Model_Type3_Four</th>\n",
       "      <th>Model_Type3_Hybrid</th>\n",
       "      <th>Model_Type3_L</th>\n",
       "      <th>Model_Type3_LE</th>\n",
       "      <th>Model_Type3_LIMITED</th>\n",
       "      <th>Model_Type3_LX</th>\n",
       "      <th>Model_Type3_Limited</th>\n",
       "      <th>Model_Type3_Night</th>\n",
       "      <th>Model_Type3_Platinum</th>\n",
       "      <th>Model_Type3_Prerunner</th>\n",
       "      <th>Model_Type3_RTL</th>\n",
       "      <th>Model_Type3_RTL-E</th>\n",
       "      <th>Model_Type3_RTL-T</th>\n",
       "      <th>Model_Type3_RTS</th>\n",
       "      <th>Model_Type3_S</th>\n",
       "      <th>Model_Type3_SE</th>\n",
       "      <th>Model_Type3_SI</th>\n",
       "      <th>Model_Type3_SR</th>\n",
       "      <th>Model_Type3_SR5</th>\n",
       "      <th>Model_Type3_Sport</th>\n",
       "      <th>Model_Type3_TRD</th>\n",
       "      <th>Model_Type3_Three</th>\n",
       "      <th>Model_Type3_Touring</th>\n",
       "      <th>Model_Type3_Touringh</th>\n",
       "      <th>Model_Type3_Two</th>\n",
       "      <th>Model_Type3_Type-R</th>\n",
       "      <th>Model_Type3_Venture</th>\n",
       "      <th>Model_Type3_XLE</th>\n",
       "      <th>Model_Type3_XSE</th>\n",
       "      <th>Model_Type4_</th>\n",
       "      <th>Model_Type4_ELITE</th>\n",
       "      <th>Model_Type4_EX</th>\n",
       "      <th>Model_Type4_EX-L</th>\n",
       "      <th>Model_Type4_Eco</th>\n",
       "      <th>Model_Type4_Edition</th>\n",
       "      <th>Model_Type4_LE</th>\n",
       "      <th>Model_Type4_LIMITED</th>\n",
       "      <th>Model_Type4_LX</th>\n",
       "      <th>Model_Type4_Limited Platinum</th>\n",
       "      <th>Model_Type4_Night Shade</th>\n",
       "      <th>Model_Type4_Off Road</th>\n",
       "      <th>Model_Type4_Off Road</th>\n",
       "      <th>Model_Type4_Off Road Premium</th>\n",
       "      <th>Model_Type4_Platinum</th>\n",
       "      <th>Model_Type4_Plus</th>\n",
       "      <th>Model_Type4_Premium</th>\n",
       "      <th>Model_Type4_Pro</th>\n",
       "      <th>Model_Type4_SPORT</th>\n",
       "      <th>Model_Type4_Shade</th>\n",
       "      <th>Model_Type4_Sport</th>\n",
       "      <th>Model_Type4_Touring</th>\n",
       "      <th>Model_Type4_XLE</th>\n",
       "      <th>Model_Type4_pro</th>\n",
       "    </tr>\n",
       "  </thead>\n",
       "  <tbody>\n",
       "  </tbody>\n",
       "</table>\n",
       "</div>"
      ],
      "text/plain": [
       "Empty DataFrame\n",
       "Columns: [Milleage, horsepower, year, Exterior Color, Passenger Capacity, Price, No. of Axle, Axle Type, Cylinder, Gas Type, Litres, MPG1, MPG2, Brand_Honda, Brand_Toyota, Model_Type1_4Runner, Model_Type1_Accord, Model_Type1_CR-V, Model_Type1_Camry, Model_Type1_Civic, Model_Type1_Corolla, Model_Type1_Fit, Model_Type1_HR-V, Model_Type1_Highlander, Model_Type1_Hybrid, Model_Type1_Odyssey, Model_Type1_Passport, Model_Type1_Prius, Model_Type1_RAV4, Model_Type1_RidgeLine, Model_Type1_Sienna, Model_Type1_Tacoma, Model_Type1_Tundra, Model_Type3_1794, Model_Type3_Adventure, Model_Type3_Black, Model_Type3_CrossTour, Model_Type3_ELITE, Model_Type3_EX, Model_Type3_EX-L, Model_Type3_EX-T, Model_Type3_Four, Model_Type3_Hybrid, Model_Type3_L, Model_Type3_LE, Model_Type3_LIMITED, Model_Type3_LX, Model_Type3_Limited, Model_Type3_Night, Model_Type3_Platinum, Model_Type3_Prerunner, Model_Type3_RTL, Model_Type3_RTL-E, Model_Type3_RTL-T, Model_Type3_RTS, Model_Type3_S, Model_Type3_SE, Model_Type3_SI, Model_Type3_SR, Model_Type3_SR5, Model_Type3_Sport, Model_Type3_TRD, Model_Type3_Three, Model_Type3_Touring, Model_Type3_Touringh, Model_Type3_Two, Model_Type3_Type-R, Model_Type3_Venture, Model_Type3_XLE, Model_Type3_XSE, Model_Type4_, Model_Type4_ELITE, Model_Type4_EX, Model_Type4_EX-L, Model_Type4_Eco, Model_Type4_Edition, Model_Type4_LE, Model_Type4_LIMITED, Model_Type4_LX, Model_Type4_Limited Platinum, Model_Type4_Night Shade, Model_Type4_Off Road, Model_Type4_Off Road , Model_Type4_Off Road Premium, Model_Type4_Platinum, Model_Type4_Plus, Model_Type4_Premium, Model_Type4_Pro, Model_Type4_SPORT, Model_Type4_Shade, Model_Type4_Sport, Model_Type4_Touring, Model_Type4_XLE, Model_Type4_pro]\n",
       "Index: []"
      ]
     },
     "execution_count": 79,
     "metadata": {},
     "output_type": "execute_result"
    }
   ],
   "source": [
    "nan_rows.head(10)"
   ]
  },
  {
   "cell_type": "code",
   "execution_count": 80,
   "id": "b9073af4",
   "metadata": {
    "id": "b9073af4"
   },
   "outputs": [],
   "source": [
    "data8 = data7.copy()"
   ]
  },
  {
   "cell_type": "code",
   "execution_count": 81,
   "id": "bf9d786d",
   "metadata": {
    "colab": {
     "base_uri": "https://localhost:8080/",
     "height": 304
    },
    "id": "bf9d786d",
    "outputId": "342fe1d9-e3fd-4a28-fac3-cc1eda0a2c96",
    "scrolled": true
   },
   "outputs": [
    {
     "data": {
      "text/html": [
       "<div>\n",
       "<style scoped>\n",
       "    .dataframe tbody tr th:only-of-type {\n",
       "        vertical-align: middle;\n",
       "    }\n",
       "\n",
       "    .dataframe tbody tr th {\n",
       "        vertical-align: top;\n",
       "    }\n",
       "\n",
       "    .dataframe thead th {\n",
       "        text-align: right;\n",
       "    }\n",
       "</style>\n",
       "<table border=\"1\" class=\"dataframe\">\n",
       "  <thead>\n",
       "    <tr style=\"text-align: right;\">\n",
       "      <th></th>\n",
       "      <th>Milleage</th>\n",
       "      <th>horsepower</th>\n",
       "      <th>year</th>\n",
       "      <th>Exterior Color</th>\n",
       "      <th>Passenger Capacity</th>\n",
       "      <th>Price</th>\n",
       "      <th>No. of Axle</th>\n",
       "      <th>Axle Type</th>\n",
       "      <th>Cylinder</th>\n",
       "      <th>Gas Type</th>\n",
       "      <th>Litres</th>\n",
       "      <th>MPG1</th>\n",
       "      <th>MPG2</th>\n",
       "      <th>Brand_Honda</th>\n",
       "      <th>Brand_Toyota</th>\n",
       "      <th>Model_Type1_4Runner</th>\n",
       "      <th>Model_Type1_Accord</th>\n",
       "      <th>Model_Type1_CR-V</th>\n",
       "      <th>Model_Type1_Camry</th>\n",
       "      <th>Model_Type1_Civic</th>\n",
       "      <th>Model_Type1_Corolla</th>\n",
       "      <th>Model_Type1_Fit</th>\n",
       "      <th>Model_Type1_HR-V</th>\n",
       "      <th>Model_Type1_Highlander</th>\n",
       "      <th>Model_Type1_Hybrid</th>\n",
       "      <th>Model_Type1_Odyssey</th>\n",
       "      <th>Model_Type1_Passport</th>\n",
       "      <th>Model_Type1_Prius</th>\n",
       "      <th>Model_Type1_RAV4</th>\n",
       "      <th>Model_Type1_RidgeLine</th>\n",
       "      <th>Model_Type1_Sienna</th>\n",
       "      <th>Model_Type1_Tacoma</th>\n",
       "      <th>Model_Type1_Tundra</th>\n",
       "      <th>Model_Type3_1794</th>\n",
       "      <th>Model_Type3_Adventure</th>\n",
       "      <th>Model_Type3_Black</th>\n",
       "      <th>Model_Type3_CrossTour</th>\n",
       "      <th>Model_Type3_ELITE</th>\n",
       "      <th>Model_Type3_EX</th>\n",
       "      <th>Model_Type3_EX-L</th>\n",
       "      <th>Model_Type3_EX-T</th>\n",
       "      <th>Model_Type3_Four</th>\n",
       "      <th>Model_Type3_Hybrid</th>\n",
       "      <th>Model_Type3_L</th>\n",
       "      <th>Model_Type3_LE</th>\n",
       "      <th>Model_Type3_LIMITED</th>\n",
       "      <th>Model_Type3_LX</th>\n",
       "      <th>Model_Type3_Limited</th>\n",
       "      <th>Model_Type3_Night</th>\n",
       "      <th>Model_Type3_Platinum</th>\n",
       "      <th>Model_Type3_Prerunner</th>\n",
       "      <th>Model_Type3_RTL</th>\n",
       "      <th>Model_Type3_RTL-E</th>\n",
       "      <th>Model_Type3_RTL-T</th>\n",
       "      <th>Model_Type3_RTS</th>\n",
       "      <th>Model_Type3_S</th>\n",
       "      <th>Model_Type3_SE</th>\n",
       "      <th>Model_Type3_SI</th>\n",
       "      <th>Model_Type3_SR</th>\n",
       "      <th>Model_Type3_SR5</th>\n",
       "      <th>Model_Type3_Sport</th>\n",
       "      <th>Model_Type3_TRD</th>\n",
       "      <th>Model_Type3_Three</th>\n",
       "      <th>Model_Type3_Touring</th>\n",
       "      <th>Model_Type3_Touringh</th>\n",
       "      <th>Model_Type3_Two</th>\n",
       "      <th>Model_Type3_Type-R</th>\n",
       "      <th>Model_Type3_Venture</th>\n",
       "      <th>Model_Type3_XLE</th>\n",
       "      <th>Model_Type3_XSE</th>\n",
       "      <th>Model_Type4_</th>\n",
       "      <th>Model_Type4_ELITE</th>\n",
       "      <th>Model_Type4_EX</th>\n",
       "      <th>Model_Type4_EX-L</th>\n",
       "      <th>Model_Type4_Eco</th>\n",
       "      <th>Model_Type4_Edition</th>\n",
       "      <th>Model_Type4_LE</th>\n",
       "      <th>Model_Type4_LIMITED</th>\n",
       "      <th>Model_Type4_LX</th>\n",
       "      <th>Model_Type4_Limited Platinum</th>\n",
       "      <th>Model_Type4_Night Shade</th>\n",
       "      <th>Model_Type4_Off Road</th>\n",
       "      <th>Model_Type4_Off Road</th>\n",
       "      <th>Model_Type4_Off Road Premium</th>\n",
       "      <th>Model_Type4_Platinum</th>\n",
       "      <th>Model_Type4_Plus</th>\n",
       "      <th>Model_Type4_Premium</th>\n",
       "      <th>Model_Type4_Pro</th>\n",
       "      <th>Model_Type4_SPORT</th>\n",
       "      <th>Model_Type4_Shade</th>\n",
       "      <th>Model_Type4_Sport</th>\n",
       "      <th>Model_Type4_Touring</th>\n",
       "      <th>Model_Type4_XLE</th>\n",
       "      <th>Model_Type4_pro</th>\n",
       "    </tr>\n",
       "  </thead>\n",
       "  <tbody>\n",
       "    <tr>\n",
       "      <th>0</th>\n",
       "      <td>8</td>\n",
       "      <td>212</td>\n",
       "      <td>19</td>\n",
       "      <td>7</td>\n",
       "      <td>5</td>\n",
       "      <td>37998</td>\n",
       "      <td>2</td>\n",
       "      <td>0</td>\n",
       "      <td>4</td>\n",
       "      <td>2</td>\n",
       "      <td>2.0</td>\n",
       "      <td>48</td>\n",
       "      <td>48</td>\n",
       "      <td>1</td>\n",
       "      <td>0</td>\n",
       "      <td>0</td>\n",
       "      <td>1</td>\n",
       "      <td>0</td>\n",
       "      <td>0</td>\n",
       "      <td>0</td>\n",
       "      <td>0</td>\n",
       "      <td>0</td>\n",
       "      <td>0</td>\n",
       "      <td>0</td>\n",
       "      <td>0</td>\n",
       "      <td>0</td>\n",
       "      <td>0</td>\n",
       "      <td>0</td>\n",
       "      <td>0</td>\n",
       "      <td>0</td>\n",
       "      <td>0</td>\n",
       "      <td>0</td>\n",
       "      <td>0</td>\n",
       "      <td>0</td>\n",
       "      <td>0</td>\n",
       "      <td>0</td>\n",
       "      <td>0</td>\n",
       "      <td>0</td>\n",
       "      <td>0</td>\n",
       "      <td>0</td>\n",
       "      <td>0</td>\n",
       "      <td>0</td>\n",
       "      <td>1</td>\n",
       "      <td>0</td>\n",
       "      <td>0</td>\n",
       "      <td>0</td>\n",
       "      <td>0</td>\n",
       "      <td>0</td>\n",
       "      <td>0</td>\n",
       "      <td>0</td>\n",
       "      <td>0</td>\n",
       "      <td>0</td>\n",
       "      <td>0</td>\n",
       "      <td>0</td>\n",
       "      <td>0</td>\n",
       "      <td>0</td>\n",
       "      <td>0</td>\n",
       "      <td>0</td>\n",
       "      <td>0</td>\n",
       "      <td>0</td>\n",
       "      <td>0</td>\n",
       "      <td>0</td>\n",
       "      <td>0</td>\n",
       "      <td>0</td>\n",
       "      <td>0</td>\n",
       "      <td>0</td>\n",
       "      <td>0</td>\n",
       "      <td>0</td>\n",
       "      <td>0</td>\n",
       "      <td>0</td>\n",
       "      <td>0</td>\n",
       "      <td>0</td>\n",
       "      <td>0</td>\n",
       "      <td>0</td>\n",
       "      <td>0</td>\n",
       "      <td>0</td>\n",
       "      <td>0</td>\n",
       "      <td>0</td>\n",
       "      <td>0</td>\n",
       "      <td>0</td>\n",
       "      <td>0</td>\n",
       "      <td>0</td>\n",
       "      <td>0</td>\n",
       "      <td>0</td>\n",
       "      <td>0</td>\n",
       "      <td>0</td>\n",
       "      <td>0</td>\n",
       "      <td>0</td>\n",
       "      <td>0</td>\n",
       "      <td>0</td>\n",
       "      <td>0</td>\n",
       "      <td>1</td>\n",
       "      <td>0</td>\n",
       "      <td>0</td>\n",
       "    </tr>\n",
       "    <tr>\n",
       "      <th>1</th>\n",
       "      <td>93</td>\n",
       "      <td>195</td>\n",
       "      <td>15</td>\n",
       "      <td>4</td>\n",
       "      <td>5</td>\n",
       "      <td>21998</td>\n",
       "      <td>2</td>\n",
       "      <td>0</td>\n",
       "      <td>4</td>\n",
       "      <td>2</td>\n",
       "      <td>2.0</td>\n",
       "      <td>50</td>\n",
       "      <td>45</td>\n",
       "      <td>1</td>\n",
       "      <td>0</td>\n",
       "      <td>0</td>\n",
       "      <td>1</td>\n",
       "      <td>0</td>\n",
       "      <td>0</td>\n",
       "      <td>0</td>\n",
       "      <td>0</td>\n",
       "      <td>0</td>\n",
       "      <td>0</td>\n",
       "      <td>0</td>\n",
       "      <td>0</td>\n",
       "      <td>0</td>\n",
       "      <td>0</td>\n",
       "      <td>0</td>\n",
       "      <td>0</td>\n",
       "      <td>0</td>\n",
       "      <td>0</td>\n",
       "      <td>0</td>\n",
       "      <td>0</td>\n",
       "      <td>0</td>\n",
       "      <td>0</td>\n",
       "      <td>0</td>\n",
       "      <td>0</td>\n",
       "      <td>0</td>\n",
       "      <td>0</td>\n",
       "      <td>0</td>\n",
       "      <td>0</td>\n",
       "      <td>0</td>\n",
       "      <td>1</td>\n",
       "      <td>0</td>\n",
       "      <td>0</td>\n",
       "      <td>0</td>\n",
       "      <td>0</td>\n",
       "      <td>0</td>\n",
       "      <td>0</td>\n",
       "      <td>0</td>\n",
       "      <td>0</td>\n",
       "      <td>0</td>\n",
       "      <td>0</td>\n",
       "      <td>0</td>\n",
       "      <td>0</td>\n",
       "      <td>0</td>\n",
       "      <td>0</td>\n",
       "      <td>0</td>\n",
       "      <td>0</td>\n",
       "      <td>0</td>\n",
       "      <td>0</td>\n",
       "      <td>0</td>\n",
       "      <td>0</td>\n",
       "      <td>0</td>\n",
       "      <td>0</td>\n",
       "      <td>0</td>\n",
       "      <td>0</td>\n",
       "      <td>0</td>\n",
       "      <td>0</td>\n",
       "      <td>0</td>\n",
       "      <td>0</td>\n",
       "      <td>0</td>\n",
       "      <td>0</td>\n",
       "      <td>1</td>\n",
       "      <td>0</td>\n",
       "      <td>0</td>\n",
       "      <td>0</td>\n",
       "      <td>0</td>\n",
       "      <td>0</td>\n",
       "      <td>0</td>\n",
       "      <td>0</td>\n",
       "      <td>0</td>\n",
       "      <td>0</td>\n",
       "      <td>0</td>\n",
       "      <td>0</td>\n",
       "      <td>0</td>\n",
       "      <td>0</td>\n",
       "      <td>0</td>\n",
       "      <td>0</td>\n",
       "      <td>0</td>\n",
       "      <td>0</td>\n",
       "      <td>0</td>\n",
       "      <td>0</td>\n",
       "      <td>0</td>\n",
       "    </tr>\n",
       "    <tr>\n",
       "      <th>2</th>\n",
       "      <td>36</td>\n",
       "      <td>212</td>\n",
       "      <td>17</td>\n",
       "      <td>3</td>\n",
       "      <td>5</td>\n",
       "      <td>28998</td>\n",
       "      <td>2</td>\n",
       "      <td>0</td>\n",
       "      <td>4</td>\n",
       "      <td>2</td>\n",
       "      <td>2.0</td>\n",
       "      <td>49</td>\n",
       "      <td>47</td>\n",
       "      <td>1</td>\n",
       "      <td>0</td>\n",
       "      <td>0</td>\n",
       "      <td>1</td>\n",
       "      <td>0</td>\n",
       "      <td>0</td>\n",
       "      <td>0</td>\n",
       "      <td>0</td>\n",
       "      <td>0</td>\n",
       "      <td>0</td>\n",
       "      <td>0</td>\n",
       "      <td>0</td>\n",
       "      <td>0</td>\n",
       "      <td>0</td>\n",
       "      <td>0</td>\n",
       "      <td>0</td>\n",
       "      <td>0</td>\n",
       "      <td>0</td>\n",
       "      <td>0</td>\n",
       "      <td>0</td>\n",
       "      <td>0</td>\n",
       "      <td>0</td>\n",
       "      <td>0</td>\n",
       "      <td>0</td>\n",
       "      <td>0</td>\n",
       "      <td>0</td>\n",
       "      <td>0</td>\n",
       "      <td>0</td>\n",
       "      <td>0</td>\n",
       "      <td>1</td>\n",
       "      <td>0</td>\n",
       "      <td>0</td>\n",
       "      <td>0</td>\n",
       "      <td>0</td>\n",
       "      <td>0</td>\n",
       "      <td>0</td>\n",
       "      <td>0</td>\n",
       "      <td>0</td>\n",
       "      <td>0</td>\n",
       "      <td>0</td>\n",
       "      <td>0</td>\n",
       "      <td>0</td>\n",
       "      <td>0</td>\n",
       "      <td>0</td>\n",
       "      <td>0</td>\n",
       "      <td>0</td>\n",
       "      <td>0</td>\n",
       "      <td>0</td>\n",
       "      <td>0</td>\n",
       "      <td>0</td>\n",
       "      <td>0</td>\n",
       "      <td>0</td>\n",
       "      <td>0</td>\n",
       "      <td>0</td>\n",
       "      <td>0</td>\n",
       "      <td>0</td>\n",
       "      <td>0</td>\n",
       "      <td>0</td>\n",
       "      <td>0</td>\n",
       "      <td>0</td>\n",
       "      <td>1</td>\n",
       "      <td>0</td>\n",
       "      <td>0</td>\n",
       "      <td>0</td>\n",
       "      <td>0</td>\n",
       "      <td>0</td>\n",
       "      <td>0</td>\n",
       "      <td>0</td>\n",
       "      <td>0</td>\n",
       "      <td>0</td>\n",
       "      <td>0</td>\n",
       "      <td>0</td>\n",
       "      <td>0</td>\n",
       "      <td>0</td>\n",
       "      <td>0</td>\n",
       "      <td>0</td>\n",
       "      <td>0</td>\n",
       "      <td>0</td>\n",
       "      <td>0</td>\n",
       "      <td>0</td>\n",
       "      <td>0</td>\n",
       "    </tr>\n",
       "    <tr>\n",
       "      <th>3</th>\n",
       "      <td>29</td>\n",
       "      <td>212</td>\n",
       "      <td>20</td>\n",
       "      <td>4</td>\n",
       "      <td>5</td>\n",
       "      <td>29998</td>\n",
       "      <td>2</td>\n",
       "      <td>0</td>\n",
       "      <td>4</td>\n",
       "      <td>2</td>\n",
       "      <td>2.0</td>\n",
       "      <td>48</td>\n",
       "      <td>47</td>\n",
       "      <td>1</td>\n",
       "      <td>0</td>\n",
       "      <td>0</td>\n",
       "      <td>1</td>\n",
       "      <td>0</td>\n",
       "      <td>0</td>\n",
       "      <td>0</td>\n",
       "      <td>0</td>\n",
       "      <td>0</td>\n",
       "      <td>0</td>\n",
       "      <td>0</td>\n",
       "      <td>0</td>\n",
       "      <td>0</td>\n",
       "      <td>0</td>\n",
       "      <td>0</td>\n",
       "      <td>0</td>\n",
       "      <td>0</td>\n",
       "      <td>0</td>\n",
       "      <td>0</td>\n",
       "      <td>0</td>\n",
       "      <td>0</td>\n",
       "      <td>0</td>\n",
       "      <td>0</td>\n",
       "      <td>0</td>\n",
       "      <td>0</td>\n",
       "      <td>0</td>\n",
       "      <td>0</td>\n",
       "      <td>0</td>\n",
       "      <td>0</td>\n",
       "      <td>1</td>\n",
       "      <td>0</td>\n",
       "      <td>0</td>\n",
       "      <td>0</td>\n",
       "      <td>0</td>\n",
       "      <td>0</td>\n",
       "      <td>0</td>\n",
       "      <td>0</td>\n",
       "      <td>0</td>\n",
       "      <td>0</td>\n",
       "      <td>0</td>\n",
       "      <td>0</td>\n",
       "      <td>0</td>\n",
       "      <td>0</td>\n",
       "      <td>0</td>\n",
       "      <td>0</td>\n",
       "      <td>0</td>\n",
       "      <td>0</td>\n",
       "      <td>0</td>\n",
       "      <td>0</td>\n",
       "      <td>0</td>\n",
       "      <td>0</td>\n",
       "      <td>0</td>\n",
       "      <td>0</td>\n",
       "      <td>0</td>\n",
       "      <td>0</td>\n",
       "      <td>0</td>\n",
       "      <td>0</td>\n",
       "      <td>0</td>\n",
       "      <td>0</td>\n",
       "      <td>0</td>\n",
       "      <td>0</td>\n",
       "      <td>0</td>\n",
       "      <td>0</td>\n",
       "      <td>0</td>\n",
       "      <td>0</td>\n",
       "      <td>0</td>\n",
       "      <td>0</td>\n",
       "      <td>0</td>\n",
       "      <td>0</td>\n",
       "      <td>0</td>\n",
       "      <td>0</td>\n",
       "      <td>0</td>\n",
       "      <td>0</td>\n",
       "      <td>0</td>\n",
       "      <td>0</td>\n",
       "      <td>0</td>\n",
       "      <td>0</td>\n",
       "      <td>0</td>\n",
       "      <td>0</td>\n",
       "      <td>0</td>\n",
       "      <td>0</td>\n",
       "    </tr>\n",
       "    <tr>\n",
       "      <th>4</th>\n",
       "      <td>16</td>\n",
       "      <td>212</td>\n",
       "      <td>20</td>\n",
       "      <td>7</td>\n",
       "      <td>5</td>\n",
       "      <td>36998</td>\n",
       "      <td>2</td>\n",
       "      <td>0</td>\n",
       "      <td>4</td>\n",
       "      <td>2</td>\n",
       "      <td>2.0</td>\n",
       "      <td>48</td>\n",
       "      <td>47</td>\n",
       "      <td>1</td>\n",
       "      <td>0</td>\n",
       "      <td>0</td>\n",
       "      <td>1</td>\n",
       "      <td>0</td>\n",
       "      <td>0</td>\n",
       "      <td>0</td>\n",
       "      <td>0</td>\n",
       "      <td>0</td>\n",
       "      <td>0</td>\n",
       "      <td>0</td>\n",
       "      <td>0</td>\n",
       "      <td>0</td>\n",
       "      <td>0</td>\n",
       "      <td>0</td>\n",
       "      <td>0</td>\n",
       "      <td>0</td>\n",
       "      <td>0</td>\n",
       "      <td>0</td>\n",
       "      <td>0</td>\n",
       "      <td>0</td>\n",
       "      <td>0</td>\n",
       "      <td>0</td>\n",
       "      <td>0</td>\n",
       "      <td>0</td>\n",
       "      <td>0</td>\n",
       "      <td>0</td>\n",
       "      <td>0</td>\n",
       "      <td>0</td>\n",
       "      <td>1</td>\n",
       "      <td>0</td>\n",
       "      <td>0</td>\n",
       "      <td>0</td>\n",
       "      <td>0</td>\n",
       "      <td>0</td>\n",
       "      <td>0</td>\n",
       "      <td>0</td>\n",
       "      <td>0</td>\n",
       "      <td>0</td>\n",
       "      <td>0</td>\n",
       "      <td>0</td>\n",
       "      <td>0</td>\n",
       "      <td>0</td>\n",
       "      <td>0</td>\n",
       "      <td>0</td>\n",
       "      <td>0</td>\n",
       "      <td>0</td>\n",
       "      <td>0</td>\n",
       "      <td>0</td>\n",
       "      <td>0</td>\n",
       "      <td>0</td>\n",
       "      <td>0</td>\n",
       "      <td>0</td>\n",
       "      <td>0</td>\n",
       "      <td>0</td>\n",
       "      <td>0</td>\n",
       "      <td>0</td>\n",
       "      <td>0</td>\n",
       "      <td>0</td>\n",
       "      <td>0</td>\n",
       "      <td>0</td>\n",
       "      <td>0</td>\n",
       "      <td>0</td>\n",
       "      <td>0</td>\n",
       "      <td>0</td>\n",
       "      <td>0</td>\n",
       "      <td>0</td>\n",
       "      <td>0</td>\n",
       "      <td>0</td>\n",
       "      <td>0</td>\n",
       "      <td>0</td>\n",
       "      <td>0</td>\n",
       "      <td>0</td>\n",
       "      <td>0</td>\n",
       "      <td>0</td>\n",
       "      <td>0</td>\n",
       "      <td>0</td>\n",
       "      <td>0</td>\n",
       "      <td>1</td>\n",
       "      <td>0</td>\n",
       "      <td>0</td>\n",
       "    </tr>\n",
       "  </tbody>\n",
       "</table>\n",
       "</div>"
      ],
      "text/plain": [
       "   Milleage  horsepower  year  Exterior Color  Passenger Capacity  Price  \\\n",
       "0         8         212    19               7                   5  37998   \n",
       "1        93         195    15               4                   5  21998   \n",
       "2        36         212    17               3                   5  28998   \n",
       "3        29         212    20               4                   5  29998   \n",
       "4        16         212    20               7                   5  36998   \n",
       "\n",
       "   No. of Axle  Axle Type  Cylinder  Gas Type  Litres  MPG1  MPG2  \\\n",
       "0            2          0         4         2     2.0    48    48   \n",
       "1            2          0         4         2     2.0    50    45   \n",
       "2            2          0         4         2     2.0    49    47   \n",
       "3            2          0         4         2     2.0    48    47   \n",
       "4            2          0         4         2     2.0    48    47   \n",
       "\n",
       "   Brand_Honda  Brand_Toyota  Model_Type1_4Runner  Model_Type1_Accord  \\\n",
       "0            1             0                    0                   1   \n",
       "1            1             0                    0                   1   \n",
       "2            1             0                    0                   1   \n",
       "3            1             0                    0                   1   \n",
       "4            1             0                    0                   1   \n",
       "\n",
       "   Model_Type1_CR-V  Model_Type1_Camry  Model_Type1_Civic  \\\n",
       "0                 0                  0                  0   \n",
       "1                 0                  0                  0   \n",
       "2                 0                  0                  0   \n",
       "3                 0                  0                  0   \n",
       "4                 0                  0                  0   \n",
       "\n",
       "   Model_Type1_Corolla  Model_Type1_Fit  Model_Type1_HR-V  \\\n",
       "0                    0                0                 0   \n",
       "1                    0                0                 0   \n",
       "2                    0                0                 0   \n",
       "3                    0                0                 0   \n",
       "4                    0                0                 0   \n",
       "\n",
       "   Model_Type1_Highlander  Model_Type1_Hybrid  Model_Type1_Odyssey  \\\n",
       "0                       0                   0                    0   \n",
       "1                       0                   0                    0   \n",
       "2                       0                   0                    0   \n",
       "3                       0                   0                    0   \n",
       "4                       0                   0                    0   \n",
       "\n",
       "   Model_Type1_Passport  Model_Type1_Prius  Model_Type1_RAV4  \\\n",
       "0                     0                  0                 0   \n",
       "1                     0                  0                 0   \n",
       "2                     0                  0                 0   \n",
       "3                     0                  0                 0   \n",
       "4                     0                  0                 0   \n",
       "\n",
       "   Model_Type1_RidgeLine  Model_Type1_Sienna  Model_Type1_Tacoma  \\\n",
       "0                      0                   0                   0   \n",
       "1                      0                   0                   0   \n",
       "2                      0                   0                   0   \n",
       "3                      0                   0                   0   \n",
       "4                      0                   0                   0   \n",
       "\n",
       "   Model_Type1_Tundra  Model_Type3_1794  Model_Type3_Adventure  \\\n",
       "0                   0                 0                      0   \n",
       "1                   0                 0                      0   \n",
       "2                   0                 0                      0   \n",
       "3                   0                 0                      0   \n",
       "4                   0                 0                      0   \n",
       "\n",
       "   Model_Type3_Black  Model_Type3_CrossTour  Model_Type3_ELITE  \\\n",
       "0                  0                      0                  0   \n",
       "1                  0                      0                  0   \n",
       "2                  0                      0                  0   \n",
       "3                  0                      0                  0   \n",
       "4                  0                      0                  0   \n",
       "\n",
       "   Model_Type3_EX  Model_Type3_EX-L  Model_Type3_EX-T  Model_Type3_Four  \\\n",
       "0               0                 0                 0                 0   \n",
       "1               0                 0                 0                 0   \n",
       "2               0                 0                 0                 0   \n",
       "3               0                 0                 0                 0   \n",
       "4               0                 0                 0                 0   \n",
       "\n",
       "   Model_Type3_Hybrid  Model_Type3_L  Model_Type3_LE  Model_Type3_LIMITED  \\\n",
       "0                   1              0               0                    0   \n",
       "1                   1              0               0                    0   \n",
       "2                   1              0               0                    0   \n",
       "3                   1              0               0                    0   \n",
       "4                   1              0               0                    0   \n",
       "\n",
       "   Model_Type3_LX  Model_Type3_Limited  Model_Type3_Night  \\\n",
       "0               0                    0                  0   \n",
       "1               0                    0                  0   \n",
       "2               0                    0                  0   \n",
       "3               0                    0                  0   \n",
       "4               0                    0                  0   \n",
       "\n",
       "   Model_Type3_Platinum  Model_Type3_Prerunner  Model_Type3_RTL  \\\n",
       "0                     0                      0                0   \n",
       "1                     0                      0                0   \n",
       "2                     0                      0                0   \n",
       "3                     0                      0                0   \n",
       "4                     0                      0                0   \n",
       "\n",
       "   Model_Type3_RTL-E  Model_Type3_RTL-T  Model_Type3_RTS  Model_Type3_S  \\\n",
       "0                  0                  0                0              0   \n",
       "1                  0                  0                0              0   \n",
       "2                  0                  0                0              0   \n",
       "3                  0                  0                0              0   \n",
       "4                  0                  0                0              0   \n",
       "\n",
       "   Model_Type3_SE  Model_Type3_SI  Model_Type3_SR  Model_Type3_SR5  \\\n",
       "0               0               0               0                0   \n",
       "1               0               0               0                0   \n",
       "2               0               0               0                0   \n",
       "3               0               0               0                0   \n",
       "4               0               0               0                0   \n",
       "\n",
       "   Model_Type3_Sport  Model_Type3_TRD  Model_Type3_Three  Model_Type3_Touring  \\\n",
       "0                  0                0                  0                    0   \n",
       "1                  0                0                  0                    0   \n",
       "2                  0                0                  0                    0   \n",
       "3                  0                0                  0                    0   \n",
       "4                  0                0                  0                    0   \n",
       "\n",
       "   Model_Type3_Touringh  Model_Type3_Two  Model_Type3_Type-R  \\\n",
       "0                     0                0                   0   \n",
       "1                     0                0                   0   \n",
       "2                     0                0                   0   \n",
       "3                     0                0                   0   \n",
       "4                     0                0                   0   \n",
       "\n",
       "   Model_Type3_Venture  Model_Type3_XLE  Model_Type3_XSE  Model_Type4_  \\\n",
       "0                    0                0                0             0   \n",
       "1                    0                0                0             0   \n",
       "2                    0                0                0             0   \n",
       "3                    0                0                0             0   \n",
       "4                    0                0                0             0   \n",
       "\n",
       "   Model_Type4_ELITE  Model_Type4_EX  Model_Type4_EX-L  Model_Type4_Eco  \\\n",
       "0                  0               0                 0                0   \n",
       "1                  0               0                 1                0   \n",
       "2                  0               0                 1                0   \n",
       "3                  0               0                 0                0   \n",
       "4                  0               0                 0                0   \n",
       "\n",
       "   Model_Type4_Edition  Model_Type4_LE  Model_Type4_LIMITED  Model_Type4_LX  \\\n",
       "0                    0               0                    0               0   \n",
       "1                    0               0                    0               0   \n",
       "2                    0               0                    0               0   \n",
       "3                    0               0                    0               0   \n",
       "4                    0               0                    0               0   \n",
       "\n",
       "   Model_Type4_Limited Platinum  Model_Type4_Night Shade  \\\n",
       "0                             0                        0   \n",
       "1                             0                        0   \n",
       "2                             0                        0   \n",
       "3                             0                        0   \n",
       "4                             0                        0   \n",
       "\n",
       "   Model_Type4_Off Road  Model_Type4_Off Road   Model_Type4_Off Road Premium  \\\n",
       "0                     0                      0                             0   \n",
       "1                     0                      0                             0   \n",
       "2                     0                      0                             0   \n",
       "3                     0                      0                             0   \n",
       "4                     0                      0                             0   \n",
       "\n",
       "   Model_Type4_Platinum  Model_Type4_Plus  Model_Type4_Premium  \\\n",
       "0                     0                 0                    0   \n",
       "1                     0                 0                    0   \n",
       "2                     0                 0                    0   \n",
       "3                     0                 0                    0   \n",
       "4                     0                 0                    0   \n",
       "\n",
       "   Model_Type4_Pro  Model_Type4_SPORT  Model_Type4_Shade  Model_Type4_Sport  \\\n",
       "0                0                  0                  0                  0   \n",
       "1                0                  0                  0                  0   \n",
       "2                0                  0                  0                  0   \n",
       "3                0                  0                  0                  0   \n",
       "4                0                  0                  0                  0   \n",
       "\n",
       "   Model_Type4_Touring  Model_Type4_XLE  Model_Type4_pro  \n",
       "0                    1                0                0  \n",
       "1                    0                0                0  \n",
       "2                    0                0                0  \n",
       "3                    0                0                0  \n",
       "4                    1                0                0  "
      ]
     },
     "execution_count": 81,
     "metadata": {},
     "output_type": "execute_result"
    }
   ],
   "source": [
    "data8.head()"
   ]
  },
  {
   "cell_type": "code",
   "execution_count": 82,
   "id": "43b86a33",
   "metadata": {
    "colab": {
     "base_uri": "https://localhost:8080/"
    },
    "id": "43b86a33",
    "outputId": "a0eb74f0-045a-4794-f6e5-902f8806a9b2",
    "scrolled": true
   },
   "outputs": [
    {
     "data": {
      "text/plain": [
       "Index(['Milleage', 'horsepower', 'year', 'Exterior Color',\n",
       "       'Passenger Capacity', 'Price', 'No. of Axle', 'Axle Type', 'Cylinder',\n",
       "       'Gas Type', 'Litres', 'MPG1', 'MPG2', 'Brand_Honda', 'Brand_Toyota',\n",
       "       'Model_Type1_4Runner', 'Model_Type1_Accord', 'Model_Type1_CR-V',\n",
       "       'Model_Type1_Camry', 'Model_Type1_Civic', 'Model_Type1_Corolla',\n",
       "       'Model_Type1_Fit', 'Model_Type1_HR-V', 'Model_Type1_Highlander',\n",
       "       'Model_Type1_Hybrid', 'Model_Type1_Odyssey', 'Model_Type1_Passport',\n",
       "       'Model_Type1_Prius', 'Model_Type1_RAV4', 'Model_Type1_RidgeLine',\n",
       "       'Model_Type1_Sienna', 'Model_Type1_Tacoma', 'Model_Type1_Tundra',\n",
       "       'Model_Type3_1794', 'Model_Type3_Adventure', 'Model_Type3_Black',\n",
       "       'Model_Type3_CrossTour', 'Model_Type3_ELITE', 'Model_Type3_EX',\n",
       "       'Model_Type3_EX-L', 'Model_Type3_EX-T', 'Model_Type3_Four',\n",
       "       'Model_Type3_Hybrid', 'Model_Type3_L', 'Model_Type3_LE',\n",
       "       'Model_Type3_LIMITED', 'Model_Type3_LX', 'Model_Type3_Limited',\n",
       "       'Model_Type3_Night', 'Model_Type3_Platinum', 'Model_Type3_Prerunner',\n",
       "       'Model_Type3_RTL', 'Model_Type3_RTL-E', 'Model_Type3_RTL-T',\n",
       "       'Model_Type3_RTS', 'Model_Type3_S', 'Model_Type3_SE', 'Model_Type3_SI',\n",
       "       'Model_Type3_SR', 'Model_Type3_SR5', 'Model_Type3_Sport',\n",
       "       'Model_Type3_TRD', 'Model_Type3_Three', 'Model_Type3_Touring',\n",
       "       'Model_Type3_Touringh', 'Model_Type3_Two', 'Model_Type3_Type-R',\n",
       "       'Model_Type3_Venture', 'Model_Type3_XLE', 'Model_Type3_XSE',\n",
       "       'Model_Type4_', 'Model_Type4_ELITE', 'Model_Type4_EX',\n",
       "       'Model_Type4_EX-L', 'Model_Type4_Eco', 'Model_Type4_Edition',\n",
       "       'Model_Type4_LE', 'Model_Type4_LIMITED', 'Model_Type4_LX',\n",
       "       'Model_Type4_Limited Platinum', 'Model_Type4_Night Shade',\n",
       "       'Model_Type4_Off Road', 'Model_Type4_Off Road ',\n",
       "       'Model_Type4_Off Road Premium', 'Model_Type4_Platinum',\n",
       "       'Model_Type4_Plus', 'Model_Type4_Premium', 'Model_Type4_Pro',\n",
       "       'Model_Type4_SPORT', 'Model_Type4_Shade', 'Model_Type4_Sport',\n",
       "       'Model_Type4_Touring', 'Model_Type4_XLE', 'Model_Type4_pro'],\n",
       "      dtype='object')"
      ]
     },
     "execution_count": 82,
     "metadata": {},
     "output_type": "execute_result"
    }
   ],
   "source": [
    "data8.columns"
   ]
  },
  {
   "cell_type": "code",
   "execution_count": 83,
   "id": "174e843d",
   "metadata": {},
   "outputs": [
    {
     "data": {
      "text/plain": [
       "(434, 94)"
      ]
     },
     "execution_count": 83,
     "metadata": {},
     "output_type": "execute_result"
    }
   ],
   "source": [
    "data8.shape"
   ]
  },
  {
   "cell_type": "markdown",
   "id": "gLFX6hfEf0iD",
   "metadata": {
    "id": "gLFX6hfEf0iD"
   },
   "source": [
    "## Standard Scaler"
   ]
  },
  {
   "cell_type": "code",
   "execution_count": 84,
   "id": "5af5bf39",
   "metadata": {
    "id": "5af5bf39"
   },
   "outputs": [],
   "source": [
    "#Standard Scaler\n",
    "data8[['Milleage','horsepower', 'year', 'Passenger Capacity', 'MPG1', 'MPG2', 'No. of Axle', 'Litres', 'Cylinder', 'Exterior Color', 'Axle Type', 'Gas Type']] = StandardScaler().fit_transform(data8[['Milleage','horsepower', 'year', 'Passenger Capacity', 'MPG1', 'MPG2', 'No. of Axle', 'Litres', 'Cylinder', 'Exterior Color', 'Axle Type', 'Gas Type']])"
   ]
  },
  {
   "cell_type": "code",
   "execution_count": 85,
   "id": "3dc86c21",
   "metadata": {
    "colab": {
     "base_uri": "https://localhost:8080/",
     "height": 444
    },
    "id": "3dc86c21",
    "outputId": "1a9a7f62-e731-4cff-b244-612fda94115a",
    "scrolled": true
   },
   "outputs": [
    {
     "data": {
      "text/html": [
       "<div>\n",
       "<style scoped>\n",
       "    .dataframe tbody tr th:only-of-type {\n",
       "        vertical-align: middle;\n",
       "    }\n",
       "\n",
       "    .dataframe tbody tr th {\n",
       "        vertical-align: top;\n",
       "    }\n",
       "\n",
       "    .dataframe thead th {\n",
       "        text-align: right;\n",
       "    }\n",
       "</style>\n",
       "<table border=\"1\" class=\"dataframe\">\n",
       "  <thead>\n",
       "    <tr style=\"text-align: right;\">\n",
       "      <th></th>\n",
       "      <th>Milleage</th>\n",
       "      <th>horsepower</th>\n",
       "      <th>year</th>\n",
       "      <th>Exterior Color</th>\n",
       "      <th>Passenger Capacity</th>\n",
       "      <th>Price</th>\n",
       "      <th>No. of Axle</th>\n",
       "      <th>Axle Type</th>\n",
       "      <th>Cylinder</th>\n",
       "      <th>Gas Type</th>\n",
       "      <th>Litres</th>\n",
       "      <th>MPG1</th>\n",
       "      <th>MPG2</th>\n",
       "      <th>Brand_Honda</th>\n",
       "      <th>Brand_Toyota</th>\n",
       "      <th>Model_Type1_4Runner</th>\n",
       "      <th>Model_Type1_Accord</th>\n",
       "      <th>Model_Type1_CR-V</th>\n",
       "      <th>Model_Type1_Camry</th>\n",
       "      <th>Model_Type1_Civic</th>\n",
       "      <th>Model_Type1_Corolla</th>\n",
       "      <th>Model_Type1_Fit</th>\n",
       "      <th>Model_Type1_HR-V</th>\n",
       "      <th>Model_Type1_Highlander</th>\n",
       "      <th>Model_Type1_Hybrid</th>\n",
       "      <th>Model_Type1_Odyssey</th>\n",
       "      <th>Model_Type1_Passport</th>\n",
       "      <th>Model_Type1_Prius</th>\n",
       "      <th>Model_Type1_RAV4</th>\n",
       "      <th>Model_Type1_RidgeLine</th>\n",
       "      <th>Model_Type1_Sienna</th>\n",
       "      <th>Model_Type1_Tacoma</th>\n",
       "      <th>Model_Type1_Tundra</th>\n",
       "      <th>Model_Type3_1794</th>\n",
       "      <th>Model_Type3_Adventure</th>\n",
       "      <th>Model_Type3_Black</th>\n",
       "      <th>Model_Type3_CrossTour</th>\n",
       "      <th>Model_Type3_ELITE</th>\n",
       "      <th>Model_Type3_EX</th>\n",
       "      <th>Model_Type3_EX-L</th>\n",
       "      <th>Model_Type3_EX-T</th>\n",
       "      <th>Model_Type3_Four</th>\n",
       "      <th>Model_Type3_Hybrid</th>\n",
       "      <th>Model_Type3_L</th>\n",
       "      <th>Model_Type3_LE</th>\n",
       "      <th>Model_Type3_LIMITED</th>\n",
       "      <th>Model_Type3_LX</th>\n",
       "      <th>Model_Type3_Limited</th>\n",
       "      <th>Model_Type3_Night</th>\n",
       "      <th>Model_Type3_Platinum</th>\n",
       "      <th>Model_Type3_Prerunner</th>\n",
       "      <th>Model_Type3_RTL</th>\n",
       "      <th>Model_Type3_RTL-E</th>\n",
       "      <th>Model_Type3_RTL-T</th>\n",
       "      <th>Model_Type3_RTS</th>\n",
       "      <th>Model_Type3_S</th>\n",
       "      <th>Model_Type3_SE</th>\n",
       "      <th>Model_Type3_SI</th>\n",
       "      <th>Model_Type3_SR</th>\n",
       "      <th>Model_Type3_SR5</th>\n",
       "      <th>Model_Type3_Sport</th>\n",
       "      <th>Model_Type3_TRD</th>\n",
       "      <th>Model_Type3_Three</th>\n",
       "      <th>Model_Type3_Touring</th>\n",
       "      <th>Model_Type3_Touringh</th>\n",
       "      <th>Model_Type3_Two</th>\n",
       "      <th>Model_Type3_Type-R</th>\n",
       "      <th>Model_Type3_Venture</th>\n",
       "      <th>Model_Type3_XLE</th>\n",
       "      <th>Model_Type3_XSE</th>\n",
       "      <th>Model_Type4_</th>\n",
       "      <th>Model_Type4_ELITE</th>\n",
       "      <th>Model_Type4_EX</th>\n",
       "      <th>Model_Type4_EX-L</th>\n",
       "      <th>Model_Type4_Eco</th>\n",
       "      <th>Model_Type4_Edition</th>\n",
       "      <th>Model_Type4_LE</th>\n",
       "      <th>Model_Type4_LIMITED</th>\n",
       "      <th>Model_Type4_LX</th>\n",
       "      <th>Model_Type4_Limited Platinum</th>\n",
       "      <th>Model_Type4_Night Shade</th>\n",
       "      <th>Model_Type4_Off Road</th>\n",
       "      <th>Model_Type4_Off Road</th>\n",
       "      <th>Model_Type4_Off Road Premium</th>\n",
       "      <th>Model_Type4_Platinum</th>\n",
       "      <th>Model_Type4_Plus</th>\n",
       "      <th>Model_Type4_Premium</th>\n",
       "      <th>Model_Type4_Pro</th>\n",
       "      <th>Model_Type4_SPORT</th>\n",
       "      <th>Model_Type4_Shade</th>\n",
       "      <th>Model_Type4_Sport</th>\n",
       "      <th>Model_Type4_Touring</th>\n",
       "      <th>Model_Type4_XLE</th>\n",
       "      <th>Model_Type4_pro</th>\n",
       "    </tr>\n",
       "  </thead>\n",
       "  <tbody>\n",
       "    <tr>\n",
       "      <th>0</th>\n",
       "      <td>-1.117107</td>\n",
       "      <td>-0.158317</td>\n",
       "      <td>0.483265</td>\n",
       "      <td>1.579208</td>\n",
       "      <td>-0.435308</td>\n",
       "      <td>37998</td>\n",
       "      <td>-0.886571</td>\n",
       "      <td>-0.86288</td>\n",
       "      <td>-0.800847</td>\n",
       "      <td>1.965765</td>\n",
       "      <td>-0.724186</td>\n",
       "      <td>2.099822</td>\n",
       "      <td>2.003477</td>\n",
       "      <td>1</td>\n",
       "      <td>0</td>\n",
       "      <td>0</td>\n",
       "      <td>1</td>\n",
       "      <td>0</td>\n",
       "      <td>0</td>\n",
       "      <td>0</td>\n",
       "      <td>0</td>\n",
       "      <td>0</td>\n",
       "      <td>0</td>\n",
       "      <td>0</td>\n",
       "      <td>0</td>\n",
       "      <td>0</td>\n",
       "      <td>0</td>\n",
       "      <td>0</td>\n",
       "      <td>0</td>\n",
       "      <td>0</td>\n",
       "      <td>0</td>\n",
       "      <td>0</td>\n",
       "      <td>0</td>\n",
       "      <td>0</td>\n",
       "      <td>0</td>\n",
       "      <td>0</td>\n",
       "      <td>0</td>\n",
       "      <td>0</td>\n",
       "      <td>0</td>\n",
       "      <td>0</td>\n",
       "      <td>0</td>\n",
       "      <td>0</td>\n",
       "      <td>1</td>\n",
       "      <td>0</td>\n",
       "      <td>0</td>\n",
       "      <td>0</td>\n",
       "      <td>0</td>\n",
       "      <td>0</td>\n",
       "      <td>0</td>\n",
       "      <td>0</td>\n",
       "      <td>0</td>\n",
       "      <td>0</td>\n",
       "      <td>0</td>\n",
       "      <td>0</td>\n",
       "      <td>0</td>\n",
       "      <td>0</td>\n",
       "      <td>0</td>\n",
       "      <td>0</td>\n",
       "      <td>0</td>\n",
       "      <td>0</td>\n",
       "      <td>0</td>\n",
       "      <td>0</td>\n",
       "      <td>0</td>\n",
       "      <td>0</td>\n",
       "      <td>0</td>\n",
       "      <td>0</td>\n",
       "      <td>0</td>\n",
       "      <td>0</td>\n",
       "      <td>0</td>\n",
       "      <td>0</td>\n",
       "      <td>0</td>\n",
       "      <td>0</td>\n",
       "      <td>0</td>\n",
       "      <td>0</td>\n",
       "      <td>0</td>\n",
       "      <td>0</td>\n",
       "      <td>0</td>\n",
       "      <td>0</td>\n",
       "      <td>0</td>\n",
       "      <td>0</td>\n",
       "      <td>0</td>\n",
       "      <td>0</td>\n",
       "      <td>0</td>\n",
       "      <td>0</td>\n",
       "      <td>0</td>\n",
       "      <td>0</td>\n",
       "      <td>0</td>\n",
       "      <td>0</td>\n",
       "      <td>0</td>\n",
       "      <td>0</td>\n",
       "      <td>0</td>\n",
       "      <td>1</td>\n",
       "      <td>0</td>\n",
       "      <td>0</td>\n",
       "    </tr>\n",
       "    <tr>\n",
       "      <th>1</th>\n",
       "      <td>1.734407</td>\n",
       "      <td>-0.414865</td>\n",
       "      <td>-1.001599</td>\n",
       "      <td>-0.452540</td>\n",
       "      <td>-0.435308</td>\n",
       "      <td>21998</td>\n",
       "      <td>-0.886571</td>\n",
       "      <td>-0.86288</td>\n",
       "      <td>-0.800847</td>\n",
       "      <td>1.965765</td>\n",
       "      <td>-0.724186</td>\n",
       "      <td>2.295953</td>\n",
       "      <td>1.637008</td>\n",
       "      <td>1</td>\n",
       "      <td>0</td>\n",
       "      <td>0</td>\n",
       "      <td>1</td>\n",
       "      <td>0</td>\n",
       "      <td>0</td>\n",
       "      <td>0</td>\n",
       "      <td>0</td>\n",
       "      <td>0</td>\n",
       "      <td>0</td>\n",
       "      <td>0</td>\n",
       "      <td>0</td>\n",
       "      <td>0</td>\n",
       "      <td>0</td>\n",
       "      <td>0</td>\n",
       "      <td>0</td>\n",
       "      <td>0</td>\n",
       "      <td>0</td>\n",
       "      <td>0</td>\n",
       "      <td>0</td>\n",
       "      <td>0</td>\n",
       "      <td>0</td>\n",
       "      <td>0</td>\n",
       "      <td>0</td>\n",
       "      <td>0</td>\n",
       "      <td>0</td>\n",
       "      <td>0</td>\n",
       "      <td>0</td>\n",
       "      <td>0</td>\n",
       "      <td>1</td>\n",
       "      <td>0</td>\n",
       "      <td>0</td>\n",
       "      <td>0</td>\n",
       "      <td>0</td>\n",
       "      <td>0</td>\n",
       "      <td>0</td>\n",
       "      <td>0</td>\n",
       "      <td>0</td>\n",
       "      <td>0</td>\n",
       "      <td>0</td>\n",
       "      <td>0</td>\n",
       "      <td>0</td>\n",
       "      <td>0</td>\n",
       "      <td>0</td>\n",
       "      <td>0</td>\n",
       "      <td>0</td>\n",
       "      <td>0</td>\n",
       "      <td>0</td>\n",
       "      <td>0</td>\n",
       "      <td>0</td>\n",
       "      <td>0</td>\n",
       "      <td>0</td>\n",
       "      <td>0</td>\n",
       "      <td>0</td>\n",
       "      <td>0</td>\n",
       "      <td>0</td>\n",
       "      <td>0</td>\n",
       "      <td>0</td>\n",
       "      <td>0</td>\n",
       "      <td>0</td>\n",
       "      <td>1</td>\n",
       "      <td>0</td>\n",
       "      <td>0</td>\n",
       "      <td>0</td>\n",
       "      <td>0</td>\n",
       "      <td>0</td>\n",
       "      <td>0</td>\n",
       "      <td>0</td>\n",
       "      <td>0</td>\n",
       "      <td>0</td>\n",
       "      <td>0</td>\n",
       "      <td>0</td>\n",
       "      <td>0</td>\n",
       "      <td>0</td>\n",
       "      <td>0</td>\n",
       "      <td>0</td>\n",
       "      <td>0</td>\n",
       "      <td>0</td>\n",
       "      <td>0</td>\n",
       "      <td>0</td>\n",
       "      <td>0</td>\n",
       "    </tr>\n",
       "    <tr>\n",
       "      <th>2</th>\n",
       "      <td>-0.177785</td>\n",
       "      <td>-0.158317</td>\n",
       "      <td>-0.259167</td>\n",
       "      <td>-1.129789</td>\n",
       "      <td>-0.435308</td>\n",
       "      <td>28998</td>\n",
       "      <td>-0.886571</td>\n",
       "      <td>-0.86288</td>\n",
       "      <td>-0.800847</td>\n",
       "      <td>1.965765</td>\n",
       "      <td>-0.724186</td>\n",
       "      <td>2.197887</td>\n",
       "      <td>1.881320</td>\n",
       "      <td>1</td>\n",
       "      <td>0</td>\n",
       "      <td>0</td>\n",
       "      <td>1</td>\n",
       "      <td>0</td>\n",
       "      <td>0</td>\n",
       "      <td>0</td>\n",
       "      <td>0</td>\n",
       "      <td>0</td>\n",
       "      <td>0</td>\n",
       "      <td>0</td>\n",
       "      <td>0</td>\n",
       "      <td>0</td>\n",
       "      <td>0</td>\n",
       "      <td>0</td>\n",
       "      <td>0</td>\n",
       "      <td>0</td>\n",
       "      <td>0</td>\n",
       "      <td>0</td>\n",
       "      <td>0</td>\n",
       "      <td>0</td>\n",
       "      <td>0</td>\n",
       "      <td>0</td>\n",
       "      <td>0</td>\n",
       "      <td>0</td>\n",
       "      <td>0</td>\n",
       "      <td>0</td>\n",
       "      <td>0</td>\n",
       "      <td>0</td>\n",
       "      <td>1</td>\n",
       "      <td>0</td>\n",
       "      <td>0</td>\n",
       "      <td>0</td>\n",
       "      <td>0</td>\n",
       "      <td>0</td>\n",
       "      <td>0</td>\n",
       "      <td>0</td>\n",
       "      <td>0</td>\n",
       "      <td>0</td>\n",
       "      <td>0</td>\n",
       "      <td>0</td>\n",
       "      <td>0</td>\n",
       "      <td>0</td>\n",
       "      <td>0</td>\n",
       "      <td>0</td>\n",
       "      <td>0</td>\n",
       "      <td>0</td>\n",
       "      <td>0</td>\n",
       "      <td>0</td>\n",
       "      <td>0</td>\n",
       "      <td>0</td>\n",
       "      <td>0</td>\n",
       "      <td>0</td>\n",
       "      <td>0</td>\n",
       "      <td>0</td>\n",
       "      <td>0</td>\n",
       "      <td>0</td>\n",
       "      <td>0</td>\n",
       "      <td>0</td>\n",
       "      <td>0</td>\n",
       "      <td>1</td>\n",
       "      <td>0</td>\n",
       "      <td>0</td>\n",
       "      <td>0</td>\n",
       "      <td>0</td>\n",
       "      <td>0</td>\n",
       "      <td>0</td>\n",
       "      <td>0</td>\n",
       "      <td>0</td>\n",
       "      <td>0</td>\n",
       "      <td>0</td>\n",
       "      <td>0</td>\n",
       "      <td>0</td>\n",
       "      <td>0</td>\n",
       "      <td>0</td>\n",
       "      <td>0</td>\n",
       "      <td>0</td>\n",
       "      <td>0</td>\n",
       "      <td>0</td>\n",
       "      <td>0</td>\n",
       "      <td>0</td>\n",
       "    </tr>\n",
       "    <tr>\n",
       "      <th>3</th>\n",
       "      <td>-0.412615</td>\n",
       "      <td>-0.158317</td>\n",
       "      <td>0.854482</td>\n",
       "      <td>-0.452540</td>\n",
       "      <td>-0.435308</td>\n",
       "      <td>29998</td>\n",
       "      <td>-0.886571</td>\n",
       "      <td>-0.86288</td>\n",
       "      <td>-0.800847</td>\n",
       "      <td>1.965765</td>\n",
       "      <td>-0.724186</td>\n",
       "      <td>2.099822</td>\n",
       "      <td>1.881320</td>\n",
       "      <td>1</td>\n",
       "      <td>0</td>\n",
       "      <td>0</td>\n",
       "      <td>1</td>\n",
       "      <td>0</td>\n",
       "      <td>0</td>\n",
       "      <td>0</td>\n",
       "      <td>0</td>\n",
       "      <td>0</td>\n",
       "      <td>0</td>\n",
       "      <td>0</td>\n",
       "      <td>0</td>\n",
       "      <td>0</td>\n",
       "      <td>0</td>\n",
       "      <td>0</td>\n",
       "      <td>0</td>\n",
       "      <td>0</td>\n",
       "      <td>0</td>\n",
       "      <td>0</td>\n",
       "      <td>0</td>\n",
       "      <td>0</td>\n",
       "      <td>0</td>\n",
       "      <td>0</td>\n",
       "      <td>0</td>\n",
       "      <td>0</td>\n",
       "      <td>0</td>\n",
       "      <td>0</td>\n",
       "      <td>0</td>\n",
       "      <td>0</td>\n",
       "      <td>1</td>\n",
       "      <td>0</td>\n",
       "      <td>0</td>\n",
       "      <td>0</td>\n",
       "      <td>0</td>\n",
       "      <td>0</td>\n",
       "      <td>0</td>\n",
       "      <td>0</td>\n",
       "      <td>0</td>\n",
       "      <td>0</td>\n",
       "      <td>0</td>\n",
       "      <td>0</td>\n",
       "      <td>0</td>\n",
       "      <td>0</td>\n",
       "      <td>0</td>\n",
       "      <td>0</td>\n",
       "      <td>0</td>\n",
       "      <td>0</td>\n",
       "      <td>0</td>\n",
       "      <td>0</td>\n",
       "      <td>0</td>\n",
       "      <td>0</td>\n",
       "      <td>0</td>\n",
       "      <td>0</td>\n",
       "      <td>0</td>\n",
       "      <td>0</td>\n",
       "      <td>0</td>\n",
       "      <td>0</td>\n",
       "      <td>0</td>\n",
       "      <td>0</td>\n",
       "      <td>0</td>\n",
       "      <td>0</td>\n",
       "      <td>0</td>\n",
       "      <td>0</td>\n",
       "      <td>0</td>\n",
       "      <td>0</td>\n",
       "      <td>0</td>\n",
       "      <td>0</td>\n",
       "      <td>0</td>\n",
       "      <td>0</td>\n",
       "      <td>0</td>\n",
       "      <td>0</td>\n",
       "      <td>0</td>\n",
       "      <td>0</td>\n",
       "      <td>0</td>\n",
       "      <td>0</td>\n",
       "      <td>0</td>\n",
       "      <td>0</td>\n",
       "      <td>0</td>\n",
       "      <td>0</td>\n",
       "      <td>0</td>\n",
       "      <td>0</td>\n",
       "    </tr>\n",
       "    <tr>\n",
       "      <th>4</th>\n",
       "      <td>-0.848729</td>\n",
       "      <td>-0.158317</td>\n",
       "      <td>0.854482</td>\n",
       "      <td>1.579208</td>\n",
       "      <td>-0.435308</td>\n",
       "      <td>36998</td>\n",
       "      <td>-0.886571</td>\n",
       "      <td>-0.86288</td>\n",
       "      <td>-0.800847</td>\n",
       "      <td>1.965765</td>\n",
       "      <td>-0.724186</td>\n",
       "      <td>2.099822</td>\n",
       "      <td>1.881320</td>\n",
       "      <td>1</td>\n",
       "      <td>0</td>\n",
       "      <td>0</td>\n",
       "      <td>1</td>\n",
       "      <td>0</td>\n",
       "      <td>0</td>\n",
       "      <td>0</td>\n",
       "      <td>0</td>\n",
       "      <td>0</td>\n",
       "      <td>0</td>\n",
       "      <td>0</td>\n",
       "      <td>0</td>\n",
       "      <td>0</td>\n",
       "      <td>0</td>\n",
       "      <td>0</td>\n",
       "      <td>0</td>\n",
       "      <td>0</td>\n",
       "      <td>0</td>\n",
       "      <td>0</td>\n",
       "      <td>0</td>\n",
       "      <td>0</td>\n",
       "      <td>0</td>\n",
       "      <td>0</td>\n",
       "      <td>0</td>\n",
       "      <td>0</td>\n",
       "      <td>0</td>\n",
       "      <td>0</td>\n",
       "      <td>0</td>\n",
       "      <td>0</td>\n",
       "      <td>1</td>\n",
       "      <td>0</td>\n",
       "      <td>0</td>\n",
       "      <td>0</td>\n",
       "      <td>0</td>\n",
       "      <td>0</td>\n",
       "      <td>0</td>\n",
       "      <td>0</td>\n",
       "      <td>0</td>\n",
       "      <td>0</td>\n",
       "      <td>0</td>\n",
       "      <td>0</td>\n",
       "      <td>0</td>\n",
       "      <td>0</td>\n",
       "      <td>0</td>\n",
       "      <td>0</td>\n",
       "      <td>0</td>\n",
       "      <td>0</td>\n",
       "      <td>0</td>\n",
       "      <td>0</td>\n",
       "      <td>0</td>\n",
       "      <td>0</td>\n",
       "      <td>0</td>\n",
       "      <td>0</td>\n",
       "      <td>0</td>\n",
       "      <td>0</td>\n",
       "      <td>0</td>\n",
       "      <td>0</td>\n",
       "      <td>0</td>\n",
       "      <td>0</td>\n",
       "      <td>0</td>\n",
       "      <td>0</td>\n",
       "      <td>0</td>\n",
       "      <td>0</td>\n",
       "      <td>0</td>\n",
       "      <td>0</td>\n",
       "      <td>0</td>\n",
       "      <td>0</td>\n",
       "      <td>0</td>\n",
       "      <td>0</td>\n",
       "      <td>0</td>\n",
       "      <td>0</td>\n",
       "      <td>0</td>\n",
       "      <td>0</td>\n",
       "      <td>0</td>\n",
       "      <td>0</td>\n",
       "      <td>0</td>\n",
       "      <td>0</td>\n",
       "      <td>0</td>\n",
       "      <td>1</td>\n",
       "      <td>0</td>\n",
       "      <td>0</td>\n",
       "    </tr>\n",
       "    <tr>\n",
       "      <th>5</th>\n",
       "      <td>-1.284843</td>\n",
       "      <td>-0.158317</td>\n",
       "      <td>1.225698</td>\n",
       "      <td>0.224709</td>\n",
       "      <td>-0.435308</td>\n",
       "      <td>37998</td>\n",
       "      <td>-0.886571</td>\n",
       "      <td>-0.86288</td>\n",
       "      <td>-0.800847</td>\n",
       "      <td>1.965765</td>\n",
       "      <td>-0.724186</td>\n",
       "      <td>2.099822</td>\n",
       "      <td>2.003477</td>\n",
       "      <td>1</td>\n",
       "      <td>0</td>\n",
       "      <td>0</td>\n",
       "      <td>1</td>\n",
       "      <td>0</td>\n",
       "      <td>0</td>\n",
       "      <td>0</td>\n",
       "      <td>0</td>\n",
       "      <td>0</td>\n",
       "      <td>0</td>\n",
       "      <td>0</td>\n",
       "      <td>0</td>\n",
       "      <td>0</td>\n",
       "      <td>0</td>\n",
       "      <td>0</td>\n",
       "      <td>0</td>\n",
       "      <td>0</td>\n",
       "      <td>0</td>\n",
       "      <td>0</td>\n",
       "      <td>0</td>\n",
       "      <td>0</td>\n",
       "      <td>0</td>\n",
       "      <td>0</td>\n",
       "      <td>0</td>\n",
       "      <td>0</td>\n",
       "      <td>0</td>\n",
       "      <td>0</td>\n",
       "      <td>0</td>\n",
       "      <td>0</td>\n",
       "      <td>1</td>\n",
       "      <td>0</td>\n",
       "      <td>0</td>\n",
       "      <td>0</td>\n",
       "      <td>0</td>\n",
       "      <td>0</td>\n",
       "      <td>0</td>\n",
       "      <td>0</td>\n",
       "      <td>0</td>\n",
       "      <td>0</td>\n",
       "      <td>0</td>\n",
       "      <td>0</td>\n",
       "      <td>0</td>\n",
       "      <td>0</td>\n",
       "      <td>0</td>\n",
       "      <td>0</td>\n",
       "      <td>0</td>\n",
       "      <td>0</td>\n",
       "      <td>0</td>\n",
       "      <td>0</td>\n",
       "      <td>0</td>\n",
       "      <td>0</td>\n",
       "      <td>0</td>\n",
       "      <td>0</td>\n",
       "      <td>0</td>\n",
       "      <td>0</td>\n",
       "      <td>0</td>\n",
       "      <td>0</td>\n",
       "      <td>0</td>\n",
       "      <td>0</td>\n",
       "      <td>0</td>\n",
       "      <td>1</td>\n",
       "      <td>0</td>\n",
       "      <td>0</td>\n",
       "      <td>0</td>\n",
       "      <td>0</td>\n",
       "      <td>0</td>\n",
       "      <td>0</td>\n",
       "      <td>0</td>\n",
       "      <td>0</td>\n",
       "      <td>0</td>\n",
       "      <td>0</td>\n",
       "      <td>0</td>\n",
       "      <td>0</td>\n",
       "      <td>0</td>\n",
       "      <td>0</td>\n",
       "      <td>0</td>\n",
       "      <td>0</td>\n",
       "      <td>0</td>\n",
       "      <td>0</td>\n",
       "      <td>0</td>\n",
       "      <td>0</td>\n",
       "    </tr>\n",
       "    <tr>\n",
       "      <th>6</th>\n",
       "      <td>-0.647446</td>\n",
       "      <td>-0.158317</td>\n",
       "      <td>0.854482</td>\n",
       "      <td>-0.452540</td>\n",
       "      <td>-0.435308</td>\n",
       "      <td>30998</td>\n",
       "      <td>-0.886571</td>\n",
       "      <td>-0.86288</td>\n",
       "      <td>-0.800847</td>\n",
       "      <td>1.965765</td>\n",
       "      <td>-0.724186</td>\n",
       "      <td>2.099822</td>\n",
       "      <td>1.881320</td>\n",
       "      <td>1</td>\n",
       "      <td>0</td>\n",
       "      <td>0</td>\n",
       "      <td>1</td>\n",
       "      <td>0</td>\n",
       "      <td>0</td>\n",
       "      <td>0</td>\n",
       "      <td>0</td>\n",
       "      <td>0</td>\n",
       "      <td>0</td>\n",
       "      <td>0</td>\n",
       "      <td>0</td>\n",
       "      <td>0</td>\n",
       "      <td>0</td>\n",
       "      <td>0</td>\n",
       "      <td>0</td>\n",
       "      <td>0</td>\n",
       "      <td>0</td>\n",
       "      <td>0</td>\n",
       "      <td>0</td>\n",
       "      <td>0</td>\n",
       "      <td>0</td>\n",
       "      <td>0</td>\n",
       "      <td>0</td>\n",
       "      <td>0</td>\n",
       "      <td>0</td>\n",
       "      <td>0</td>\n",
       "      <td>0</td>\n",
       "      <td>0</td>\n",
       "      <td>1</td>\n",
       "      <td>0</td>\n",
       "      <td>0</td>\n",
       "      <td>0</td>\n",
       "      <td>0</td>\n",
       "      <td>0</td>\n",
       "      <td>0</td>\n",
       "      <td>0</td>\n",
       "      <td>0</td>\n",
       "      <td>0</td>\n",
       "      <td>0</td>\n",
       "      <td>0</td>\n",
       "      <td>0</td>\n",
       "      <td>0</td>\n",
       "      <td>0</td>\n",
       "      <td>0</td>\n",
       "      <td>0</td>\n",
       "      <td>0</td>\n",
       "      <td>0</td>\n",
       "      <td>0</td>\n",
       "      <td>0</td>\n",
       "      <td>0</td>\n",
       "      <td>0</td>\n",
       "      <td>0</td>\n",
       "      <td>0</td>\n",
       "      <td>0</td>\n",
       "      <td>0</td>\n",
       "      <td>0</td>\n",
       "      <td>0</td>\n",
       "      <td>0</td>\n",
       "      <td>0</td>\n",
       "      <td>0</td>\n",
       "      <td>0</td>\n",
       "      <td>0</td>\n",
       "      <td>0</td>\n",
       "      <td>0</td>\n",
       "      <td>0</td>\n",
       "      <td>0</td>\n",
       "      <td>0</td>\n",
       "      <td>0</td>\n",
       "      <td>0</td>\n",
       "      <td>0</td>\n",
       "      <td>0</td>\n",
       "      <td>0</td>\n",
       "      <td>0</td>\n",
       "      <td>0</td>\n",
       "      <td>0</td>\n",
       "      <td>0</td>\n",
       "      <td>0</td>\n",
       "      <td>0</td>\n",
       "      <td>0</td>\n",
       "      <td>0</td>\n",
       "    </tr>\n",
       "    <tr>\n",
       "      <th>7</th>\n",
       "      <td>-0.546804</td>\n",
       "      <td>-0.158317</td>\n",
       "      <td>-0.259167</td>\n",
       "      <td>0.224709</td>\n",
       "      <td>-0.435308</td>\n",
       "      <td>29998</td>\n",
       "      <td>-0.886571</td>\n",
       "      <td>-0.86288</td>\n",
       "      <td>-0.800847</td>\n",
       "      <td>1.965765</td>\n",
       "      <td>-0.724186</td>\n",
       "      <td>2.197887</td>\n",
       "      <td>1.881320</td>\n",
       "      <td>1</td>\n",
       "      <td>0</td>\n",
       "      <td>0</td>\n",
       "      <td>1</td>\n",
       "      <td>0</td>\n",
       "      <td>0</td>\n",
       "      <td>0</td>\n",
       "      <td>0</td>\n",
       "      <td>0</td>\n",
       "      <td>0</td>\n",
       "      <td>0</td>\n",
       "      <td>0</td>\n",
       "      <td>0</td>\n",
       "      <td>0</td>\n",
       "      <td>0</td>\n",
       "      <td>0</td>\n",
       "      <td>0</td>\n",
       "      <td>0</td>\n",
       "      <td>0</td>\n",
       "      <td>0</td>\n",
       "      <td>0</td>\n",
       "      <td>0</td>\n",
       "      <td>0</td>\n",
       "      <td>0</td>\n",
       "      <td>0</td>\n",
       "      <td>0</td>\n",
       "      <td>0</td>\n",
       "      <td>0</td>\n",
       "      <td>0</td>\n",
       "      <td>1</td>\n",
       "      <td>0</td>\n",
       "      <td>0</td>\n",
       "      <td>0</td>\n",
       "      <td>0</td>\n",
       "      <td>0</td>\n",
       "      <td>0</td>\n",
       "      <td>0</td>\n",
       "      <td>0</td>\n",
       "      <td>0</td>\n",
       "      <td>0</td>\n",
       "      <td>0</td>\n",
       "      <td>0</td>\n",
       "      <td>0</td>\n",
       "      <td>0</td>\n",
       "      <td>0</td>\n",
       "      <td>0</td>\n",
       "      <td>0</td>\n",
       "      <td>0</td>\n",
       "      <td>0</td>\n",
       "      <td>0</td>\n",
       "      <td>0</td>\n",
       "      <td>0</td>\n",
       "      <td>0</td>\n",
       "      <td>0</td>\n",
       "      <td>0</td>\n",
       "      <td>0</td>\n",
       "      <td>0</td>\n",
       "      <td>0</td>\n",
       "      <td>0</td>\n",
       "      <td>0</td>\n",
       "      <td>0</td>\n",
       "      <td>0</td>\n",
       "      <td>0</td>\n",
       "      <td>0</td>\n",
       "      <td>0</td>\n",
       "      <td>0</td>\n",
       "      <td>0</td>\n",
       "      <td>0</td>\n",
       "      <td>0</td>\n",
       "      <td>0</td>\n",
       "      <td>0</td>\n",
       "      <td>0</td>\n",
       "      <td>0</td>\n",
       "      <td>0</td>\n",
       "      <td>0</td>\n",
       "      <td>0</td>\n",
       "      <td>0</td>\n",
       "      <td>0</td>\n",
       "      <td>1</td>\n",
       "      <td>0</td>\n",
       "      <td>0</td>\n",
       "    </tr>\n",
       "    <tr>\n",
       "      <th>8</th>\n",
       "      <td>-1.050013</td>\n",
       "      <td>-0.158317</td>\n",
       "      <td>0.483265</td>\n",
       "      <td>0.224709</td>\n",
       "      <td>-0.435308</td>\n",
       "      <td>36998</td>\n",
       "      <td>-0.886571</td>\n",
       "      <td>-0.86288</td>\n",
       "      <td>-0.800847</td>\n",
       "      <td>1.965765</td>\n",
       "      <td>-0.724186</td>\n",
       "      <td>2.099822</td>\n",
       "      <td>2.003477</td>\n",
       "      <td>1</td>\n",
       "      <td>0</td>\n",
       "      <td>0</td>\n",
       "      <td>1</td>\n",
       "      <td>0</td>\n",
       "      <td>0</td>\n",
       "      <td>0</td>\n",
       "      <td>0</td>\n",
       "      <td>0</td>\n",
       "      <td>0</td>\n",
       "      <td>0</td>\n",
       "      <td>0</td>\n",
       "      <td>0</td>\n",
       "      <td>0</td>\n",
       "      <td>0</td>\n",
       "      <td>0</td>\n",
       "      <td>0</td>\n",
       "      <td>0</td>\n",
       "      <td>0</td>\n",
       "      <td>0</td>\n",
       "      <td>0</td>\n",
       "      <td>0</td>\n",
       "      <td>0</td>\n",
       "      <td>0</td>\n",
       "      <td>0</td>\n",
       "      <td>0</td>\n",
       "      <td>0</td>\n",
       "      <td>0</td>\n",
       "      <td>0</td>\n",
       "      <td>1</td>\n",
       "      <td>0</td>\n",
       "      <td>0</td>\n",
       "      <td>0</td>\n",
       "      <td>0</td>\n",
       "      <td>0</td>\n",
       "      <td>0</td>\n",
       "      <td>0</td>\n",
       "      <td>0</td>\n",
       "      <td>0</td>\n",
       "      <td>0</td>\n",
       "      <td>0</td>\n",
       "      <td>0</td>\n",
       "      <td>0</td>\n",
       "      <td>0</td>\n",
       "      <td>0</td>\n",
       "      <td>0</td>\n",
       "      <td>0</td>\n",
       "      <td>0</td>\n",
       "      <td>0</td>\n",
       "      <td>0</td>\n",
       "      <td>0</td>\n",
       "      <td>0</td>\n",
       "      <td>0</td>\n",
       "      <td>0</td>\n",
       "      <td>0</td>\n",
       "      <td>0</td>\n",
       "      <td>0</td>\n",
       "      <td>0</td>\n",
       "      <td>0</td>\n",
       "      <td>0</td>\n",
       "      <td>0</td>\n",
       "      <td>0</td>\n",
       "      <td>0</td>\n",
       "      <td>0</td>\n",
       "      <td>0</td>\n",
       "      <td>0</td>\n",
       "      <td>0</td>\n",
       "      <td>0</td>\n",
       "      <td>0</td>\n",
       "      <td>0</td>\n",
       "      <td>0</td>\n",
       "      <td>0</td>\n",
       "      <td>0</td>\n",
       "      <td>0</td>\n",
       "      <td>0</td>\n",
       "      <td>0</td>\n",
       "      <td>0</td>\n",
       "      <td>0</td>\n",
       "      <td>0</td>\n",
       "      <td>0</td>\n",
       "      <td>0</td>\n",
       "    </tr>\n",
       "    <tr>\n",
       "      <th>9</th>\n",
       "      <td>-0.613899</td>\n",
       "      <td>-0.158317</td>\n",
       "      <td>-0.259167</td>\n",
       "      <td>1.579208</td>\n",
       "      <td>-0.435308</td>\n",
       "      <td>28998</td>\n",
       "      <td>-0.886571</td>\n",
       "      <td>-0.86288</td>\n",
       "      <td>-0.800847</td>\n",
       "      <td>1.965765</td>\n",
       "      <td>-0.724186</td>\n",
       "      <td>2.197887</td>\n",
       "      <td>1.881320</td>\n",
       "      <td>1</td>\n",
       "      <td>0</td>\n",
       "      <td>0</td>\n",
       "      <td>1</td>\n",
       "      <td>0</td>\n",
       "      <td>0</td>\n",
       "      <td>0</td>\n",
       "      <td>0</td>\n",
       "      <td>0</td>\n",
       "      <td>0</td>\n",
       "      <td>0</td>\n",
       "      <td>0</td>\n",
       "      <td>0</td>\n",
       "      <td>0</td>\n",
       "      <td>0</td>\n",
       "      <td>0</td>\n",
       "      <td>0</td>\n",
       "      <td>0</td>\n",
       "      <td>0</td>\n",
       "      <td>0</td>\n",
       "      <td>0</td>\n",
       "      <td>0</td>\n",
       "      <td>0</td>\n",
       "      <td>0</td>\n",
       "      <td>0</td>\n",
       "      <td>0</td>\n",
       "      <td>0</td>\n",
       "      <td>0</td>\n",
       "      <td>0</td>\n",
       "      <td>1</td>\n",
       "      <td>0</td>\n",
       "      <td>0</td>\n",
       "      <td>0</td>\n",
       "      <td>0</td>\n",
       "      <td>0</td>\n",
       "      <td>0</td>\n",
       "      <td>0</td>\n",
       "      <td>0</td>\n",
       "      <td>0</td>\n",
       "      <td>0</td>\n",
       "      <td>0</td>\n",
       "      <td>0</td>\n",
       "      <td>0</td>\n",
       "      <td>0</td>\n",
       "      <td>0</td>\n",
       "      <td>0</td>\n",
       "      <td>0</td>\n",
       "      <td>0</td>\n",
       "      <td>0</td>\n",
       "      <td>0</td>\n",
       "      <td>0</td>\n",
       "      <td>0</td>\n",
       "      <td>0</td>\n",
       "      <td>0</td>\n",
       "      <td>0</td>\n",
       "      <td>0</td>\n",
       "      <td>0</td>\n",
       "      <td>0</td>\n",
       "      <td>0</td>\n",
       "      <td>0</td>\n",
       "      <td>0</td>\n",
       "      <td>0</td>\n",
       "      <td>0</td>\n",
       "      <td>0</td>\n",
       "      <td>0</td>\n",
       "      <td>0</td>\n",
       "      <td>0</td>\n",
       "      <td>0</td>\n",
       "      <td>0</td>\n",
       "      <td>0</td>\n",
       "      <td>0</td>\n",
       "      <td>0</td>\n",
       "      <td>0</td>\n",
       "      <td>0</td>\n",
       "      <td>0</td>\n",
       "      <td>0</td>\n",
       "      <td>0</td>\n",
       "      <td>0</td>\n",
       "      <td>0</td>\n",
       "      <td>0</td>\n",
       "      <td>0</td>\n",
       "    </tr>\n",
       "  </tbody>\n",
       "</table>\n",
       "</div>"
      ],
      "text/plain": [
       "   Milleage  horsepower      year  Exterior Color  Passenger Capacity  Price  \\\n",
       "0 -1.117107   -0.158317  0.483265        1.579208           -0.435308  37998   \n",
       "1  1.734407   -0.414865 -1.001599       -0.452540           -0.435308  21998   \n",
       "2 -0.177785   -0.158317 -0.259167       -1.129789           -0.435308  28998   \n",
       "3 -0.412615   -0.158317  0.854482       -0.452540           -0.435308  29998   \n",
       "4 -0.848729   -0.158317  0.854482        1.579208           -0.435308  36998   \n",
       "5 -1.284843   -0.158317  1.225698        0.224709           -0.435308  37998   \n",
       "6 -0.647446   -0.158317  0.854482       -0.452540           -0.435308  30998   \n",
       "7 -0.546804   -0.158317 -0.259167        0.224709           -0.435308  29998   \n",
       "8 -1.050013   -0.158317  0.483265        0.224709           -0.435308  36998   \n",
       "9 -0.613899   -0.158317 -0.259167        1.579208           -0.435308  28998   \n",
       "\n",
       "   No. of Axle  Axle Type  Cylinder  Gas Type    Litres      MPG1      MPG2  \\\n",
       "0    -0.886571   -0.86288 -0.800847  1.965765 -0.724186  2.099822  2.003477   \n",
       "1    -0.886571   -0.86288 -0.800847  1.965765 -0.724186  2.295953  1.637008   \n",
       "2    -0.886571   -0.86288 -0.800847  1.965765 -0.724186  2.197887  1.881320   \n",
       "3    -0.886571   -0.86288 -0.800847  1.965765 -0.724186  2.099822  1.881320   \n",
       "4    -0.886571   -0.86288 -0.800847  1.965765 -0.724186  2.099822  1.881320   \n",
       "5    -0.886571   -0.86288 -0.800847  1.965765 -0.724186  2.099822  2.003477   \n",
       "6    -0.886571   -0.86288 -0.800847  1.965765 -0.724186  2.099822  1.881320   \n",
       "7    -0.886571   -0.86288 -0.800847  1.965765 -0.724186  2.197887  1.881320   \n",
       "8    -0.886571   -0.86288 -0.800847  1.965765 -0.724186  2.099822  2.003477   \n",
       "9    -0.886571   -0.86288 -0.800847  1.965765 -0.724186  2.197887  1.881320   \n",
       "\n",
       "   Brand_Honda  Brand_Toyota  Model_Type1_4Runner  Model_Type1_Accord  \\\n",
       "0            1             0                    0                   1   \n",
       "1            1             0                    0                   1   \n",
       "2            1             0                    0                   1   \n",
       "3            1             0                    0                   1   \n",
       "4            1             0                    0                   1   \n",
       "5            1             0                    0                   1   \n",
       "6            1             0                    0                   1   \n",
       "7            1             0                    0                   1   \n",
       "8            1             0                    0                   1   \n",
       "9            1             0                    0                   1   \n",
       "\n",
       "   Model_Type1_CR-V  Model_Type1_Camry  Model_Type1_Civic  \\\n",
       "0                 0                  0                  0   \n",
       "1                 0                  0                  0   \n",
       "2                 0                  0                  0   \n",
       "3                 0                  0                  0   \n",
       "4                 0                  0                  0   \n",
       "5                 0                  0                  0   \n",
       "6                 0                  0                  0   \n",
       "7                 0                  0                  0   \n",
       "8                 0                  0                  0   \n",
       "9                 0                  0                  0   \n",
       "\n",
       "   Model_Type1_Corolla  Model_Type1_Fit  Model_Type1_HR-V  \\\n",
       "0                    0                0                 0   \n",
       "1                    0                0                 0   \n",
       "2                    0                0                 0   \n",
       "3                    0                0                 0   \n",
       "4                    0                0                 0   \n",
       "5                    0                0                 0   \n",
       "6                    0                0                 0   \n",
       "7                    0                0                 0   \n",
       "8                    0                0                 0   \n",
       "9                    0                0                 0   \n",
       "\n",
       "   Model_Type1_Highlander  Model_Type1_Hybrid  Model_Type1_Odyssey  \\\n",
       "0                       0                   0                    0   \n",
       "1                       0                   0                    0   \n",
       "2                       0                   0                    0   \n",
       "3                       0                   0                    0   \n",
       "4                       0                   0                    0   \n",
       "5                       0                   0                    0   \n",
       "6                       0                   0                    0   \n",
       "7                       0                   0                    0   \n",
       "8                       0                   0                    0   \n",
       "9                       0                   0                    0   \n",
       "\n",
       "   Model_Type1_Passport  Model_Type1_Prius  Model_Type1_RAV4  \\\n",
       "0                     0                  0                 0   \n",
       "1                     0                  0                 0   \n",
       "2                     0                  0                 0   \n",
       "3                     0                  0                 0   \n",
       "4                     0                  0                 0   \n",
       "5                     0                  0                 0   \n",
       "6                     0                  0                 0   \n",
       "7                     0                  0                 0   \n",
       "8                     0                  0                 0   \n",
       "9                     0                  0                 0   \n",
       "\n",
       "   Model_Type1_RidgeLine  Model_Type1_Sienna  Model_Type1_Tacoma  \\\n",
       "0                      0                   0                   0   \n",
       "1                      0                   0                   0   \n",
       "2                      0                   0                   0   \n",
       "3                      0                   0                   0   \n",
       "4                      0                   0                   0   \n",
       "5                      0                   0                   0   \n",
       "6                      0                   0                   0   \n",
       "7                      0                   0                   0   \n",
       "8                      0                   0                   0   \n",
       "9                      0                   0                   0   \n",
       "\n",
       "   Model_Type1_Tundra  Model_Type3_1794  Model_Type3_Adventure  \\\n",
       "0                   0                 0                      0   \n",
       "1                   0                 0                      0   \n",
       "2                   0                 0                      0   \n",
       "3                   0                 0                      0   \n",
       "4                   0                 0                      0   \n",
       "5                   0                 0                      0   \n",
       "6                   0                 0                      0   \n",
       "7                   0                 0                      0   \n",
       "8                   0                 0                      0   \n",
       "9                   0                 0                      0   \n",
       "\n",
       "   Model_Type3_Black  Model_Type3_CrossTour  Model_Type3_ELITE  \\\n",
       "0                  0                      0                  0   \n",
       "1                  0                      0                  0   \n",
       "2                  0                      0                  0   \n",
       "3                  0                      0                  0   \n",
       "4                  0                      0                  0   \n",
       "5                  0                      0                  0   \n",
       "6                  0                      0                  0   \n",
       "7                  0                      0                  0   \n",
       "8                  0                      0                  0   \n",
       "9                  0                      0                  0   \n",
       "\n",
       "   Model_Type3_EX  Model_Type3_EX-L  Model_Type3_EX-T  Model_Type3_Four  \\\n",
       "0               0                 0                 0                 0   \n",
       "1               0                 0                 0                 0   \n",
       "2               0                 0                 0                 0   \n",
       "3               0                 0                 0                 0   \n",
       "4               0                 0                 0                 0   \n",
       "5               0                 0                 0                 0   \n",
       "6               0                 0                 0                 0   \n",
       "7               0                 0                 0                 0   \n",
       "8               0                 0                 0                 0   \n",
       "9               0                 0                 0                 0   \n",
       "\n",
       "   Model_Type3_Hybrid  Model_Type3_L  Model_Type3_LE  Model_Type3_LIMITED  \\\n",
       "0                   1              0               0                    0   \n",
       "1                   1              0               0                    0   \n",
       "2                   1              0               0                    0   \n",
       "3                   1              0               0                    0   \n",
       "4                   1              0               0                    0   \n",
       "5                   1              0               0                    0   \n",
       "6                   1              0               0                    0   \n",
       "7                   1              0               0                    0   \n",
       "8                   1              0               0                    0   \n",
       "9                   1              0               0                    0   \n",
       "\n",
       "   Model_Type3_LX  Model_Type3_Limited  Model_Type3_Night  \\\n",
       "0               0                    0                  0   \n",
       "1               0                    0                  0   \n",
       "2               0                    0                  0   \n",
       "3               0                    0                  0   \n",
       "4               0                    0                  0   \n",
       "5               0                    0                  0   \n",
       "6               0                    0                  0   \n",
       "7               0                    0                  0   \n",
       "8               0                    0                  0   \n",
       "9               0                    0                  0   \n",
       "\n",
       "   Model_Type3_Platinum  Model_Type3_Prerunner  Model_Type3_RTL  \\\n",
       "0                     0                      0                0   \n",
       "1                     0                      0                0   \n",
       "2                     0                      0                0   \n",
       "3                     0                      0                0   \n",
       "4                     0                      0                0   \n",
       "5                     0                      0                0   \n",
       "6                     0                      0                0   \n",
       "7                     0                      0                0   \n",
       "8                     0                      0                0   \n",
       "9                     0                      0                0   \n",
       "\n",
       "   Model_Type3_RTL-E  Model_Type3_RTL-T  Model_Type3_RTS  Model_Type3_S  \\\n",
       "0                  0                  0                0              0   \n",
       "1                  0                  0                0              0   \n",
       "2                  0                  0                0              0   \n",
       "3                  0                  0                0              0   \n",
       "4                  0                  0                0              0   \n",
       "5                  0                  0                0              0   \n",
       "6                  0                  0                0              0   \n",
       "7                  0                  0                0              0   \n",
       "8                  0                  0                0              0   \n",
       "9                  0                  0                0              0   \n",
       "\n",
       "   Model_Type3_SE  Model_Type3_SI  Model_Type3_SR  Model_Type3_SR5  \\\n",
       "0               0               0               0                0   \n",
       "1               0               0               0                0   \n",
       "2               0               0               0                0   \n",
       "3               0               0               0                0   \n",
       "4               0               0               0                0   \n",
       "5               0               0               0                0   \n",
       "6               0               0               0                0   \n",
       "7               0               0               0                0   \n",
       "8               0               0               0                0   \n",
       "9               0               0               0                0   \n",
       "\n",
       "   Model_Type3_Sport  Model_Type3_TRD  Model_Type3_Three  Model_Type3_Touring  \\\n",
       "0                  0                0                  0                    0   \n",
       "1                  0                0                  0                    0   \n",
       "2                  0                0                  0                    0   \n",
       "3                  0                0                  0                    0   \n",
       "4                  0                0                  0                    0   \n",
       "5                  0                0                  0                    0   \n",
       "6                  0                0                  0                    0   \n",
       "7                  0                0                  0                    0   \n",
       "8                  0                0                  0                    0   \n",
       "9                  0                0                  0                    0   \n",
       "\n",
       "   Model_Type3_Touringh  Model_Type3_Two  Model_Type3_Type-R  \\\n",
       "0                     0                0                   0   \n",
       "1                     0                0                   0   \n",
       "2                     0                0                   0   \n",
       "3                     0                0                   0   \n",
       "4                     0                0                   0   \n",
       "5                     0                0                   0   \n",
       "6                     0                0                   0   \n",
       "7                     0                0                   0   \n",
       "8                     0                0                   0   \n",
       "9                     0                0                   0   \n",
       "\n",
       "   Model_Type3_Venture  Model_Type3_XLE  Model_Type3_XSE  Model_Type4_  \\\n",
       "0                    0                0                0             0   \n",
       "1                    0                0                0             0   \n",
       "2                    0                0                0             0   \n",
       "3                    0                0                0             0   \n",
       "4                    0                0                0             0   \n",
       "5                    0                0                0             0   \n",
       "6                    0                0                0             0   \n",
       "7                    0                0                0             0   \n",
       "8                    0                0                0             0   \n",
       "9                    0                0                0             0   \n",
       "\n",
       "   Model_Type4_ELITE  Model_Type4_EX  Model_Type4_EX-L  Model_Type4_Eco  \\\n",
       "0                  0               0                 0                0   \n",
       "1                  0               0                 1                0   \n",
       "2                  0               0                 1                0   \n",
       "3                  0               0                 0                0   \n",
       "4                  0               0                 0                0   \n",
       "5                  0               0                 1                0   \n",
       "6                  0               0                 0                0   \n",
       "7                  0               0                 0                0   \n",
       "8                  0               0                 0                0   \n",
       "9                  0               0                 0                0   \n",
       "\n",
       "   Model_Type4_Edition  Model_Type4_LE  Model_Type4_LIMITED  Model_Type4_LX  \\\n",
       "0                    0               0                    0               0   \n",
       "1                    0               0                    0               0   \n",
       "2                    0               0                    0               0   \n",
       "3                    0               0                    0               0   \n",
       "4                    0               0                    0               0   \n",
       "5                    0               0                    0               0   \n",
       "6                    0               0                    0               0   \n",
       "7                    0               0                    0               0   \n",
       "8                    0               0                    0               0   \n",
       "9                    0               0                    0               0   \n",
       "\n",
       "   Model_Type4_Limited Platinum  Model_Type4_Night Shade  \\\n",
       "0                             0                        0   \n",
       "1                             0                        0   \n",
       "2                             0                        0   \n",
       "3                             0                        0   \n",
       "4                             0                        0   \n",
       "5                             0                        0   \n",
       "6                             0                        0   \n",
       "7                             0                        0   \n",
       "8                             0                        0   \n",
       "9                             0                        0   \n",
       "\n",
       "   Model_Type4_Off Road  Model_Type4_Off Road   Model_Type4_Off Road Premium  \\\n",
       "0                     0                      0                             0   \n",
       "1                     0                      0                             0   \n",
       "2                     0                      0                             0   \n",
       "3                     0                      0                             0   \n",
       "4                     0                      0                             0   \n",
       "5                     0                      0                             0   \n",
       "6                     0                      0                             0   \n",
       "7                     0                      0                             0   \n",
       "8                     0                      0                             0   \n",
       "9                     0                      0                             0   \n",
       "\n",
       "   Model_Type4_Platinum  Model_Type4_Plus  Model_Type4_Premium  \\\n",
       "0                     0                 0                    0   \n",
       "1                     0                 0                    0   \n",
       "2                     0                 0                    0   \n",
       "3                     0                 0                    0   \n",
       "4                     0                 0                    0   \n",
       "5                     0                 0                    0   \n",
       "6                     0                 0                    0   \n",
       "7                     0                 0                    0   \n",
       "8                     0                 0                    0   \n",
       "9                     0                 0                    0   \n",
       "\n",
       "   Model_Type4_Pro  Model_Type4_SPORT  Model_Type4_Shade  Model_Type4_Sport  \\\n",
       "0                0                  0                  0                  0   \n",
       "1                0                  0                  0                  0   \n",
       "2                0                  0                  0                  0   \n",
       "3                0                  0                  0                  0   \n",
       "4                0                  0                  0                  0   \n",
       "5                0                  0                  0                  0   \n",
       "6                0                  0                  0                  0   \n",
       "7                0                  0                  0                  0   \n",
       "8                0                  0                  0                  0   \n",
       "9                0                  0                  0                  0   \n",
       "\n",
       "   Model_Type4_Touring  Model_Type4_XLE  Model_Type4_pro  \n",
       "0                    1                0                0  \n",
       "1                    0                0                0  \n",
       "2                    0                0                0  \n",
       "3                    0                0                0  \n",
       "4                    1                0                0  \n",
       "5                    0                0                0  \n",
       "6                    0                0                0  \n",
       "7                    1                0                0  \n",
       "8                    0                0                0  \n",
       "9                    0                0                0  "
      ]
     },
     "execution_count": 85,
     "metadata": {},
     "output_type": "execute_result"
    }
   ],
   "source": [
    "data8.head(10)"
   ]
  },
  {
   "cell_type": "code",
   "execution_count": 86,
   "id": "c12d432c",
   "metadata": {
    "id": "c12d432c"
   },
   "outputs": [],
   "source": [
    "#MinMax Scaler\n",
    "#data8[['Milleage','horsepower', 'year', 'Passenger Capacity', 'MPG1', 'MPG2', 'No. of Axle', 'Litres', 'Cylinder']] = MinMaxScaler().fit_transform(data8[['Milleage','horsepower', 'year', 'Passenger Capacity', 'MPG1', 'MPG2', 'No. of Axle', 'Litres', 'Cylinder']])"
   ]
  },
  {
   "cell_type": "code",
   "execution_count": 87,
   "id": "2f19209c",
   "metadata": {
    "id": "2f19209c"
   },
   "outputs": [],
   "source": [
    "mae_lst = []\n",
    "mse_lst = []\n",
    "rmse_lst = []\n",
    "r2_lst = []\n",
    "cross_val = []"
   ]
  },
  {
   "cell_type": "code",
   "execution_count": 88,
   "id": "cbc74b97",
   "metadata": {
    "id": "cbc74b97"
   },
   "outputs": [],
   "source": [
    "X = data8.drop(['Price'],axis=1).values\n",
    "y = data8['Price'].values"
   ]
  },
  {
   "cell_type": "code",
   "execution_count": 89,
   "id": "f1340927",
   "metadata": {
    "id": "f1340927"
   },
   "outputs": [],
   "source": [
    "X_train, X_test, y_train, y_test = train_test_split(X, y, test_size=0.2, random_state=2)"
   ]
  },
  {
   "cell_type": "markdown",
   "id": "XTWJSUZaVGXB",
   "metadata": {
    "id": "XTWJSUZaVGXB"
   },
   "source": [
    "# Evaluation Metric\n",
    "\n",
    "---"
   ]
  },
  {
   "cell_type": "code",
   "execution_count": 90,
   "id": "eb216943",
   "metadata": {
    "id": "eb216943"
   },
   "outputs": [],
   "source": [
    "def evaluation_abs_error(y_test, predictions):\n",
    "    return metrics.mean_absolute_error(y_test, predictions)\n",
    "\n",
    "def evaluation_mean_squared_error(y_test, predictions):\n",
    "    return metrics.mean_squared_error(y_test, predictions)\n",
    "\n",
    "def evaluation_root_mean_squared_error(y_test, predictions):\n",
    "    return np.sqrt(metrics.mean_squared_error(y_test, predictions))\n",
    "\n",
    "def evaluation_r2_score_error(y_test, predictions):\n",
    "    return metrics.r2_score(y_test, predictions)\n"
   ]
  },
  {
   "cell_type": "code",
   "execution_count": 91,
   "id": "70c980cd",
   "metadata": {
    "id": "70c980cd"
   },
   "outputs": [],
   "source": [
    "def evaluate(y_test, predictions):    \n",
    "    mae = evaluation_abs_error(y_test, predictions)            \n",
    "    mse = evaluation_mean_squared_error(y_test, predictions)    \n",
    "    rmse = evaluation_root_mean_squared_error(y_test, predictions)\n",
    "    r2 = evaluation_r2_score_error(y_test, predictions)\n",
    "\n",
    "    print('MAE: ', mae)\n",
    "    print('MSE: ', mse)\n",
    "    print('RMSE: ', rmse)\n",
    "    print('R2: ', r2)\n",
    "    \n",
    "    mae_lst.append(mae)\n",
    "    mse_lst.append(mse)\n",
    "    rmse_lst.append(rmse)\n",
    "    r2_lst.append(r2)    "
   ]
  },
  {
   "cell_type": "markdown",
   "id": "sHPY-eitQn-C",
   "metadata": {
    "id": "sHPY-eitQn-C"
   },
   "source": [
    "# Linear Regression (Our base model)\n",
    "\n",
    "---\n",
    "\n",
    "This model performs very poorly as its the simplest regression model."
   ]
  },
  {
   "cell_type": "code",
   "execution_count": 92,
   "id": "ab58f2f0",
   "metadata": {
    "id": "ab58f2f0"
   },
   "outputs": [],
   "source": [
    "lm = LinearRegression() "
   ]
  },
  {
   "cell_type": "code",
   "execution_count": 93,
   "id": "a5c6a9de",
   "metadata": {
    "colab": {
     "base_uri": "https://localhost:8080/"
    },
    "id": "a5c6a9de",
    "outputId": "037ba9ef-9c50-4d69-e935-a737ef3b1d86"
   },
   "outputs": [
    {
     "data": {
      "text/plain": [
       "LinearRegression()"
      ]
     },
     "execution_count": 93,
     "metadata": {},
     "output_type": "execute_result"
    }
   ],
   "source": [
    "lm.fit(X_train,y_train) "
   ]
  },
  {
   "cell_type": "code",
   "execution_count": 94,
   "id": "b48ae173",
   "metadata": {
    "id": "b48ae173"
   },
   "outputs": [],
   "source": [
    "lm_predictions = lm.predict(X_test)"
   ]
  },
  {
   "cell_type": "code",
   "execution_count": 95,
   "id": "c4ebd3ad",
   "metadata": {
    "colab": {
     "base_uri": "https://localhost:8080/"
    },
    "id": "c4ebd3ad",
    "outputId": "a645e76f-566e-42d8-be86-6ce9f8e73f04",
    "scrolled": true
   },
   "outputs": [
    {
     "name": "stdout",
     "output_type": "stream",
     "text": [
      "MAE:  419711681523261.7\n",
      "MSE:  1.5325732959038366e+31\n",
      "RMSE:  3914809440961126.5\n",
      "R2:  -1.8171524830184876e+23\n"
     ]
    }
   ],
   "source": [
    "evaluate(y_test, lm_predictions)"
   ]
  },
  {
   "cell_type": "code",
   "execution_count": 96,
   "id": "4d1d0ff0",
   "metadata": {
    "colab": {
     "base_uri": "https://localhost:8080/"
    },
    "id": "4d1d0ff0",
    "outputId": "0ab9ddc1-e906-47c8-c452-25bd8d754314"
   },
   "outputs": [
    {
     "name": "stdout",
     "output_type": "stream",
     "text": [
      "-5.231041977133256e+25\n"
     ]
    }
   ],
   "source": [
    "val = np.average(cross_val_score(lm, X, y,cv=4))\n",
    "cross_val.append(val)\n",
    "print(val)"
   ]
  },
  {
   "cell_type": "markdown",
   "id": "aa079c10",
   "metadata": {
    "id": "aa079c10"
   },
   "source": [
    "# RandomForest Regressor\n",
    "\n",
    "---\n",
    "\n",
    "This model has the highest accuracy as the prediction is made by averaging each of the predictions of the each tree of forest.\n",
    "\n"
   ]
  },
  {
   "cell_type": "markdown",
   "id": "nRTMYUNlhtA6",
   "metadata": {
    "id": "nRTMYUNlhtA6"
   },
   "source": []
  },
  {
   "cell_type": "code",
   "execution_count": 97,
   "id": "713d4742",
   "metadata": {
    "id": "713d4742"
   },
   "outputs": [],
   "source": [
    "random_forest = RandomForestRegressor(random_state=11)"
   ]
  },
  {
   "cell_type": "code",
   "execution_count": 98,
   "id": "e0b971b5",
   "metadata": {
    "colab": {
     "base_uri": "https://localhost:8080/"
    },
    "id": "e0b971b5",
    "outputId": "e326b1db-f0c1-4a54-90fc-31cff1749604"
   },
   "outputs": [
    {
     "data": {
      "text/plain": [
       "RandomForestRegressor(random_state=11)"
      ]
     },
     "execution_count": 98,
     "metadata": {},
     "output_type": "execute_result"
    }
   ],
   "source": [
    "random_forest.fit(X,y)"
   ]
  },
  {
   "cell_type": "code",
   "execution_count": 99,
   "id": "7964d7a6",
   "metadata": {
    "id": "7964d7a6"
   },
   "outputs": [],
   "source": [
    "rf_predictions = random_forest.predict(X_test)"
   ]
  },
  {
   "cell_type": "code",
   "execution_count": 100,
   "id": "971777a0",
   "metadata": {
    "colab": {
     "base_uri": "https://localhost:8080/"
    },
    "id": "971777a0",
    "outputId": "bcbbd64a-44b4-45a8-f4a9-62fc19d8de03",
    "scrolled": true
   },
   "outputs": [
    {
     "name": "stdout",
     "output_type": "stream",
     "text": [
      "MAE:  876.9464750957854\n",
      "MSE:  1637363.3326215837\n",
      "RMSE:  1279.594987729158\n",
      "R2:  0.9805859931565489\n"
     ]
    }
   ],
   "source": [
    "evaluate(y_test, rf_predictions)"
   ]
  },
  {
   "cell_type": "code",
   "execution_count": 101,
   "id": "0aff5023",
   "metadata": {
    "colab": {
     "base_uri": "https://localhost:8080/"
    },
    "id": "0aff5023",
    "outputId": "5ce0646a-c161-48ca-dba2-d675d8e311e7"
   },
   "outputs": [
    {
     "name": "stdout",
     "output_type": "stream",
     "text": [
      "0.7352543883987557\n"
     ]
    }
   ],
   "source": [
    "val = np.average(cross_val_score(random_forest, X, y,cv=4))\n",
    "cross_val.append(val)\n",
    "print(val)"
   ]
  },
  {
   "cell_type": "markdown",
   "id": "eb24822b",
   "metadata": {
    "id": "eb24822b"
   },
   "source": [
    "# Decision Tree\n",
    "\n",
    "---\n",
    "Poor Resolution on Data With Complex Relationships Among the Variables. \n",
    "example: complex relation between price and drive type."
   ]
  },
  {
   "cell_type": "code",
   "execution_count": 102,
   "id": "f6aa2b4b",
   "metadata": {
    "colab": {
     "base_uri": "https://localhost:8080/"
    },
    "id": "f6aa2b4b",
    "outputId": "6c395497-6ed3-4637-dcae-96307f811023"
   },
   "outputs": [
    {
     "data": {
      "text/plain": [
       "DecisionTreeRegressor(random_state=0)"
      ]
     },
     "execution_count": 102,
     "metadata": {},
     "output_type": "execute_result"
    }
   ],
   "source": [
    "decision_tree = DecisionTreeRegressor(random_state=0)\n",
    "decision_tree.fit(X_train, y_train)"
   ]
  },
  {
   "cell_type": "code",
   "execution_count": 103,
   "id": "7814a625",
   "metadata": {
    "id": "7814a625"
   },
   "outputs": [],
   "source": [
    "dt_predictions = decision_tree.predict(X_test)"
   ]
  },
  {
   "cell_type": "code",
   "execution_count": 104,
   "id": "252496a1",
   "metadata": {
    "colab": {
     "base_uri": "https://localhost:8080/"
    },
    "id": "252496a1",
    "outputId": "582190cd-e1a3-4523-91ec-649fbc999b9b"
   },
   "outputs": [
    {
     "name": "stdout",
     "output_type": "stream",
     "text": [
      "MAE:  3551.7241379310344\n",
      "MSE:  24379310.344827585\n",
      "RMSE:  4937.540920825628\n",
      "R2:  0.7109376468597853\n"
     ]
    }
   ],
   "source": [
    "evaluate(y_test, dt_predictions)"
   ]
  },
  {
   "cell_type": "code",
   "execution_count": 105,
   "id": "cec6955a",
   "metadata": {
    "colab": {
     "base_uri": "https://localhost:8080/"
    },
    "id": "cec6955a",
    "outputId": "671068e5-c7ed-48c4-9ba2-a9509a642808"
   },
   "outputs": [
    {
     "name": "stdout",
     "output_type": "stream",
     "text": [
      "0.5703429408313143\n"
     ]
    }
   ],
   "source": [
    "val = np.average(cross_val_score(decision_tree, X, y,cv=4))\n",
    "cross_val.append(val)\n",
    "print(val)"
   ]
  },
  {
   "cell_type": "markdown",
   "id": "0e3c46a2",
   "metadata": {
    "id": "0e3c46a2"
   },
   "source": [
    "# Bayesian Ridge\n",
    "\n",
    "---\n",
    "\n",
    "It performs well in cases of large multivariate data. As our final data contains 94 columns, so lots of multivariate data.\n",
    "\n"
   ]
  },
  {
   "cell_type": "code",
   "execution_count": 106,
   "id": "e2ee376e",
   "metadata": {
    "colab": {
     "base_uri": "https://localhost:8080/"
    },
    "id": "e2ee376e",
    "outputId": "cb29f31f-adf6-4cf0-a131-884e514f67ed"
   },
   "outputs": [
    {
     "data": {
      "text/plain": [
       "BayesianRidge()"
      ]
     },
     "execution_count": 106,
     "metadata": {},
     "output_type": "execute_result"
    }
   ],
   "source": [
    "bayesian_ridge = BayesianRidge()\n",
    "bayesian_ridge.fit(X_train, y_train)"
   ]
  },
  {
   "cell_type": "code",
   "execution_count": 107,
   "id": "a45d6e30",
   "metadata": {
    "id": "a45d6e30"
   },
   "outputs": [],
   "source": [
    "br_predictions = bayesian_ridge.predict(X_test)"
   ]
  },
  {
   "cell_type": "code",
   "execution_count": 108,
   "id": "9b6ee5ba",
   "metadata": {
    "colab": {
     "base_uri": "https://localhost:8080/"
    },
    "id": "9b6ee5ba",
    "outputId": "2d56096e-2c71-4cd5-862e-db6fa1946a74"
   },
   "outputs": [
    {
     "name": "stdout",
     "output_type": "stream",
     "text": [
      "MAE:  1709.0294568280806\n",
      "MSE:  4740035.841005917\n",
      "RMSE:  2177.162336851783\n",
      "R2:  0.9437980035206031\n"
     ]
    }
   ],
   "source": [
    "evaluate(y_test, br_predictions)"
   ]
  },
  {
   "cell_type": "code",
   "execution_count": 109,
   "id": "449b29f1",
   "metadata": {
    "colab": {
     "base_uri": "https://localhost:8080/"
    },
    "id": "449b29f1",
    "outputId": "47eb2a34-3bb3-435d-96d4-20bc1471b604"
   },
   "outputs": [
    {
     "name": "stdout",
     "output_type": "stream",
     "text": [
      "0.7978803419366356\n"
     ]
    }
   ],
   "source": [
    "val = np.average(cross_val_score(bayesian_ridge, X, y,cv=4))\n",
    "cross_val.append(val)\n",
    "print(val)"
   ]
  },
  {
   "cell_type": "markdown",
   "id": "ZjTmyWxKhL4L",
   "metadata": {
    "id": "ZjTmyWxKhL4L"
   },
   "source": [
    "# K Nearest Neighbours Regressor\n",
    "For our dataset which included majority points from others that's why could not perform that much good.\n"
   ]
  },
  {
   "cell_type": "code",
   "execution_count": 110,
   "id": "mKAbK_35_Sos",
   "metadata": {
    "id": "mKAbK_35_Sos"
   },
   "outputs": [],
   "source": [
    "knn_r = KNeighborsRegressor(n_neighbors=3)\n",
    "knn_r.fit(X_train, y_train)\n",
    "knn_r_predictions = knn_r.predict(X_test)"
   ]
  },
  {
   "cell_type": "code",
   "execution_count": 111,
   "id": "q30EnSkO_-SU",
   "metadata": {
    "colab": {
     "base_uri": "https://localhost:8080/"
    },
    "id": "q30EnSkO_-SU",
    "outputId": "ba10261f-b457-48e4-827f-f20de56da825"
   },
   "outputs": [
    {
     "name": "stdout",
     "output_type": "stream",
     "text": [
      "MAE:  2440.613026819924\n",
      "MSE:  11482758.620689657\n",
      "RMSE:  3388.621935343283\n",
      "R2:  0.8638504050980318\n"
     ]
    }
   ],
   "source": [
    "evaluate(y_test, knn_r_predictions)"
   ]
  },
  {
   "cell_type": "code",
   "execution_count": 112,
   "id": "uIY8a1x3AAd_",
   "metadata": {
    "colab": {
     "base_uri": "https://localhost:8080/"
    },
    "id": "uIY8a1x3AAd_",
    "outputId": "8ca25455-c23c-4c22-e140-57388bb008d3"
   },
   "outputs": [
    {
     "name": "stdout",
     "output_type": "stream",
     "text": [
      "0.6771017735366749\n"
     ]
    }
   ],
   "source": [
    "val = np.average(cross_val_score(knn_r, X, y,cv=4))\n",
    "cross_val.append(val)\n",
    "print(val)"
   ]
  },
  {
   "cell_type": "markdown",
   "id": "0Zz6OFw2hy5f",
   "metadata": {
    "id": "0Zz6OFw2hy5f"
   },
   "source": [
    "# Voting Regressor\n",
    "--------"
   ]
  },
  {
   "cell_type": "code",
   "execution_count": 113,
   "id": "f2f8d94c",
   "metadata": {
    "id": "f2f8d94c"
   },
   "outputs": [],
   "source": [
    "vreg = VotingRegressor([('Random Forest', random_forest), ('K Nearest Neighbour', knn_r),('Decision Tree',decision_tree),('Bayesian Ridge',bayesian_ridge)],weights=[0.60,0.15,0.05,0.20])"
   ]
  },
  {
   "cell_type": "code",
   "execution_count": 114,
   "id": "0317076e",
   "metadata": {
    "id": "0317076e"
   },
   "outputs": [],
   "source": [
    "voting_pred = vreg.fit(X_train, y_train).predict(X_test)"
   ]
  },
  {
   "cell_type": "code",
   "execution_count": 115,
   "id": "278dcff6",
   "metadata": {
    "colab": {
     "base_uri": "https://localhost:8080/"
    },
    "id": "278dcff6",
    "outputId": "c4ba06ea-3146-44c7-cd0f-af462bfdfd38"
   },
   "outputs": [
    {
     "name": "stdout",
     "output_type": "stream",
     "text": [
      "MAE:  2183.673033000283\n",
      "MSE:  8732433.272211172\n",
      "RMSE:  2955.0690807849437\n",
      "R2:  0.8964606596904487\n"
     ]
    }
   ],
   "source": [
    "evaluate(y_test, voting_pred)"
   ]
  },
  {
   "cell_type": "code",
   "execution_count": 116,
   "id": "8a845ee4",
   "metadata": {
    "colab": {
     "base_uri": "https://localhost:8080/"
    },
    "id": "8a845ee4",
    "outputId": "29171783-ff68-441f-9ee9-32ac9d704a15"
   },
   "outputs": [
    {
     "name": "stdout",
     "output_type": "stream",
     "text": [
      "0.7830198710055076\n"
     ]
    }
   ],
   "source": [
    "val = np.average(cross_val_score(vreg, X, y,cv=4))\n",
    "cross_val.append(val)\n",
    "print(val)"
   ]
  },
  {
   "cell_type": "markdown",
   "id": "xKBAy59Gh30l",
   "metadata": {
    "id": "xKBAy59Gh30l"
   },
   "source": [
    "# Performance Table"
   ]
  },
  {
   "cell_type": "code",
   "execution_count": 117,
   "id": "79628816",
   "metadata": {
    "id": "79628816"
   },
   "outputs": [],
   "source": [
    "data = []\n",
    "model_names = ['Linear Regression','Random Forest', 'Decision Tree', 'Bayesian Ridge', 'K Nearest Neighbour', 'Voting Regressor']\n",
    "for i in range(0,6,1):    \n",
    "    data.append([model_names[i],format(mae_lst[i], '.4f'),format(mse_lst[i], '.4f'),format(rmse_lst[i], '.4f'),  format(r2_lst[i], '.4f') , format(cross_val[i], '.4f')])"
   ]
  },
  {
   "cell_type": "code",
   "execution_count": 118,
   "id": "a24ff145",
   "metadata": {
    "id": "a24ff145"
   },
   "outputs": [],
   "source": [
    "model_eval = pd.DataFrame(data, columns = ['Name', 'Mean Absolute Error', 'Mean Square Error', 'Root Mean Square Error', 'R2 Score', 'Cross Validation Score'])"
   ]
  },
  {
   "cell_type": "code",
   "execution_count": 119,
   "id": "e5a50ba9",
   "metadata": {
    "colab": {
     "base_uri": "https://localhost:8080/",
     "height": 237
    },
    "id": "e5a50ba9",
    "outputId": "a444a804-42cc-493e-9ee3-43d32941ea6e"
   },
   "outputs": [
    {
     "data": {
      "text/html": [
       "<div>\n",
       "<style scoped>\n",
       "    .dataframe tbody tr th:only-of-type {\n",
       "        vertical-align: middle;\n",
       "    }\n",
       "\n",
       "    .dataframe tbody tr th {\n",
       "        vertical-align: top;\n",
       "    }\n",
       "\n",
       "    .dataframe thead th {\n",
       "        text-align: right;\n",
       "    }\n",
       "</style>\n",
       "<table border=\"1\" class=\"dataframe\">\n",
       "  <thead>\n",
       "    <tr style=\"text-align: right;\">\n",
       "      <th></th>\n",
       "      <th>Name</th>\n",
       "      <th>Mean Absolute Error</th>\n",
       "      <th>Mean Square Error</th>\n",
       "      <th>Root Mean Square Error</th>\n",
       "      <th>R2 Score</th>\n",
       "      <th>Cross Validation Score</th>\n",
       "    </tr>\n",
       "  </thead>\n",
       "  <tbody>\n",
       "    <tr>\n",
       "      <th>0</th>\n",
       "      <td>Linear Regression</td>\n",
       "      <td>419711681523261.6875</td>\n",
       "      <td>15325732959038365974178488647680.0000</td>\n",
       "      <td>3914809440961126.5000</td>\n",
       "      <td>-181715248301848762777600.0000</td>\n",
       "      <td>-52310419771332561393942528.0000</td>\n",
       "    </tr>\n",
       "    <tr>\n",
       "      <th>1</th>\n",
       "      <td>Random Forest</td>\n",
       "      <td>876.9465</td>\n",
       "      <td>1637363.3326</td>\n",
       "      <td>1279.5950</td>\n",
       "      <td>0.9806</td>\n",
       "      <td>0.7353</td>\n",
       "    </tr>\n",
       "    <tr>\n",
       "      <th>2</th>\n",
       "      <td>Decision Tree</td>\n",
       "      <td>3551.7241</td>\n",
       "      <td>24379310.3448</td>\n",
       "      <td>4937.5409</td>\n",
       "      <td>0.7109</td>\n",
       "      <td>0.5703</td>\n",
       "    </tr>\n",
       "    <tr>\n",
       "      <th>3</th>\n",
       "      <td>Bayesian Ridge</td>\n",
       "      <td>1709.0295</td>\n",
       "      <td>4740035.8410</td>\n",
       "      <td>2177.1623</td>\n",
       "      <td>0.9438</td>\n",
       "      <td>0.7979</td>\n",
       "    </tr>\n",
       "    <tr>\n",
       "      <th>4</th>\n",
       "      <td>K Nearest Neighbour</td>\n",
       "      <td>2440.6130</td>\n",
       "      <td>11482758.6207</td>\n",
       "      <td>3388.6219</td>\n",
       "      <td>0.8639</td>\n",
       "      <td>0.6771</td>\n",
       "    </tr>\n",
       "    <tr>\n",
       "      <th>5</th>\n",
       "      <td>Voting Regressor</td>\n",
       "      <td>2183.6730</td>\n",
       "      <td>8732433.2722</td>\n",
       "      <td>2955.0691</td>\n",
       "      <td>0.8965</td>\n",
       "      <td>0.7830</td>\n",
       "    </tr>\n",
       "  </tbody>\n",
       "</table>\n",
       "</div>"
      ],
      "text/plain": [
       "                  Name   Mean Absolute Error  \\\n",
       "0    Linear Regression  419711681523261.6875   \n",
       "1        Random Forest              876.9465   \n",
       "2        Decision Tree             3551.7241   \n",
       "3       Bayesian Ridge             1709.0295   \n",
       "4  K Nearest Neighbour             2440.6130   \n",
       "5     Voting Regressor             2183.6730   \n",
       "\n",
       "                       Mean Square Error Root Mean Square Error  \\\n",
       "0  15325732959038365974178488647680.0000  3914809440961126.5000   \n",
       "1                           1637363.3326              1279.5950   \n",
       "2                          24379310.3448              4937.5409   \n",
       "3                           4740035.8410              2177.1623   \n",
       "4                          11482758.6207              3388.6219   \n",
       "5                           8732433.2722              2955.0691   \n",
       "\n",
       "                         R2 Score            Cross Validation Score  \n",
       "0  -181715248301848762777600.0000  -52310419771332561393942528.0000  \n",
       "1                          0.9806                            0.7353  \n",
       "2                          0.7109                            0.5703  \n",
       "3                          0.9438                            0.7979  \n",
       "4                          0.8639                            0.6771  \n",
       "5                          0.8965                            0.7830  "
      ]
     },
     "execution_count": 119,
     "metadata": {},
     "output_type": "execute_result"
    }
   ],
   "source": [
    "model_eval"
   ]
  },
  {
   "cell_type": "markdown",
   "id": "Y7yBrPGiOWtS",
   "metadata": {
    "id": "Y7yBrPGiOWtS"
   },
   "source": []
  }
 ],
 "metadata": {
  "colab": {
   "collapsed_sections": [],
   "name": "CSE 4108 Project.ipynb",
   "provenance": [],
   "toc_visible": true
  },
  "kernelspec": {
   "display_name": "Python 3 (ipykernel)",
   "language": "python",
   "name": "python3"
  },
  "language_info": {
   "codemirror_mode": {
    "name": "ipython",
    "version": 3
   },
   "file_extension": ".py",
   "mimetype": "text/x-python",
   "name": "python",
   "nbconvert_exporter": "python",
   "pygments_lexer": "ipython3",
   "version": "3.9.7"
  }
 },
 "nbformat": 4,
 "nbformat_minor": 5
}
